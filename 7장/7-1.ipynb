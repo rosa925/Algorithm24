{
 "cells": [
  {
   "cell_type": "code",
   "execution_count": 1,
   "metadata": {},
   "outputs": [],
   "source": [
    "def fib_dp_mem(n) :\n",
    "    if( mem[n] == None ) :\n",
    "        if n < 2 :\n",
    "            mem[n] = n\n",
    "        else:\n",
    "            mem[n] = fib_dp_mem(n-1) + fib_dp_mem(n-2)\n",
    "    return mem[n]"
   ]
  }
 ],
 "metadata": {
  "kernelspec": {
   "display_name": "base",
   "language": "python",
   "name": "python3"
  },
  "language_info": {
   "codemirror_mode": {
    "name": "ipython",
    "version": 3
   },
   "file_extension": ".py",
   "mimetype": "text/x-python",
   "name": "python",
   "nbconvert_exporter": "python",
   "pygments_lexer": "ipython3",
   "version": "3.12.2"
  }
 },
 "nbformat": 4,
 "nbformat_minor": 2
}
