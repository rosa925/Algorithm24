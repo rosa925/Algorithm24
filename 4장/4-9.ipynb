{
 "cells": [
  {
   "cell_type": "code",
   "execution_count": 2,
   "metadata": {},
   "outputs": [
    {
     "ename": "NameError",
     "evalue": "name 'multMat' is not defined",
     "output_type": "error",
     "traceback": [
      "\u001b[1;31m---------------------------------------------------------------------------\u001b[0m",
      "\u001b[1;31mNameError\u001b[0m                                 Traceback (most recent call last)",
      "Cell \u001b[1;32mIn[2], line 11\u001b[0m\n\u001b[0;32m      8\u001b[0m     \u001b[38;5;28;01melse\u001b[39;00m :\n\u001b[0;32m      9\u001b[0m         \u001b[38;5;28;01mreturn\u001b[39;00m multMat(x, powerMat(multMat(x,x), (n \u001b[38;5;241m-\u001b[39m \u001b[38;5;241m1\u001b[39m) \u001b[38;5;241m/\u001b[39m\u001b[38;5;241m/\u001b[39m \u001b[38;5;241m2\u001b[39m))\n\u001b[1;32m---> 11\u001b[0m \u001b[38;5;28mprint\u001b[39m(\u001b[38;5;124m\"\u001b[39m\u001b[38;5;124m억지기법(2**500)=\u001b[39m\u001b[38;5;124m\"\u001b[39m, \u001b[43mpowerMat\u001b[49m\u001b[43m(\u001b[49m\u001b[38;5;241;43m2.0\u001b[39;49m\u001b[43m,\u001b[49m\u001b[43m \u001b[49m\u001b[38;5;241;43m500\u001b[39;49m\u001b[43m)\u001b[49m)\n\u001b[0;32m     12\u001b[0m \u001b[38;5;28mprint\u001b[39m(\u001b[38;5;124m\"\u001b[39m\u001b[38;5;124m축소정복기법(2**508) =\u001b[39m\u001b[38;5;124m\"\u001b[39m, multMat(\u001b[38;5;241m2.0\u001b[39m, \u001b[38;5;241m508\u001b[39m))\n\u001b[0;32m     14\u001b[0m t1 \u001b[38;5;241m=\u001b[39m time\u001b[38;5;241m.\u001b[39mtime()\n",
      "Cell \u001b[1;32mIn[2], line 7\u001b[0m, in \u001b[0;36mpowerMat\u001b[1;34m(x, n)\u001b[0m\n\u001b[0;32m      5\u001b[0m     \u001b[38;5;28;01mreturn\u001b[39;00m x\n\u001b[0;32m      6\u001b[0m \u001b[38;5;28;01melif\u001b[39;00m (n\u001b[38;5;241m%\u001b[39m\u001b[38;5;241m2\u001b[39m) \u001b[38;5;241m==\u001b[39m \u001b[38;5;241m0\u001b[39m :\n\u001b[1;32m----> 7\u001b[0m     \u001b[38;5;28;01mreturn\u001b[39;00m powerMat(\u001b[43mmultMat\u001b[49m(x,x), n \u001b[38;5;241m/\u001b[39m\u001b[38;5;241m/\u001b[39m \u001b[38;5;241m2\u001b[39m)\n\u001b[0;32m      8\u001b[0m \u001b[38;5;28;01melse\u001b[39;00m :\n\u001b[0;32m      9\u001b[0m     \u001b[38;5;28;01mreturn\u001b[39;00m multMat(x, powerMat(multMat(x,x), (n \u001b[38;5;241m-\u001b[39m \u001b[38;5;241m1\u001b[39m) \u001b[38;5;241m/\u001b[39m\u001b[38;5;241m/\u001b[39m \u001b[38;5;241m2\u001b[39m))\n",
      "\u001b[1;31mNameError\u001b[0m: name 'multMat' is not defined"
     ]
    }
   ],
   "source": [
    "import time\n",
    "\n",
    "def powerMat(x, n) :\n",
    "    if n == 1 :\n",
    "        return x\n",
    "    elif (n%2) == 0 :\n",
    "        return powerMat(multMat(x,x), n // 2)\n",
    "    else :\n",
    "        return multMat(x, powerMat(multMat(x,x), (n - 1) // 2))\n",
    "    \n",
    "print(\"억지기법(2**500)=\", powerMat(2.0, 500))\n",
    "print(\"축소정복기법(2**508) =\", multMat(2.0, 508))\n",
    "\n",
    "t1 = time.time()\n",
    "for i in range(100000) : powerMat(2.0, 500)\n",
    "t2 = time.time()\n",
    "for i in range(100000) : multMat(2.0, 500)\n",
    "t3 = time.time()\n",
    "\n",
    "print(\"억지기법 시간... \", t3-t2)\n",
    "print(\"축소정복기법 시간... \", t2-t1)"
   ]
  }
 ],
 "metadata": {
  "kernelspec": {
   "display_name": "Python 3",
   "language": "python",
   "name": "python3"
  },
  "language_info": {
   "codemirror_mode": {
    "name": "ipython",
    "version": 3
   },
   "file_extension": ".py",
   "mimetype": "text/x-python",
   "name": "python",
   "nbconvert_exporter": "python",
   "pygments_lexer": "ipython3",
   "version": "3.11.9"
  }
 },
 "nbformat": 4,
 "nbformat_minor": 2
}
