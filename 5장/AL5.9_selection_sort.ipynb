{
 "cells": [
  {
   "cell_type": "markdown",
   "metadata": {},
   "source": [
    "#### 1) 문제 정의 (MD)"
   ]
  },
  {
   "cell_type": "markdown",
   "metadata": {},
   "source": [
    "정렬된 2개의 리스트를 병합하여 병합 결과를 임시 리스트 안에 저장하는 문제이다."
   ]
  },
  {
   "cell_type": "markdown",
   "metadata": {},
   "source": [
    "#### 2) 알고리즘 설명  (MD)"
   ]
  },
  {
   "cell_type": "markdown",
   "metadata": {},
   "source": [
    "##### 각 리스트의 첫번째 항목부터 오른쪽으로 시작, 두 리스트의 항목A[i]와 A[j]를 비교하여 더 작은 항목 먼저 새로운 리스트에 복사한다.\n",
    "##### A[i] > A[j]인 경우 A[j]를 복사하여 인덱스 j와 임시 리시트의 인덱스k를 증가\n",
    "##### A[i] <= A[j]인 경우 A[i]를 암시 리스트 sorted[k]로 복사한 후 i와 k를 증가\n",
    "##### 다른 리스트의 남은 항목들은 모두 c로 복사"
   ]
  },
  {
   "cell_type": "markdown",
   "metadata": {},
   "source": [
    "####  3) 손으로 푼 예제 (MD, 이미지 삽입)"
   ]
  },
  {
   "cell_type": "markdown",
   "metadata": {},
   "source": [
    "![image.png](attachment:image.png)"
   ]
  },
  {
   "cell_type": "markdown",
   "metadata": {},
   "source": [
    "#### 4) 알고리즘 개요(입력 변수, 출력, 알고리즘 개요) (MD)"
   ]
  },
  {
   "cell_type": "markdown",
   "metadata": {},
   "source": [
    "##### 함수명:merge(A, left, mid, right) , merge_sort(A, left, right)\n",
    "##### 입력 값:data = [5, 3, 8, 4, 9, 1, 6, 2, 7]\n",
    "##### 출력 값:print(\"Original:\", data), print(:\"MergeSort:\",data)"
   ]
  },
  {
   "cell_type": "markdown",
   "metadata": {},
   "source": [
    "#### 5) 알고리즘 코드 (PY,C)"
   ]
  },
  {
   "cell_type": "code",
   "execution_count": null,
   "metadata": {},
   "outputs": [],
   "source": [
    "def merge(A, left, mid, right):\n",
    "    k = left\n",
    "    i = left\n",
    "    j = mid + 1\n",
    "    while i <= mid and j <= right:\n",
    "        if A[i] <= A[j]:\n",
    "            temp[k] = A[i]\n",
    "            i, k = i + 1, k + 1\n",
    "        else:\n",
    "            temp[k] = A[j]\n",
    "            j, k = j + 1, k + 1\n",
    "\n",
    "    if i > mid:\n",
    "        temp[k:k + right - j + 1] = A[j:right + 1]\n",
    "    else:\n",
    "        temp[k:k + mid - i + 1] = A[i:mid + 1]\n",
    "\n",
    "    A[left:right + 1] = temp[left:right + 1]\n",
    "\n",
    "def merge_sort(A, left, right):\n",
    "    if left < right:\n",
    "        mid = (left + right) // 2\n",
    "        merge_sort(A, left, mid)\n",
    "        merge_sort(A, mid + 1, right)\n",
    "\n",
    "        merge(A, left, mid, right)"
   ]
  },
  {
   "cell_type": "markdown",
   "metadata": {},
   "source": [
    "#### 6) 테스트 코드  (PY,C) , 입력을 바꾸어서"
   ]
  },
  {
   "cell_type": "code",
   "execution_count": null,
   "metadata": {},
   "outputs": [
    {
     "name": "stdout",
     "output_type": "stream",
     "text": [
      "Original: [5, 6, 8, 4, 7, 3, 9, 1, 2]\n",
      "Merge Sorted: [1, 2, 3, 4, 5, 6, 7, 8, 9]\n"
     ]
    }
   ],
   "source": [
    "def merge(A, left, mid, right):\n",
    "    k = left\n",
    "    i = left\n",
    "    j = mid + 1\n",
    "    while i <= mid and j <= right:\n",
    "        if A[i] <= A[j]:\n",
    "            temp[k] = A[i]\n",
    "            i, k = i + 1, k + 1\n",
    "        else:\n",
    "            temp[k] = A[j]\n",
    "            j, k = j + 1, k + 1\n",
    "\n",
    "    if i > mid:\n",
    "        temp[k:k + right - j + 1] = A[j:right + 1]\n",
    "    else:\n",
    "        temp[k:k + mid - i + 1] = A[i:mid + 1]\n",
    "\n",
    "    A[left:right + 1] = temp[left:right + 1]\n",
    "\n",
    "def merge_sort(A, left, right):\n",
    "    if left < right:\n",
    "        mid = (left + right) // 2\n",
    "        merge_sort(A, left, mid)\n",
    "        merge_sort(A, mid + 1, right)\n",
    "\n",
    "        merge(A, left, mid, right)\n",
    "\n",
    "#data = [5, 3, 8, 4, 9, 1, 6, 2, 7]\n",
    "data = [5, 6, 8, 4, 7, 3, 9, 1, 2]\n",
    "temp = [0] * len(data)\n",
    "print(\"Original:\", data)\n",
    "merge_sort(data, 0, len(data) - 1)\n",
    "print(\"Merge Sorted:\", data)"
   ]
  },
  {
   "cell_type": "markdown",
   "metadata": {},
   "source": [
    "#### 7) 수행 결과 (MD, 결과 캡춰하여 이미지로 삽입)"
   ]
  },
  {
   "cell_type": "markdown",
   "metadata": {},
   "source": [
    "#### 8) 복잡도 분석"
   ]
  },
  {
   "cell_type": "markdown",
   "metadata": {},
   "source": [
    "이 알고리즘의 복잡도는 O(n log 2n)이다."
   ]
  },
  {
   "cell_type": "markdown",
   "metadata": {},
   "source": [
    "#### 9) 조별 협력 내용 (상호 지도)"
   ]
  },
  {
   "cell_type": "markdown",
   "metadata": {},
   "source": [
    "각자 푸는 단계에 대해 이해를 못하는 부분이 있으면 실습시간에 서로 물어보면서 문제를 풀어나갔습니다."
   ]
  }
 ],
 "metadata": {
  "language_info": {
   "name": "python"
  }
 },
 "nbformat": 4,
 "nbformat_minor": 2
}
