{
 "cells": [
  {
   "cell_type": "code",
   "execution_count": 36,
   "metadata": {},
   "outputs": [],
   "source": [
    "def closest_pair(p):\n",
    "    n=len(p)\n",
    "    mindist=float(\"inf\")\n",
    "    for i in range(n-1):\n",
    "        for j in range(i+1, n):\n",
    "            dist = distance(p[i], p[j])\n",
    "            if dist < mindist:\n",
    "                mindist=dist\n",
    "    return mindist"
   ]
  },
  {
   "cell_type": "code",
   "execution_count": 39,
   "metadata": {},
   "outputs": [],
   "source": [
    "def closest_pair_dist(P, n):\n",
    "    if n <= 3:\n",
    "        return closest_pair(P)\n",
    "    \n",
    "    mid = n // 2\n",
    "    mid_X = P[mid][0]\n",
    "\n",
    "    dl = closest_pair_dist(P[:mid], mid)\n",
    "    dr = closest_pair_dist(P[mid:], n-mid)\n",
    "    d = min(dl, dr)\n",
    "\n",
    "    Pm = []\n",
    "    for i in range(n):\n",
    "        if abs(P[i][0] - mid_x) < d:\n",
    "            Pm.append(P[i])\n",
    "\n",
    "    ds = strip_closest(Pm, d)\n",
    "    return ds"
   ]
  },
  {
   "cell_type": "code",
   "execution_count": 40,
   "metadata": {},
   "outputs": [
    {
     "ename": "NameError",
     "evalue": "name 'distance' is not defined",
     "output_type": "error",
     "traceback": [
      "\u001b[1;31m---------------------------------------------------------------------------\u001b[0m",
      "\u001b[1;31mNameError\u001b[0m                                 Traceback (most recent call last)",
      "Cell \u001b[1;32mIn[40], line 3\u001b[0m\n\u001b[0;32m      1\u001b[0m p \u001b[38;5;241m=\u001b[39m [(\u001b[38;5;241m2\u001b[39m, \u001b[38;5;241m3\u001b[39m), (\u001b[38;5;241m12\u001b[39m, \u001b[38;5;241m30\u001b[39m), (\u001b[38;5;241m40\u001b[39m, \u001b[38;5;241m50\u001b[39m), (\u001b[38;5;241m5\u001b[39m, \u001b[38;5;241m1\u001b[39m), (\u001b[38;5;241m12\u001b[39m, \u001b[38;5;241m10\u001b[39m), (\u001b[38;5;241m3\u001b[39m, \u001b[38;5;241m4\u001b[39m)]\n\u001b[0;32m      2\u001b[0m p\u001b[38;5;241m.\u001b[39msort(key \u001b[38;5;241m=\u001b[39m \u001b[38;5;28;01mlambda\u001b[39;00m point: point[\u001b[38;5;241m0\u001b[39m])\n\u001b[1;32m----> 3\u001b[0m \u001b[38;5;28mprint\u001b[39m(\u001b[38;5;124m\"\u001b[39m\u001b[38;5;124m가장 가까운 두 점의 거리\u001b[39m\u001b[38;5;124m\"\u001b[39m, \u001b[43mclosest_pair_dist\u001b[49m\u001b[43m(\u001b[49m\u001b[43mp\u001b[49m\u001b[43m,\u001b[49m\u001b[43m \u001b[49m\u001b[38;5;28;43mlen\u001b[39;49m\u001b[43m(\u001b[49m\u001b[43mp\u001b[49m\u001b[43m)\u001b[49m\u001b[43m)\u001b[49m)\n",
      "Cell \u001b[1;32mIn[39], line 8\u001b[0m, in \u001b[0;36mclosest_pair_dist\u001b[1;34m(P, n)\u001b[0m\n\u001b[0;32m      5\u001b[0m mid \u001b[38;5;241m=\u001b[39m n \u001b[38;5;241m/\u001b[39m\u001b[38;5;241m/\u001b[39m \u001b[38;5;241m2\u001b[39m\n\u001b[0;32m      6\u001b[0m mid_X \u001b[38;5;241m=\u001b[39m P[mid][\u001b[38;5;241m0\u001b[39m]\n\u001b[1;32m----> 8\u001b[0m dl \u001b[38;5;241m=\u001b[39m \u001b[43mclosest_pair_dist\u001b[49m\u001b[43m(\u001b[49m\u001b[43mP\u001b[49m\u001b[43m[\u001b[49m\u001b[43m:\u001b[49m\u001b[43mmid\u001b[49m\u001b[43m]\u001b[49m\u001b[43m,\u001b[49m\u001b[43m \u001b[49m\u001b[43mmid\u001b[49m\u001b[43m)\u001b[49m\n\u001b[0;32m      9\u001b[0m dr \u001b[38;5;241m=\u001b[39m closest_pair_dist(P[mid:], n\u001b[38;5;241m-\u001b[39mmid)\n\u001b[0;32m     10\u001b[0m d \u001b[38;5;241m=\u001b[39m \u001b[38;5;28mmin\u001b[39m(dl, dr)\n",
      "Cell \u001b[1;32mIn[39], line 3\u001b[0m, in \u001b[0;36mclosest_pair_dist\u001b[1;34m(P, n)\u001b[0m\n\u001b[0;32m      1\u001b[0m \u001b[38;5;28;01mdef\u001b[39;00m \u001b[38;5;21mclosest_pair_dist\u001b[39m(P, n):\n\u001b[0;32m      2\u001b[0m     \u001b[38;5;28;01mif\u001b[39;00m n \u001b[38;5;241m<\u001b[39m\u001b[38;5;241m=\u001b[39m \u001b[38;5;241m3\u001b[39m:\n\u001b[1;32m----> 3\u001b[0m         \u001b[38;5;28;01mreturn\u001b[39;00m \u001b[43mclosest_pair\u001b[49m\u001b[43m(\u001b[49m\u001b[43mP\u001b[49m\u001b[43m)\u001b[49m\n\u001b[0;32m      5\u001b[0m     mid \u001b[38;5;241m=\u001b[39m n \u001b[38;5;241m/\u001b[39m\u001b[38;5;241m/\u001b[39m \u001b[38;5;241m2\u001b[39m\n\u001b[0;32m      6\u001b[0m     mid_X \u001b[38;5;241m=\u001b[39m P[mid][\u001b[38;5;241m0\u001b[39m]\n",
      "Cell \u001b[1;32mIn[36], line 6\u001b[0m, in \u001b[0;36mclosest_pair\u001b[1;34m(p)\u001b[0m\n\u001b[0;32m      4\u001b[0m \u001b[38;5;28;01mfor\u001b[39;00m i \u001b[38;5;129;01min\u001b[39;00m \u001b[38;5;28mrange\u001b[39m(n\u001b[38;5;241m-\u001b[39m\u001b[38;5;241m1\u001b[39m):\n\u001b[0;32m      5\u001b[0m     \u001b[38;5;28;01mfor\u001b[39;00m j \u001b[38;5;129;01min\u001b[39;00m \u001b[38;5;28mrange\u001b[39m(i\u001b[38;5;241m+\u001b[39m\u001b[38;5;241m1\u001b[39m, n):\n\u001b[1;32m----> 6\u001b[0m         dist \u001b[38;5;241m=\u001b[39m \u001b[43mdistance\u001b[49m(p[i], p[j])\n\u001b[0;32m      7\u001b[0m         \u001b[38;5;28;01mif\u001b[39;00m dist \u001b[38;5;241m<\u001b[39m mindist:\n\u001b[0;32m      8\u001b[0m             mindist\u001b[38;5;241m=\u001b[39mdist\n",
      "\u001b[1;31mNameError\u001b[0m: name 'distance' is not defined"
     ]
    }
   ],
   "source": [
    "p = [(2, 3), (12, 30), (40, 50), (5, 1), (12, 10), (3, 4)]\n",
    "p.sort(key = lambda point: point[0])\n",
    "print(\"가장 가까운 두 점의 거리\", closest_pair_dist(p, len(p)))"
   ]
  }
 ],
 "metadata": {
  "kernelspec": {
   "display_name": "Python 3",
   "language": "python",
   "name": "python3"
  },
  "language_info": {
   "codemirror_mode": {
    "name": "ipython",
    "version": 3
   },
   "file_extension": ".py",
   "mimetype": "text/x-python",
   "name": "python",
   "nbconvert_exporter": "python",
   "pygments_lexer": "ipython3",
   "version": "3.12.2"
  }
 },
 "nbformat": 4,
 "nbformat_minor": 2
}
