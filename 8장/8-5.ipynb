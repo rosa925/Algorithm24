{
 "cells": [
  {
   "cell_type": "code",
   "execution_count": 1,
   "metadata": {},
   "outputs": [],
   "source": [
    "INF = 9999\n",
    "\n",
    "def getMinVertex(dist, selected):\n",
    "    minv = -1\n",
    "    mindist = INF\n",
    "    for v in range(len(dist)):\n",
    "        if not selected[v] and dist[v] < mindist:\n",
    "            mindist = dist[v]\n",
    "            minv = v\n",
    "    return minv\n",
    "\n",
    "def MSTPrim(vertex, adj):\n",
    "    vsize = len(vertex)\n",
    "    dist = [INF] * vsize\n",
    "    selected = [False] * vsize\n",
    "    dist[0] = 0 \n",
    "\n",
    "    for i in range(vsize):\n",
    "        u = getMinVertex(dist, selected)\n",
    "        selected[u] = True\n",
    "        print(f\"{vertex[u]}:{dist}\")\n",
    "\n",
    "        for v in range(vsize):\n",
    "            if adj[u][v] is not None:\n",
    "                if not selected[v] and adj[u][v] < dist[v]:\n",
    "                    dist[v] = adj[u][v]"
   ]
  },
  {
   "cell_type": "code",
   "execution_count": 2,
   "metadata": {},
   "outputs": [
    {
     "name": "stdout",
     "output_type": "stream",
     "text": [
      "MST By Prim's Algorithm\n",
      "A:[0, 9999, 9999, 9999, 9999, 9999, 9999]\n",
      "F:[0, 29, 9999, 9999, 9999, 10, 9999]\n",
      "E:[0, 29, 9999, 9999, 27, 10, 9999]\n",
      "D:[0, 29, 9999, 22, 27, 10, 25]\n",
      "C:[0, 29, 12, 22, 27, 10, 18]\n",
      "B:[0, 16, 12, 22, 27, 10, 18]\n",
      "G:[0, 16, 12, 22, 27, 10, 15]\n"
     ]
    }
   ],
   "source": [
    "vertex = ['A', 'B', 'C', 'D', 'E', 'F', 'G']\n",
    "weight = [\n",
    "    [None, 29, None, None, None, 10, None],\n",
    "    [29, None, 16, None, None, None, 15],\n",
    "    [None, 16, None, 12, None, None, None],\n",
    "    [None, None, 12, None, 22, None, 18],\n",
    "    [None, None, None, 22, None, 27, 25],\n",
    "    [10, None, None, None, 27, None, None],\n",
    "    [None, 15, None, 18, 25, None, None]\n",
    "]\n",
    "\n",
    "print(\"MST By Prim's Algorithm\")\n",
    "MSTPrim(vertex, weight)"
   ]
  }
 ],
 "metadata": {
  "kernelspec": {
   "display_name": "base",
   "language": "python",
   "name": "python3"
  },
  "language_info": {
   "codemirror_mode": {
    "name": "ipython",
    "version": 3
   },
   "file_extension": ".py",
   "mimetype": "text/x-python",
   "name": "python",
   "nbconvert_exporter": "python",
   "pygments_lexer": "ipython3",
   "version": "3.11.9"
  }
 },
 "nbformat": 4,
 "nbformat_minor": 2
}
