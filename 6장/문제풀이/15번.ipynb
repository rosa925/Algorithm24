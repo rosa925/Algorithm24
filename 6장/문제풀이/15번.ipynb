{
 "cells": [
  {
   "cell_type": "markdown",
   "metadata": {},
   "source": [
    "(1) 다음과 같은 염기서열에 대한 시프트 테이블을 구성하라."
   ]
  },
  {
   "cell_type": "code",
   "execution_count": null,
   "metadata": {
    "vscode": {
     "languageId": "plaintext"
    }
   },
   "outputs": [],
   "source": [
    "def build_shift_table(pattern):\n",
    "    m = len(pattern)\n",
    "    shift_table = {char: m for char in \"ACGT\"}  # 모든 문자는 패턴 길이만큼 시프트\n",
    "    for i in range(m - 1):\n",
    "        shift_table[pattern[i]] = m - i - 1\n",
    "    return shift_table\n",
    "\n",
    "def horspool_search(text, pattern):\n",
    "    m = len(pattern)\n",
    "    n = len(text)\n",
    "    shift_table = build_shift_table(pattern)\n",
    "    \n",
    "    i = m - 1  # 패턴의 마지막 문자 인덱스\n",
    "    while i < n:\n",
    "        k = 0\n",
    "        while k < m and pattern[m - 1 - k] == text[i - k]:\n",
    "            k += 1\n",
    "        if k == m:\n",
    "            return i - m + 1  # 패턴이 시작되는 인덱스\n",
    "        else:\n",
    "            i += shift_table.get(text[i], m)\n",
    "    return -1  # 패턴을 찾을 수 없음\n",
    "\n",
    "# 패턴과 텍스트 설정\n",
    "pattern = \"TCCTATTCTT\"\n",
    "text = \"TTATAGATCTCGTATTCTTTTATAGATCTCCTATTCTT\"\n",
    "\n",
    "# 시프트 테이블 생성 및 출력\n",
    "shift_table = build_shift_table(pattern)\n",
    "print(\"시프트 테이블:\", shift_table)\n",
    "\n",
    "# 호스풀 알고리즘으로 검색 수행\n",
    "index = horspool_search(text, pattern)\n",
    "print(\"패턴의 시작 인덱스:\", index)  # 출력: 패턴의 시작 인덱스: 28"
   ]
  },
  {
   "cell_type": "code",
   "execution_count": null,
   "metadata": {
    "vscode": {
     "languageId": "plaintext"
    }
   },
   "outputs": [],
   "source": []
  }
 ],
 "metadata": {
  "language_info": {
   "name": "python"
  }
 },
 "nbformat": 4,
 "nbformat_minor": 2
}
