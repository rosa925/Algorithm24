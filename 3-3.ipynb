{
 "cells": [
  {
   "cell_type": "code",
   "execution_count": 7,
   "metadata": {},
   "outputs": [
    {
     "name": "stdout",
     "output_type": "stream",
     "text": [
      "LO in HELLO WORLD --> -1\n",
      "HI in HELLO WORLD --> -1\n"
     ]
    }
   ],
   "source": [
    "def string_matching(T, P):\n",
    "    n = len(T)\n",
    "    m = len(P)\n",
    "    for i in range(n-m+1) :\n",
    "        j = 0\n",
    "    while j < m and P[j]==T[i+j] :\n",
    "        j = j + 1\n",
    "    if j == m :\n",
    "        return i\n",
    "    return -1\n",
    "\n",
    "text = 'HELLO WORLD'\n",
    "pattern = 'LO'\n",
    "print(pattern, 'in', text, '-->', string_matching(text, pattern))\n",
    "pattern = 'HI'\n",
    "print(pattern, 'in', text, '-->', string_matching(text, pattern))"
   ]
  }
 ],
 "metadata": {
  "kernelspec": {
   "display_name": "Python 3",
   "language": "python",
   "name": "python3"
  },
  "language_info": {
   "codemirror_mode": {
    "name": "ipython",
    "version": 3
   },
   "file_extension": ".py",
   "mimetype": "text/x-python",
   "name": "python",
   "nbconvert_exporter": "python",
   "pygments_lexer": "ipython3",
   "version": "3.12.2"
  }
 },
 "nbformat": 4,
 "nbformat_minor": 2
}
