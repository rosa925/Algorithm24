{
 "cells": [
  {
   "cell_type": "markdown",
   "metadata": {},
   "source": [
    "(1) 다음과 같은 염기서열에 대한 시프트 테이블을 구성하라.\n",
    "TCCTATTCTT"
   ]
  },
  {
   "cell_type": "code",
   "execution_count": 4,
   "metadata": {},
   "outputs": [
    {
     "name": "stdout",
     "output_type": "stream",
     "text": [
      "시프트 테이블: {'A': 5, 'C': 2, 'G': 10, 'T': 1}\n"
     ]
    }
   ],
   "source": [
    "def build_shift_table(pattern):\n",
    "    m = len(pattern)\n",
    "    shift_table = {char: m for char in \"ACGT\"}  # 'ACGT'에 대해서만 초기화\n",
    "    \n",
    "    for i in range(m - 1):\n",
    "        shift_table[pattern[i]] = m - i - 1\n",
    "    \n",
    "    return shift_table\n",
    "\n",
    "pattern = \"TCCTATTCTT\"\n",
    "\n",
    "# 시프트 테이블 생성 및 출력\n",
    "shift_table = build_shift_table(pattern)\n",
    "print(\"시프트 테이블:\", shift_table)"
   ]
  },
  {
   "cell_type": "markdown",
   "metadata": {},
   "source": [
    "(2)호스풀 알고리즘을 이용해 다음 DNA 시퀀스에서 위의 염기서열을 찾아라.\n",
    "TTATAGATCTCGTATTCTTTTATAGATCTCCTATTCTT"
   ]
  },
  {
   "cell_type": "code",
   "execution_count": 6,
   "metadata": {},
   "outputs": [
    {
     "name": "stdout",
     "output_type": "stream",
     "text": [
      "패턴의 시작 인덱스: 28\n"
     ]
    }
   ],
   "source": [
    "def horspool_search(text, pattern):\n",
    "    m = len(pattern)\n",
    "    n = len(text)\n",
    "    shift_table = build_shift_table(pattern)\n",
    "    \n",
    "    i = m - 1\n",
    "    while i < n:\n",
    "        k = 0\n",
    "        while k < m and pattern[m - 1 - k] == text[i - k]:\n",
    "            k += 1\n",
    "        if k == m:\n",
    "            return i - m + 1\n",
    "        else:\n",
    "            i += shift_table.get(text[i], m)\n",
    "    return -1\n",
    "\n",
    "# 패턴과 텍스트\n",
    "pattern = \"TCCTATTCTT\"\n",
    "text = \"TTATAGATCTCGTATTCTTTTATAGATCTCCTATTCTT\"\n",
    "\n",
    "# 호스풀 알고리즘으로 검색\n",
    "index = horspool_search(text, pattern)\n",
    "print(\"패턴의 시작 인덱스:\", index)"
   ]
  }
 ],
 "metadata": {
  "kernelspec": {
   "display_name": "base",
   "language": "python",
   "name": "python3"
  },
  "language_info": {
   "codemirror_mode": {
    "name": "ipython",
    "version": 3
   },
   "file_extension": ".py",
   "mimetype": "text/x-python",
   "name": "python",
   "nbconvert_exporter": "python",
   "pygments_lexer": "ipython3",
   "version": "3.11.7"
  }
 },
 "nbformat": 4,
 "nbformat_minor": 2
}
