{
 "cells": [
  {
   "cell_type": "code",
   "execution_count": 1,
   "metadata": {},
   "outputs": [
    {
     "name": "stdout",
     "output_type": "stream",
     "text": [
      "Original: [5, 3, 8, 4, 9, 1, 6, 2, 7]\n",
      "step 1 = [3, 5, 8, 4, 9, 1, 6, 2, 7]\n",
      "step 2 = [3, 5, 8, 4, 9, 1, 6, 2, 7]\n",
      "step 3 = [3, 4, 5, 8, 9, 1, 6, 2, 7]\n",
      "step 4 = [3, 4, 5, 8, 9, 1, 6, 2, 7]\n",
      "step 5 = [1, 3, 4, 5, 8, 9, 6, 2, 7]\n",
      "step 6 = [1, 3, 4, 5, 6, 8, 9, 2, 7]\n",
      "step 7 = [1, 2, 3, 4, 5, 6, 8, 9, 7]\n",
      "step 8 = [1, 2, 3, 4, 5, 6, 7, 8, 9]\n",
      "Insertion: [1, 2, 3, 4, 5, 6, 7, 8, 9]\n"
     ]
    }
   ],
   "source": [
    "def printStep(arr, val):\n",
    "    print(\"step %d =\" % val, end=' ')\n",
    "    print(arr)\n",
    "\n",
    "def insertion_sort(A):\n",
    "    n = len(A)\n",
    "    for i in range(1, n):\n",
    "        key = A[i]\n",
    "        j = i - 1\n",
    "        while j >= 0 and A[j] > key:\n",
    "            A[j + 1] = A[j]\n",
    "            j = j - 1\n",
    "        A[j + 1] = key\n",
    "        printStep(A, i)\n",
    "\n",
    "data = [5, 3, 8, 4, 9, 1, 6, 2, 7]\n",
    "print(\"Original:\", data)\n",
    "insertion_sort(data)\n",
    "print(\"Insertion:\", data)"
   ]
  }
 ],
 "metadata": {
  "kernelspec": {
   "display_name": "Python 3",
   "language": "python",
   "name": "python3"
  },
  "language_info": {
   "codemirror_mode": {
    "name": "ipython",
    "version": 3
   },
   "file_extension": ".py",
   "mimetype": "text/x-python",
   "name": "python",
   "nbconvert_exporter": "python",
   "pygments_lexer": "ipython3",
   "version": "3.11.9"
  }
 },
 "nbformat": 4,
 "nbformat_minor": 2
}
