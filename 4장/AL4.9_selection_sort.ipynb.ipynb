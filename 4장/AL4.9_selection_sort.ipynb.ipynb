{
 "cells": [
  {
   "cell_type": "markdown",
   "metadata": {},
   "source": [
    "### 1) 문제 정의 (MD)"
   ]
  },
  {
   "cell_type": "markdown",
   "metadata": {},
   "source": [
    "##### mxm의 정방형 행렬 M의 n-거듭제곱 M^n을 구하라."
   ]
  },
  {
   "cell_type": "markdown",
   "metadata": {},
   "source": [
    "###  2) 알고리즘 설명  (MD)"
   ]
  },
  {
   "cell_type": "markdown",
   "metadata": {},
   "source": [
    "##### 순환적으로 더 작은 부분 문제를 만들고, 이 문제가 바로 해결할 수 있을만큼 작아질 때(n=1)까지 순환적으로 호출한다."
   ]
  },
  {
   "cell_type": "markdown",
   "metadata": {},
   "source": [
    "###  3) 손으로 푼 예제 (MD, 이미지 삽입)"
   ]
  },
  {
   "cell_type": "markdown",
   "metadata": {},
   "source": [
    "### 4) 코드 개요(입력 변수, 출력, 함수 설명) (MD)"
   ]
  },
  {
   "cell_type": "markdown",
   "metadata": {},
   "source": [
    "##### 1) 함수명 : def powerMat(x, n), \n",
    "##### 2) 입력변수 : x, n\n",
    "##### 3) 반환값 : n이 짝수이면 (multMat(x,x), n // 2)를 반환하고, 홀수이면 return multMat(x, powerMat(multMat(x,x), (n - 1) // 2))를 반환한다."
   ]
  },
  {
   "cell_type": "markdown",
   "metadata": {},
   "source": [
    "### 5) 코드 (PY,C)"
   ]
  },
  {
   "cell_type": "code",
   "execution_count": 3,
   "metadata": {},
   "outputs": [],
   "source": [
    "def powerMat(x, n) :\n",
    "    if n == 1 :\n",
    "        return x\n",
    "    elif (n%2) == 0 :\n",
    "        return powerMat(multMat(x,x), n // 2)\n",
    "    else :\n",
    "        return multMat(x, powerMat(multMat(x,x), (n - 1) // 2))"
   ]
  },
  {
   "cell_type": "markdown",
   "metadata": {},
   "source": [
    "### 6) 테스트 코드  (PY,C) , 입력을 바꾸어서"
   ]
  },
  {
   "cell_type": "code",
   "execution_count": 10,
   "metadata": {},
   "outputs": [
    {
     "name": "stdout",
     "output_type": "stream",
     "text": [
      "억지기법(2**500)= None\n",
      "축소정복기법(2**508) = None\n",
      "억지기법 시간...  0.022110939025878906\n",
      "축소정복기법 시간...  0.3201477527618408\n"
     ]
    }
   ],
   "source": [
    "import time\n",
    "\n",
    "def powerMat(x, n) :\n",
    "    if n == 1 :\n",
    "        return x\n",
    "    elif (n%2) == 0 :\n",
    "        return powerMat(multMat(x,x), n // 2)\n",
    "    else :\n",
    "        return multMat(x, powerMat(multMat(x,x), (n - 1) // 2))\n",
    "    \n",
    "print(\"억지기법(2**500)=\", powerMat(2.0, 500))\n",
    "print(\"축소정복기법(2**508) =\", multMat(2.0, 508))\n",
    "\n",
    "t1 = time.time()\n",
    "for i in range(100000) : powerMat(2.0, 500)\n",
    "t2 = time.time()\n",
    "for i in range(100000) : multMat(2.0, 500)\n",
    "t3 = time.time()\n",
    "\n",
    "print(\"억지기법 시간... \", t3-t2)\n",
    "print(\"축소정복기법 시간... \", t2-t1)"
   ]
  },
  {
   "cell_type": "markdown",
   "metadata": {},
   "source": [
    "### 7) 수행 결과 (MD, 결과 캡춰하여 이미지로 삽입)"
   ]
  },
  {
   "cell_type": "markdown",
   "metadata": {},
   "source": [
    "### 8) 복잡도 분석 (MD)"
   ]
  },
  {
   "attachments": {
    "image.png": {
     "image/png": "[encoded data removed]"
    }
   },
   "cell_type": "markdown",
   "metadata": {},
   "source": [
    "##### 행렬의 거듭제곱도 같은 알고리즘 거듭제곱(축소 정복 기법)과 같은 전략을 사용하므로 시간 복잡도는 ![image.png](attachment:image.png)이다."
   ]
  },
  {
   "cell_type": "markdown",
   "metadata": {},
   "source": [
    "### 9) 협력 내용(조별, 팀별)"
   ]
  },
  {
   "cell_type": "markdown",
   "metadata": {},
   "source": [
    "각자 푸는 단계에 대해 이해를 못하는 부분이 있으면 실습시간에 서로 물어보면서 문제를 풀어나갔습니다."
   ]
  }
 ],
 "metadata": {
  "kernelspec": {
   "display_name": "Python 3",
   "language": "python",
   "name": "python3"
  },
  "language_info": {
   "codemirror_mode": {
    "name": "ipython",
    "version": 3
   },
   "file_extension": ".py",
   "mimetype": "text/x-python",
   "name": "python",
   "nbconvert_exporter": "python",
   "pygments_lexer": "ipython3",
   "version": "3.12.2"
  }
 },
 "nbformat": 4,
 "nbformat_minor": 2
}
