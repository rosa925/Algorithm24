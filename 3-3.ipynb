def string_matching(T,P):
    