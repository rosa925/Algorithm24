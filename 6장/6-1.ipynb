{
 "cells": [
  {
   "cell_type": "code",
   "execution_count": 2,
   "metadata": {},
   "outputs": [],
   "source": [
    "from queue import Queue\n",
    "def radix_sort(A) :\n",
    "    queues = []\n",
    "    for i in range(BUCKETS) :\n",
    "        queues.append(Queue())\n",
    "\n",
    "    n = len(A)\n",
    "    factor = 1\n",
    "    for d in range(DIGITS) :\n",
    "        for i in range(n) : \n",
    "            queues[(A[i]//factor) % BUCKETS].put(A[i])\n",
    "        j = 0\n",
    "        for b in range(BUCKETS) :\n",
    "            while not queues[b].empty() :\n",
    "                A[j] = queues[b].get()\n",
    "                j += 1\n",
    "        factor *= BUCKETS\n",
    "        print(\"step\", d+1, A)"
   ]
  }
 ],
 "metadata": {
  "kernelspec": {
   "display_name": "base",
   "language": "python",
   "name": "python3"
  },
  "language_info": {
   "codemirror_mode": {
    "name": "ipython",
    "version": 3
   },
   "file_extension": ".py",
   "mimetype": "text/x-python",
   "name": "python",
   "nbconvert_exporter": "python",
   "pygments_lexer": "ipython3",
   "version": "3.11.7"
  }
 },
 "nbformat": 4,
 "nbformat_minor": 2
}
