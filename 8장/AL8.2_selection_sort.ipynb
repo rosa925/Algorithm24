{
 "cells": [
  {
   "cell_type": "markdown",
   "metadata": {},
   "source": [
    "#### 1) 문제 정의 (MD)"
   ]
  },
  {
   "cell_type": "markdown",
   "metadata": {},
   "source": [
    "각각 무게가 wt이고 가치가 ual인 n개의 물건들이 있고, 이것을 배낭에 넣으려고 한디. 이때 배낭에 넣을 수 있는 용량은 W를 초과하지 않아야 한다. 물건들의 가치의 합이 최대가 되도록 배낭을 채우고 이때 배낭의 최대 가치를 구하라. 단 물건들은 분할해서 일부분만을 넣을 수 있다."
   ]
  },
  {
   "cell_type": "markdown",
   "metadata": {},
   "source": [
    "#### 2) 알고리즘 설명  (MD)"
   ]
  },
  {
   "cell_type": "markdown",
   "metadata": {},
   "source": [
    "탐욕적 기법: 모든 경우를 모두 고려해 보고 가장 좋은 답을 찾는 것이 아니라 어떤 결정을 해야 할때 그 순간의 최적이라고 생각하는 것을 선택하는 방법이다."
   ]
  },
  {
   "cell_type": "markdown",
   "metadata": {},
   "source": [
    "####  3) 손으로 푼 예제 (MD, 이미지 삽입)"
   ]
  },
  {
   "cell_type": "markdown",
   "metadata": {},
   "source": [
    "#### 4) 알고리즘 개요(입력 변수, 출력, 알고리즘 개요) (MD)"
   ]
  },
  {
   "cell_type": "markdown",
   "metadata": {},
   "source": [
    "##### 함수명: def knapSack_fractional_greedy(obj, W):\n",
    "##### 입력 변수: obj1 = [(\"A\", 10, 80), (\"B\", 12, 120), (\"C\", 8, 60)], obj2 = [(\"A\", 10, 60), (\"B\", 40, 40), (\"C\", 20, 100), (\"D\", 30, 120)]\n",
    "##### 출력: print(\"부분적인 배낭 최대 가치 (용량 18):\", knapSack_fractional_greedy(obj1, 18), end='\\n\\n'), print(\"부분적인 배낭 최대 가치 (용량 50):\", knapSack_fractional_greedy(obj2, 50))"
   ]
  },
  {
   "cell_type": "markdown",
   "metadata": {},
   "source": [
    "#### 5) 알고리즘 코드 (PY,C)"
   ]
  },
  {
   "cell_type": "code",
   "execution_count": 1,
   "metadata": {},
   "outputs": [],
   "source": [
    "def knapSack_fractional_greedy(obj, W):\n",
    "    obj.sort(key=lambda o: o[2]/o[1], reverse=True)\n",
    "\n",
    "    totalValue = 0\n",
    "    for o in obj:\n",
    "        if W <= 0:\n",
    "            break\n",
    "        if W - o[1] >= 0:\n",
    "            W -= o[1]\n",
    "            totalValue += o[2]\n",
    "        else:\n",
    "            fraction = W / o[1]\n",
    "            totalValue += o[2] * fraction\n",
    "            W = int(W-o[1]*fraction) \n",
    "    return totalValue"
   ]
  },
  {
   "cell_type": "markdown",
   "metadata": {},
   "source": [
    "#### 6) 테스트 코드  (PY,C) , 입력을 바꾸어서"
   ]
  },
  {
   "cell_type": "code",
   "execution_count": 2,
   "metadata": {},
   "outputs": [
    {
     "name": "stdout",
     "output_type": "stream",
     "text": [
      "배낭 용량: 18\n",
      "부분적인 배낭 최대 가치 (용량 18): 168.0\n",
      "\n",
      "배낭 용량: 50\n",
      "부분적인 배낭 최대 가치 (용량 50): 240.0\n"
     ]
    }
   ],
   "source": [
    "obj1 = [(\"A\", 10, 80), (\"B\", 12, 120), (\"C\", 8, 60)]\n",
    "print(\"배낭 용량: 18\")\n",
    "print(\"부분적인 배낭 최대 가치 (용량 18):\", knapSack_fractional_greedy(obj1, 18), end='\\n\\n')\n",
    "\n",
    "obj2 = [(\"A\", 10, 60), (\"B\", 40, 40), (\"C\", 20, 100), (\"D\", 30, 120)]\n",
    "print(\"배낭 용량: 50\")\n",
    "print(\"부분적인 배낭 최대 가치 (용량 50):\", knapSack_fractional_greedy(obj2, 50))"
   ]
  },
  {
   "cell_type": "markdown",
   "metadata": {},
   "source": [
    "#### 7) 수행 결과 (MD, 결과 캡춰하여 이미지로 삽입)"
   ]
  },
  {
   "attachments": {
    "image.png": {
     "image/png": "[encoded data removed]"
    }
   },
   "cell_type": "markdown",
   "metadata": {},
   "source": [
    "![image.png](attachment:image.png)"
   ]
  },
  {
   "cell_type": "markdown",
   "metadata": {},
   "source": [
    "#### 8) 복잡도 분석"
   ]
  },
  {
   "cell_type": "markdown",
   "metadata": {},
   "source": [
    "O(nlog2n)이다."
   ]
  },
  {
   "cell_type": "markdown",
   "metadata": {},
   "source": [
    "#### 9) 조별 협력 내용 (상호 지도)"
   ]
  },
  {
   "cell_type": "markdown",
   "metadata": {},
   "source": [
    "각자 푸는 단계에 대해 이해를 못하는 부분이 있으면 실습시간에 서로 물어보면서 문제를 풀어나갔습니다."
   ]
  }
 ],
 "metadata": {
  "kernelspec": {
   "display_name": "Python 3",
   "language": "python",
   "name": "python3"
  },
  "language_info": {
   "codemirror_mode": {
    "name": "ipython",
    "version": 3
   },
   "file_extension": ".py",
   "mimetype": "text/x-python",
   "name": "python",
   "nbconvert_exporter": "python",
   "pygments_lexer": "ipython3",
   "version": "3.11.9"
  }
 },
 "nbformat": 4,
 "nbformat_minor": 2
}
