{
 "cells": [
  {
   "cell_type": "markdown",
   "metadata": {},
   "source": [
    "## 1) 문제정의"
   ]
  },
  {
   "cell_type": "markdown",
   "metadata": {},
   "source": [
    "리스트에서 LOW와 HIGH를 설정하고 그 중 첫번째 항목을 피벗으로 설정하여 피벗 중심으로 피벗보다 큰 항목은 오른쪽, 작은항목은 왼쪽으로 리스트를 정렬한뒤 레코드를 교환하여 피벗을 출력하는 알고리즘이다. "
   ]
  },
  {
   "cell_type": "markdown",
   "metadata": {},
   "source": [
    "## 2)알고리즘 설명"
   ]
  },
  {
   "cell_type": "markdown",
   "metadata": {},
   "source": [
    "1. 먼저 피벗으로 첫번째 항목인 5로 선택한다. 변수 LOW와 HIGH는 각각 왼쪽과 오른쪽 리스트를 만드는데 사용되고 LOW는 left_1로, HIGH는 right로 초기화한다.\n",
    "2. LOW는 오른쪽으로 탐색하여 큰 항목을 찾으면 멈추고, 반대로 HIGH는 왼쪽으로 탐색해가다가 작은 항목을 찾으면 멈춘다. \n",
    "3. 현재 멈춘 위치의 항목들(8,2)을 교환한다.LOW와 HIGH는 각각 한칸씩 이동\n",
    "4. 다시 탐색-교환 과정 반복, 각각의 항목에서 멈추고 다시 교환한다.\n",
    "5. 탐색-교환 과정을 계속 반복하다보면 LOW와 HIGH가 역전되고 반복은 종료한다. HIGH와 피벗 항목을 서로 교환하면 (A[HIGH]<->A[0]),피벗 A[HIGH]을 중심을 왼쪽에는 작은 항목만 남고 오른쪽에는 큰 항목만 남는다.\n",
    "6. 마지막으로 피벗의 인덱스를 반환한다."
   ]
  },
  {
   "cell_type": "markdown",
   "metadata": {},
   "source": [
    "## 3)손으로 푼 예제"
   ]
  },
  {
   "cell_type": "markdown",
   "metadata": {},
   "source": [
    "## 4) 코드개요"
   ]
  },
  {
   "cell_type": "markdown",
   "metadata": {},
   "source": [
    "함수명: partition(A,left,right)\n",
    "입력값: array = [12, 3, 5, 7, 4, 19, 26, 23, 15]\n",
    "출력값:print(\"입력 리스트 =\", array)\n",
    "print(\"[정렬기법] 3번째 작은수:\", kth_smallest_sort(array, 3))\n",
    "print(\"[정렬기법] 6번째 작은수:\", kth_smallest_sort(array, 6))\n",
    "print(\"[축소정복]3번째 작은수:\", quick_select(array, 0, n - 1, 3))\n",
    "print(\"[축소정복]6번째 작은수:\", quick_select(array, 0, n - 1, 6))\n",
    "\n",
    "설명: LOW에 왼쪽 부분의 리스트 인덱스에서 1씩 증가할수 있게 left+1을  설정하고, HIGH에 오른쪽 부분의 리스트 인덱스에서 감소하는 방향으로 시작할 수 있게 right를 설정해준다. \n",
    "피벗에 첫번째 항목을 넣고, while문으로 LOW가 high문보다 작거나 같을때,  hile문으로 LOW <= right 경우와 피벗>= LOW일때 1증가 시킨다. while문으로 HIGH >= left 경우와 HIGH >피벗일 경우 오른쪽 값을 1감소한다. HIGH > LOW일때 A[LOW],A[HIGH] = A[HIGH],A[LOW]의 두 레코드를 교환시킨다. 이 과정을 계속 반복,교환시킨다.\n",
    "\n",
    "오른쪽은 피벗보다 큰 항목, 왼쪽은 피벗보다 작은 항목들이 남게되고 마지막으로 피벗 인덱스를 반환한다. \n"
   ]
  },
  {
   "cell_type": "markdown",
   "metadata": {},
   "source": [
    "## 5) 코드"
   ]
  },
  {
   "cell_type": "code",
   "execution_count": 1,
   "metadata": {},
   "outputs": [],
   "source": [
    "def kth_smallest_sort(A, k):\n",
    "    A.sort()\n",
    "    return A[k - 1]\n",
    "\n",
    "def quick_select(A, left, right, k):\n",
    "    pos = partition(A, left, right)\n",
    "\n",
    "    if pos + 1 == left + k:\n",
    "        return A[pos]\n",
    "    elif pos + 1 > left + k:\n",
    "        return quick_select(A, left, pos - 1, k)\n",
    "    else:\n",
    "        return quick_select(A, pos + 1, right, k - (pos + 1 - left))\n",
    "\n",
    "def partition(A, left, right):\n",
    "    low = left + 1\n",
    "    high = right\n",
    "    pivot = A[left]\n",
    "    while low <= high:\n",
    "        while low <= right and A[low] < pivot:\n",
    "            low += 1\n",
    "        while high >= left and A[high] > pivot:\n",
    "            high -= 1\n",
    "\n",
    "        if low < high:\n",
    "            A[low], A[high] = A[high], A[low]\n",
    "    A[left], A[high] = A[high], A[left]\n",
    "    return high\n"
   ]
  },
  {
   "cell_type": "markdown",
   "metadata": {},
   "source": [
    "## 6) 테스트 코드"
   ]
  },
  {
   "cell_type": "code",
   "execution_count": 2,
   "metadata": {},
   "outputs": [
    {
     "name": "stdout",
     "output_type": "stream",
     "text": [
      "입력 리스트 = [17, 2, 5, 15, 3, 8, 4, 1, 26, 23, 14, 22, 52, 12]\n",
      "[정렬기법] 3번째 작은수: 3\n",
      "[정렬기법] 6번째 작은수: 8\n",
      "[축소정복]3번째 작은수: 3\n",
      "[축소정복]6번째 작은수: 8\n"
     ]
    }
   ],
   "source": [
    "def kth_smallest_sort(A, k):\n",
    "    A.sort()\n",
    "    return A[k - 1]\n",
    "\n",
    "def quick_select(A, left, right, k):\n",
    "    pos = partition(A, left, right)\n",
    "\n",
    "    if pos + 1 == left + k:\n",
    "        return A[pos]\n",
    "    elif pos + 1 > left + k:\n",
    "        return quick_select(A, left, pos - 1, k)\n",
    "    else:\n",
    "        return quick_select(A, pos + 1, right, k - (pos + 1 - left))\n",
    "\n",
    "def partition(A, left, right):\n",
    "    low = left + 1\n",
    "    high = right\n",
    "    pivot = A[left]\n",
    "    while low <= high:\n",
    "        while low <= right and A[low] < pivot:\n",
    "            low += 1\n",
    "        while high >= left and A[high] > pivot:\n",
    "            high -= 1\n",
    "\n",
    "        if low < high:\n",
    "            A[low], A[high] = A[high], A[low]\n",
    "    A[left], A[high] = A[high], A[left]\n",
    "    return high\n",
    "\n",
    "array = [17, 2, 5, 15, 3, 8,4,1, 26, 23, 14,22,52,12]\n",
    "print(\"입력 리스트 =\", array)\n",
    "print(\"[정렬기법] 3번째 작은수:\", kth_smallest_sort(array, 3))\n",
    "print(\"[정렬기법] 6번째 작은수:\", kth_smallest_sort(array, 6))\n",
    "n = len(array)\n",
    "print(\"[축소정복]3번째 작은수:\", quick_select(array, 0, n - 1, 3))\n",
    "print(\"[축소정복]6번째 작은수:\", quick_select(array, 0, n - 1, 6))\n"
   ]
  },
  {
   "cell_type": "markdown",
   "metadata": {},
   "source": [
    "## 7) 수행 결과"
   ]
  },
  {
   "cell_type": "markdown",
   "metadata": {},
   "source": [
    "## 8) 복잡도 분석"
   ]
  },
  {
   "cell_type": "markdown",
   "metadata": {},
   "source": [
    "O(n)"
   ]
  },
  {
   "cell_type": "markdown",
   "metadata": {},
   "source": [
    "## 9) 협력 내용"
   ]
  },
  {
   "cell_type": "markdown",
   "metadata": {},
   "source": [
    "각자 푸는 단계에 대해 이해를 못하는 부분이 있으면 실습시간에 서로 물어보면서 문제를 풀어나갔습니다."
   ]
  }
 ],
 "metadata": {
  "kernelspec": {
   "display_name": "base",
   "language": "python",
   "name": "python3"
  },
  "language_info": {
   "codemirror_mode": {
    "name": "ipython",
    "version": 3
   },
   "file_extension": ".py",
   "mimetype": "text/x-python",
   "name": "python",
   "nbconvert_exporter": "python",
   "pygments_lexer": "ipython3",
   "version": "3.11.9"
  }
 },
 "nbformat": 4,
 "nbformat_minor": 2
}
