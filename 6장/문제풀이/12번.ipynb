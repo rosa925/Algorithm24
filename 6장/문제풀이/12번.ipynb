{
 "cells": [
  {
   "cell_type": "code",
   "execution_count": null,
   "metadata": {},
   "outputs": [],
   "source": [
    "def counting_sort(arr):\n",
    "    # ASCII 범위에서 a~z와 A~Z에 해당하는 인덱스 범위 설정\n",
    "    min_char = ord('A')\n",
    "    max_char = ord('z')\n",
    "    range_size = max_char - min_char + 1\n",
    "    \n",
    "    # 카운팅 배열 초기화\n",
    "    count = [0] * range_size\n",
    "    \n",
    "    # 입력 배열의 각 문자 개수 측정\n",
    "    for char in arr:\n",
    "        count[ord(char) - min_char] += 1\n",
    "    \n",
    "    # 카운팅 배열을 기반으로 정렬된 배열 생성\n",
    "    sorted_arr = []\n",
    "    for i in range(range_size):\n",
    "        sorted_arr.extend([chr(i + min_char)] * count[i])\n",
    "    \n",
    "    return sorted_arr\n"
   ]
  },
  {
   "cell_type": "code",
   "execution_count": null,
   "metadata": {},
   "outputs": [],
   "source": [
    "# 테스트\n",
    "arr = ['b', 'A', 'd', 'C', 'a', 'B', 'c', 'D']\n",
    "sorted_arr = counting_sort(arr)\n",
    "print(sorted_arr)"
   ]
  }
 ],
 "metadata": {
  "language_info": {
   "name": "python"
  }
 },
 "nbformat": 4,
 "nbformat_minor": 2
}
