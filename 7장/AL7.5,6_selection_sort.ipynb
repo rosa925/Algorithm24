{
 "cells": [
  {
   "cell_type": "markdown",
   "metadata": {},
   "source": [
    "#### 1) 문제 정의 (MD)"
   ]
  },
  {
   "cell_type": "markdown",
   "metadata": {},
   "source": [
    "배낭 채우기 문제(분할정복기법, 동적계획법)이다."
   ]
  },
  {
   "cell_type": "markdown",
   "metadata": {},
   "source": [
    "#### 2) 알고리즘 설명  (MD)"
   ]
  },
  {
   "cell_type": "markdown",
   "metadata": {},
   "source": [
    "분할정복기법: 배열의 인덱스가 0부터이므로 n번째 항목의 인덱스가 코드에서 n-1이 되어야 하는 것을 제외하면 앞에서 구한 식을 그대로 적용하면 된다. \n",
    "동적계획법: 주어진 문제를 더 작은 문제로 나누어 답을 계산하고 부분 문제의 답을 구하는 전략을 어딘가 저장하고 필요할때 꺼내서 사용하고 같은 문제를 다시 풀지 않도록 하는것이다"
   ]
  },
  {
   "cell_type": "markdown",
   "metadata": {},
   "source": [
    "####  3) 손으로 푼 예제 (MD, 이미지 삽입)"
   ]
  },
  {
   "cell_type": "markdown",
   "metadata": {},
   "source": [
    "#### 4) 알고리즘 개요(입력 변수, 출력, 알고리즘 개요) (MD)"
   ]
  },
  {
   "cell_type": "markdown",
   "metadata": {},
   "source": [
    "##### 함수명: def knapSack_dc(W, wt, val, n), def knapSack_dp(W, wt, val, n)\n",
    "##### 입력 변수: w, n, wt\n",
    "##### 출력: print(\"0-1 배낭 문제 (분할 정복):\", knapSack_dc(W, wt, val, n)), print(\"0-1 배낭 문제 (동적 계획법):\", knapSack_dp(W, wt, val, n))"
   ]
  },
  {
   "cell_type": "markdown",
   "metadata": {},
   "source": [
    "#### 5) 알고리즘 코드 (PY,C)"
   ]
  },
  {
   "cell_type": "code",
   "execution_count": 1,
   "metadata": {},
   "outputs": [],
   "source": [
    "def knapSack_dc(W, wt, val, n):\n",
    "    if n == 0 or W == 0:\n",
    "        return 0\n",
    "    if wt[n-1] > W:\n",
    "        return knapSack_dc(W, wt, val, n-1)\n",
    "    else:\n",
    "        valWithout = knapSack_dc(W, wt, val, n-1)\n",
    "        valWith = val[n-1] + knapSack_dc(W - wt[n-1], wt, val, n-1)\n",
    "        return max(valWith, valWithout)\n",
    "\n",
    "def knapSack_dp(W, wt, val, n):\n",
    "    A = [[0 for x in range(W+1)] for x in range(n+1)]\n",
    "\n",
    "    for i in range(1, n+1):\n",
    "        for w in range(1, W+1):\n",
    "            if wt[i-1] > w:\n",
    "                A[i][w] = A[i-1][w]\n",
    "            else:\n",
    "                valWith = val[i-1] + A[i-1][w - wt[i-1]]\n",
    "                valWithout = A[i-1][w]\n",
    "                A[i][w] = max(valWith, valWithout)\n",
    "\n",
    "    return A[n][W]"
   ]
  },
  {
   "cell_type": "markdown",
   "metadata": {},
   "source": [
    "#### 6) 테스트 코드  (PY,C) , 입력을 바꾸어서"
   ]
  },
  {
   "cell_type": "code",
   "execution_count": 2,
   "metadata": {},
   "outputs": [
    {
     "name": "stdout",
     "output_type": "stream",
     "text": [
      "0-1 배낭 문제 (분할 정복): 480\n",
      "0-1 배낭 문제 (동적 계획법): 480\n"
     ]
    }
   ],
   "source": [
    "val = [60, 100, 190, 120, 200, 150]\n",
    "wt = [2, 5, 8, 4, 7, 6]\n",
    "W = 18\n",
    "n = len(val)\n",
    "\n",
    "print(\"0-1 배낭 문제 (분할 정복):\", knapSack_dc(W, wt, val, n))\n",
    "print(\"0-1 배낭 문제 (동적 계획법):\", knapSack_dp(W, wt, val, n))"
   ]
  },
  {
   "cell_type": "markdown",
   "metadata": {},
   "source": [
    "#### 7) 수행 결과 (MD, 결과 캡춰하여 이미지로 삽입)"
   ]
  },
  {
   "cell_type": "markdown",
   "metadata": {},
   "source": [
    "#### 8) 복잡도 분석"
   ]
  },
  {
   "cell_type": "markdown",
   "metadata": {},
   "source": [
    "O(nW)이다."
   ]
  },
  {
   "cell_type": "markdown",
   "metadata": {},
   "source": [
    "#### 9) 조별 협력 내용 (상호 지도)"
   ]
  },
  {
   "cell_type": "markdown",
   "metadata": {},
   "source": [
    "각자 푸는 단계에 대해 이해를 못하는 부분이 있으면 실습시간에 서로 물어보면서 문제를 풀어나갔습니다."
   ]
  }
 ],
 "metadata": {
  "kernelspec": {
   "display_name": "Python 3",
   "language": "python",
   "name": "python3"
  },
  "language_info": {
   "codemirror_mode": {
    "name": "ipython",
    "version": 3
   },
   "file_extension": ".py",
   "mimetype": "text/x-python",
   "name": "python",
   "nbconvert_exporter": "python",
   "pygments_lexer": "ipython3",
   "version": "3.12.2"
  }
 },
 "nbformat": 4,
 "nbformat_minor": 2
}
