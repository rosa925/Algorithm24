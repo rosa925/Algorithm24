{
 "cells": [
  {
   "cell_type": "code",
   "execution_count": 10,
   "metadata": {},
   "outputs": [],
   "source": [
    "def search_horspool(T,P):\n",
    "    m = len(P)\n",
    "    n = len(T)\n",
    "    t = shift_table(P)\n",
    "    i = m-1\n",
    "    while(i <= n-1):\n",
    "        k = 0\n",
    "        while k <= m-1 and P[m-1-k]==T[i-k]:\n",
    "            k += 1\n",
    "        if k == m :\n",
    "            return i-m+1\n",
    "        else :\n",
    "            tc = t[ord(T[i-k])]\n",
    "            i += (tc-k)\n",
    "    return -1"
   ]
  },
  {
   "cell_type": "code",
   "execution_count": 11,
   "metadata": {},
   "outputs": [
    {
     "name": "stdout",
     "output_type": "stream",
     "text": [
      "패턴의 위치:  10\n"
     ]
    }
   ],
   "source": [
    "print(\"패턴의 위치: \", search_horspool(\"APPLEMANGOBANANAGRAPE\", \"BANANA\"))"
   ]
  }
 ],
 "metadata": {
  "kernelspec": {
   "display_name": "base",
   "language": "python",
   "name": "python3"
  },
  "language_info": {
   "codemirror_mode": {
    "name": "ipython",
    "version": 3
   },
   "file_extension": ".py",
   "mimetype": "text/x-python",
   "name": "python",
   "nbconvert_exporter": "python",
   "pygments_lexer": "ipython3",
   "version": "3.11.7"
  }
 },
 "nbformat": 4,
 "nbformat_minor": 2
}
