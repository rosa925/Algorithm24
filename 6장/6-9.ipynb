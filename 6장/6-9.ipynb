{
 "cells": [
  {
   "cell_type": "code",
   "execution_count": 7,
   "metadata": {},
   "outputs": [],
   "source": [
    "def hachFn(key, M):\n",
    "    sum = 0\n",
    "    for c in key:\n",
    "        sum = sum + ord(c)\n",
    "    return sum % M"
   ]
  },
  {
   "cell_type": "code",
   "execution_count": 8,
   "metadata": {},
   "outputs": [
    {
     "name": "stdout",
     "output_type": "stream",
     "text": [
      "키 'hello'의 해시 값은 2입니다.\n"
     ]
    }
   ],
   "source": [
    "test_key = \"hello\"\n",
    "test_M = 10\n",
    "\n",
    "value = hachFn(test_key, test_M)\n",
    "\n",
    "print(\"키 '{}'의 해시 값은 {}입니다.\".format(test_key, value))"
   ]
  }
 ],
 "metadata": {
  "kernelspec": {
   "display_name": "base",
   "language": "python",
   "name": "python3"
  },
  "language_info": {
   "codemirror_mode": {
    "name": "ipython",
    "version": 3
   },
   "file_extension": ".py",
   "mimetype": "text/x-python",
   "name": "python",
   "nbconvert_exporter": "python",
   "pygments_lexer": "ipython3",
   "version": "3.11.7"
  }
 },
 "nbformat": 4,
 "nbformat_minor": 2
}
