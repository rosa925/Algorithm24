{
 "cells": [
  {
   "cell_type": "code",
   "execution_count": 130,
   "metadata": {},
   "outputs": [],
   "source": [
    "import math\n",
    "\n",
    "def distance(p1, p2):\n",
    "    return math.sqrt((p1[0] - p2[0]) ** 2 + (p1[1] - p2[1]) ** 2)"
   ]
  },
  {
   "cell_type": "code",
   "execution_count": 131,
   "metadata": {},
   "outputs": [],
   "source": [
    "def strip_closest(P, d):\n",
    "    n = len(P)\n",
    "    d_min = d\n",
    "    P.sort(key = lambda point: point[1])\n",
    "\n",
    "    for i in range(n):\n",
    "        j = i + 1\n",
    "        while j < n and (P[j][1] - P[i][1]) < d_min:\n",
    "            dij = distance(P[i], P[j])\n",
    "            if dij < d_min :\n",
    "                d_min = dij\n",
    "            j += 1\n",
    "    return d_min"
   ]
  },
  {
   "cell_type": "code",
   "execution_count": 132,
   "metadata": {},
   "outputs": [],
   "source": [
    "def closest_pair_dist(P, n):\n",
    "    if n <= 3:\n",
    "        return closest_pair(P)\n",
    "    \n",
    "    mid = n // 2\n",
    "    mid_x = P[mid][0]\n",
    "\n",
    "    dl = closest_pair_dist(P[:mid], mid)\n",
    "    dr = closest_pair_dist(P[mid:], n-mid)\n",
    "    d = min(dl, dr)\n",
    "\n",
    "    Pm = []\n",
    "    for i in range(n):\n",
    "        if abs(P[i][0] - mid_x) < d:\n",
    "            Pm.append(P[i])\n",
    "\n",
    "    ds = strip_closest(Pm, d)\n",
    "    return ds"
   ]
  },
  {
   "cell_type": "code",
   "execution_count": 133,
   "metadata": {},
   "outputs": [
    {
     "name": "stdout",
     "output_type": "stream",
     "text": [
      "가장 가까운 두 점의 거리 1.4142135623730951\n"
     ]
    }
   ],
   "source": [
    "p = [(2, 3), (12, 30), (40, 50), (5, 1), (12, 10), (3, 4)]\n",
    "p.sort(key = lambda point: point[0])\n",
    "print(\"가장 가까운 두 점의 거리\", closest_pair_dist(p, len(p)))"
   ]
  }
 ],
 "metadata": {
  "kernelspec": {
   "display_name": "Python 3",
   "language": "python",
   "name": "python3"
  },
  "language_info": {
   "codemirror_mode": {
    "name": "ipython",
    "version": 3
   },
   "file_extension": ".py",
   "mimetype": "text/x-python",
   "name": "python",
   "nbconvert_exporter": "python",
   "pygments_lexer": "ipython3",
   "version": "3.12.2"
  }
 },
 "nbformat": 4,
 "nbformat_minor": 2
}
