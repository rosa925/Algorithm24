{
 "cells": [
  {
   "cell_type": "code",
   "execution_count": 1,
   "metadata": {},
   "outputs": [],
   "source": [
    "class TNode:\n",
    "    def __init__(self, data, left=None, right=None):\n",
    "        self.data = data\n",
    "        self.left = left\n",
    "        self.right = right\n",
    "\n",
    "def inorder(n):\n",
    "    if n is not None:\n",
    "        inorder(n.left)\n",
    "        print(n.data, end='')\n",
    "        inorder(n.right)\n",
    "\n",
    "def preorder(n):\n",
    "    if n is not None:\n",
    "        print(n.data, end='')\n",
    "        preorder(n.left)\n",
    "        preorder(n.right)\n",
    "\n",
    "def postorder(n):\n",
    "    if n is not None:\n",
    "        postorder(n.left)\n",
    "        postorder(n.right)\n",
    "        print(n.data, end='')"
   ]
  },
  {
   "cell_type": "code",
   "execution_count": 2,
   "metadata": {},
   "outputs": [
    {
     "name": "stdout",
     "output_type": "stream",
     "text": [
      "In-Order : DBEAFC\n",
      "Pre-Order : DBEAFC\n",
      "Post-Order : DBEAFC\n"
     ]
    }
   ],
   "source": [
    "d=TNode('D', None, None)\n",
    "e=TNode('E', None, None)\n",
    "b=TNode('B', d, e)\n",
    "f=TNode('F', None, None)\n",
    "c=TNode('C', f, None)\n",
    "root=TNode('A', b, c)\n",
    "print('In-Order : ', end='')\n",
    "inorder(root)\n",
    "print()\n",
    "print('Pre-Order : ', end='')\n",
    "inorder(root)\n",
    "print()\n",
    "print('Post-Order : ', end='')\n",
    "inorder(root)\n",
    "print()"
   ]
  }
 ],
 "metadata": {
  "kernelspec": {
   "display_name": "Python 3",
   "language": "python",
   "name": "python3"
  },
  "language_info": {
   "codemirror_mode": {
    "name": "ipython",
    "version": 3
   },
   "file_extension": ".py",
   "mimetype": "text/x-python",
   "name": "python",
   "nbconvert_exporter": "python",
   "pygments_lexer": "ipython3",
   "version": "3.12.2"
  }
 },
 "nbformat": 4,
 "nbformat_minor": 2
}
