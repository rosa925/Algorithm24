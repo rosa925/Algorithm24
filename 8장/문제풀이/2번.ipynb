{
 "cells": [
  {
   "cell_type": "markdown",
   "metadata": {},
   "source": [
    "#### 미국은 Quarter, Dime, Nickel, penny란 동전을 사용하고 있다. 이 동전들을 이용해 거스름돈 68센트를 돌려주려고 한다. 탐욕적 기법의 알고리즘 8.1이 수행되는 과정을 설명하라. 또한 이 방법이 거스름돈 동전 수를 최소화 할 수 있는지를 설명하라."
   ]
  },
  {
   "cell_type": "code",
   "execution_count": null,
   "metadata": {},
   "outputs": [],
   "source": [
    "def min_coins_greedy(coins, V):\n",
    "    count = []  # 각 동전의 개수를 저장할 리스트\n",
    "    remaining_value = V  # 거스름돈 총액을 저장할 변수\n",
    "    \n",
    "    for i in range(len(coins)):\n",
    "        # 현재 동전으로 줄 수 있는 최대 개수를 계산\n",
    "        cnt = remaining_value // coins[i]\n",
    "        count.append(cnt)  # 계산한 동전 개수를 리스트에 추가\n",
    "        # 사용한 동전만큼 거스름돈에서 빼기\n",
    "        remaining_value -= cnt * coins[i]\n",
    "    \n",
    "    return count  # 각 동전의 개수가 담긴 리스트를 반환\n",
    "\n",
    "# 사용 예제\n",
    "coins = [25, 10, 5, 1]  # 동전의 종류를 큰 값부터 작은 값으로 정렬한 리스트\n",
    "V = 68  # 거스름돈 총액\n",
    "print(min_coins_greedy(coins, V))  # [2, 1, 1, 3]을 출력"
   ]
  },
  {
   "cell_type": "markdown",
   "metadata": {},
   "source": [
    "#### 탐욕적 기법은 주어진 동전 세트가 특정 조건을 만족할 때 최적의 값를 보장합니다. 미국의 동전들(25센트, 10센트, 5센트, 1센트)은 이 조건을 만족합니다. 따라서 이 문제에서는 탐욕적 기법을 사용하여 최소 동전 수로 거스름돈을 반환할 수 있습니다."
   ]
  }
 ],
 "metadata": {
  "language_info": {
   "name": "python"
  }
 },
 "nbformat": 4,
 "nbformat_minor": 2
}
