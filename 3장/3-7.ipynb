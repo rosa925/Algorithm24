{
 "cells": [
  {
   "cell_type": "code",
   "execution_count": 1,
   "metadata": {},
   "outputs": [
    {
     "name": "stdout",
     "output_type": "stream",
     "text": [
      "BFS:ACBDEFGH\n"
     ]
    }
   ],
   "source": [
    "import queue\n",
    "\n",
    "def bfs(graph, start):\n",
    "    visited = {start}\n",
    "    que = queue.Queue()\n",
    "    que.put(start)\n",
    "    while not que.empty():\n",
    "        v = que.get()\n",
    "        print(v, end='')\n",
    "        nbr = graph[v] - visited\n",
    "        for u in nbr:\n",
    "            visited.add(u)\n",
    "            que.put(u)\n",
    "\n",
    "mygraph = {\"A\": {\"B\", \"C\"},\n",
    "           \"B\": {\"A\", \"D\"},\n",
    "           \"C\": {\"A\", \"D\", \"E\"},\n",
    "           \"D\": {\"B\", \"C\", \"F\"},\n",
    "           \"E\": {\"C\", \"G\", \"H\"},\n",
    "           \"F\": {\"D\"},\n",
    "           \"G\": {\"E\", \"H\"},\n",
    "           \"H\": {\"E\", \"G\"},\n",
    "           }\n",
    "\n",
    "print('BFS:', end='')\n",
    "bfs(mygraph, \"A\")\n",
    "print()"
   ]
  }
 ],
 "metadata": {
  "kernelspec": {
   "display_name": "Python 3",
   "language": "python",
   "name": "python3"
  },
  "language_info": {
   "codemirror_mode": {
    "name": "ipython",
    "version": 3
   },
   "file_extension": ".py",
   "mimetype": "text/x-python",
   "name": "python",
   "nbconvert_exporter": "python",
   "pygments_lexer": "ipython3",
   "version": "3.12.2"
  }
 },
 "nbformat": 4,
 "nbformat_minor": 2
}
