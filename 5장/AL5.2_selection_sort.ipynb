{
 "cells": [
  {
   "cell_type": "markdown",
   "metadata": {},
   "source": [
    "#### 1) 문제 정의 (MD)"
   ]
  },
  {
   "cell_type": "markdown",
   "metadata": {},
   "source": [
    "팩토리얼(상향식 축소 정복 기법)"
   ]
  },
  {
   "cell_type": "markdown",
   "metadata": {},
   "source": [
    "#### 2) 알고리즘 설명  (MD)"
   ]
  },
  {
   "cell_type": "markdown",
   "metadata": {},
   "source": [
    "축소 정복 기법 : 주어진 문제를 해결하기 위해 이 문제와 좀 더 작은 문제간의 관계를 이용하는 전략"
   ]
  },
  {
   "cell_type": "markdown",
   "metadata": {},
   "source": [
    "####  3) 손으로 푼 예제 (MD, 이미지 삽입)"
   ]
  },
  {
   "cell_type": "markdown",
   "metadata": {},
   "source": [
    "#### 4) 알고리즘 개요(입력 변수, 출력, 알고리즘 개요) (MD)"
   ]
  },
  {
   "cell_type": "markdown",
   "metadata": {},
   "source": []
  },
  {
   "cell_type": "markdown",
   "metadata": {},
   "source": [
    "#### 5) 알고리즘 코드 (PY,C)"
   ]
  },
  {
   "cell_type": "code",
   "execution_count": 1,
   "metadata": {},
   "outputs": [],
   "source": [
    "def merge(A, left, mid, right):\n",
    "    k = left\n",
    "    i = left\n",
    "    j = mid + 1\n",
    "    while i <= mid and j <= right:\n",
    "        if A[i] <= A[j]:\n",
    "            temp[k] = A[i]\n",
    "            i, k = i + 1, k + 1\n",
    "        else:\n",
    "            temp[k] = A[j]\n",
    "            j, k = j + 1, k + 1\n",
    "\n",
    "    if i > mid:\n",
    "        temp[k:k + right - j + 1] = A[j:right + 1]\n",
    "    else:\n",
    "        temp[k:k + mid - i + 1] = A[i:mid + 1]\n",
    "\n",
    "    A[left:right + 1] = temp[left:right + 1]\n",
    "\n",
    "def merge_sort(A, left, right):\n",
    "    if left < right:\n",
    "        mid = (left + right) // 2\n",
    "        merge_sort(A, left, mid)\n",
    "        merge_sort(A, mid + 1, right)\n",
    "\n",
    "        merge(A, left, mid, right)"
   ]
  },
  {
   "cell_type": "markdown",
   "metadata": {},
   "source": [
    "#### 6) 테스트 코드  (PY,C) , 입력을 바꾸어서"
   ]
  },
  {
   "cell_type": "code",
   "execution_count": 2,
   "metadata": {},
   "outputs": [
    {
     "name": "stdout",
     "output_type": "stream",
     "text": [
      "Original: [5, 6, 8, 4, 7, 3, 9, 1, 2]\n",
      "Merge Sorted: [1, 2, 3, 4, 5, 6, 7, 8, 9]\n"
     ]
    }
   ],
   "source": [
    "def merge(A, left, mid, right):\n",
    "    k = left\n",
    "    i = left\n",
    "    j = mid + 1\n",
    "    while i <= mid and j <= right:\n",
    "        if A[i] <= A[j]:\n",
    "            temp[k] = A[i]\n",
    "            i, k = i + 1, k + 1\n",
    "        else:\n",
    "            temp[k] = A[j]\n",
    "            j, k = j + 1, k + 1\n",
    "\n",
    "    if i > mid:\n",
    "        temp[k:k + right - j + 1] = A[j:right + 1]\n",
    "    else:\n",
    "        temp[k:k + mid - i + 1] = A[i:mid + 1]\n",
    "\n",
    "    A[left:right + 1] = temp[left:right + 1]\n",
    "\n",
    "def merge_sort(A, left, right):\n",
    "    if left < right:\n",
    "        mid = (left + right) // 2\n",
    "        merge_sort(A, left, mid)\n",
    "        merge_sort(A, mid + 1, right)\n",
    "\n",
    "        merge(A, left, mid, right)\n",
    "\n",
    "#data = [5, 3, 8, 4, 9, 1, 6, 2, 7]\n",
    "data = [5, 6, 8, 4, 7, 3, 9, 1, 2]\n",
    "temp = [0] * len(data)\n",
    "print(\"Original:\", data)\n",
    "merge_sort(data, 0, len(data) - 1)\n",
    "print(\"Merge Sorted:\", data)"
   ]
  },
  {
   "cell_type": "markdown",
   "metadata": {},
   "source": [
    "#### 7) 수행 결과 (MD, 결과 캡춰하여 이미지로 삽입)"
   ]
  },
  {
   "cell_type": "markdown",
   "metadata": {},
   "source": [
    "#### 8) 복잡도 분석"
   ]
  },
  {
   "cell_type": "markdown",
   "metadata": {},
   "source": [
    "이 알고리즘의 복잡도는 O(n)이다. 이는 입력값 n에 비례하여 연산 횟수가 증가함을 의미한다."
   ]
  },
  {
   "cell_type": "markdown",
   "metadata": {},
   "source": [
    "#### 9) 조별 협력 내용 (상호 지도)"
   ]
  },
  {
   "cell_type": "markdown",
   "metadata": {},
   "source": [
    "각자 푸는 단계에 대해 이해를 못하는 부분이 있으면 실습시간에 서로 물어보면서 문제를 풀어나갔습니다."
   ]
  }
 ],
 "metadata": {
  "kernelspec": {
   "display_name": "Python 3",
   "language": "python",
   "name": "python3"
  },
  "language_info": {
   "codemirror_mode": {
    "name": "ipython",
    "version": 3
   },
   "file_extension": ".py",
   "mimetype": "text/x-python",
   "name": "python",
   "nbconvert_exporter": "python",
   "pygments_lexer": "ipython3",
   "version": "3.12.2"
  }
 },
 "nbformat": 4,
 "nbformat_minor": 2
}
