{
 "cells": [
  {
   "cell_type": "markdown",
   "metadata": {},
   "source": [
    "### 01.문제 정의\n",
    "억지기법을 사용하여 거듭제곱을 구하는 문제"
   ]
  },
  {
   "cell_type": "markdown",
   "metadata": {},
   "source": [
    "### 02.알고리즘 설명\n",
    "주어진 X의 n 제곱을 계산하여 출력하는 코드로 이 코드에는 **연산자를 사용하지 않고 루프를 사용하여 각각의 값을 계산하는 억지기법이 사용된 알고리즘이다."
   ]
  },
  {
   "cell_type": "markdown",
   "metadata": {},
   "source": [
    "### 03.손으로 푼 예제"
   ]
  },
  {
   "cell_type": "markdown",
   "metadata": {},
   "source": [
    "### 04.코드개요\n",
    "##### 함수명 : slow_power\n",
    "##### 입력 : x(거듭제곱의 밑이 되는 숫자),n(거듭제곱의 지수)\n",
    "##### 반환값 : slow_power 함수에서 계산한 거듭제곱의 결과\n",
    "## 함수 설명: \n",
    "##### 1행. slow_power 함수에 x와n이라는 두 개의 매개변수를 받아들임\n",
    "##### 2행. 변수 'result' 초기화\n",
    "##### 3행. n번 반복하는 for 루프를 설정 i는 0~n-1까지의 값을 가짐\n",
    "##### 4행. x를 n번 곱하여 계산, result 변수에 결과를 저장\n",
    "##### 5행. result에 저장된 거듭제곱 값을 반환 "
   ]
  },
  {
   "cell_type": "markdown",
   "metadata": {},
   "source": [
    "### 05.코드"
   ]
  },
  {
   "cell_type": "code",
   "execution_count": null,
   "metadata": {},
   "outputs": [],
   "source": [
    "def slow_power(x, n):\n",
    "    result = 1.0\n",
    "    for i in range(n):\n",
    "        result = result * x\n",
    "    return result"
   ]
  },
  {
   "cell_type": "markdown",
   "metadata": {},
   "source": [
    "### 06. 테스트 코드"
   ]
  },
  {
   "cell_type": "code",
   "execution_count": null,
   "metadata": {},
   "outputs": [],
   "source": [
    "def slow_power(x, n):\n",
    "    result = 1.0\n",
    "    for i in range(n):\n",
    "        result = result * x\n",
    "    return result\n",
    "\n",
    "x = 2\n",
    "n = 10\n",
    "print(slow_power(x, n))"
   ]
  },
  {
   "cell_type": "markdown",
   "metadata": {},
   "source": [
    "### 08. 복잡도 분석\n",
    "O(n), n번 반복하면서 x를 n번 곱하기 때문에 입력값 n에 비례하는 복잡도를 가진다."
   ]
  },
  {
   "cell_type": "markdown",
   "metadata": {},
   "source": [
    "### 09. 협력 내용\n",
    "각자 푸는 단계에 대해 이해를 못하는 부분이 있으면 실습시간에 서로 물어보면서 문제를 풀어나갔습니다."
   ]
  }
 ],
 "metadata": {
  "kernelspec": {
   "display_name": "Python 3",
   "language": "python",
   "name": "python3"
  },
  "language_info": {
   "name": "python",
   "version": "3.12.2"
  }
 },
 "nbformat": 4,
 "nbformat_minor": 2
}
