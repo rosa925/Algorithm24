{
 "cells": [
  {
   "cell_type": "code",
   "execution_count": 16,
   "metadata": {},
   "outputs": [
    {
     "name": "stdout",
     "output_type": "stream",
     "text": [
      "2.0의 10 거듭제곱은 1024.0입니다.\n"
     ]
    }
   ],
   "source": [
    "def multMat(x, n):\n",
    "    return x * n\n",
    "\n",
    "def powerMat(x, n):\n",
    "    if n == 1:\n",
    "        return x\n",
    "    elif n % 2 == 0:\n",
    "        return powerMat(multMat(x, x), n // 2)\n",
    "    else:\n",
    "        return multMat(x, powerMat(multMat(x, x), (n - 1) // 2))\n",
    "\n",
    "x = 2.0\n",
    "n = 10\n",
    "\n",
    "result = powerMat(x, n)\n",
    "\n",
    "print(f\"{x}의 {n} 거듭제곱은 {result}입니다.\")"
   ]
  }
 ],
 "metadata": {
  "kernelspec": {
   "display_name": "Python 3",
   "language": "python",
   "name": "python3"
  },
  "language_info": {
   "codemirror_mode": {
    "name": "ipython",
    "version": 3
   },
   "file_extension": ".py",
   "mimetype": "text/x-python",
   "name": "python",
   "nbconvert_exporter": "python",
   "pygments_lexer": "ipython3",
   "version": "3.11.9"
  }
 },
 "nbformat": 4,
 "nbformat_minor": 2
}
