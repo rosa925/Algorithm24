{
 "cells": [
  {
   "cell_type": "code",
   "execution_count": 19,
   "metadata": {},
   "outputs": [],
   "source": [
    "def quick_sort(A, left, right):\n",
    "    if left < right:\n",
    "        pivot_index = partition(A, left, right)\n",
    "        quick_sort(A, left, pivot_index - 1)\n",
    "        quick_sort(A, pivot_index + 1, right)"
   ]
  },
  {
   "cell_type": "code",
   "execution_count": 20,
   "metadata": {},
   "outputs": [
    {
     "name": "stdout",
     "output_type": "stream",
     "text": [
      "Original: [5, 3, 8, 4, 9, 1, 6, 2, 7]\n",
      "QuickSort: [1, 2, 3, 4, 5, 6, 7, 8, 9]\n"
     ]
    }
   ],
   "source": [
    "data = [5, 3, 8, 4, 9, 1, 6, 2, 7]\n",
    "print(\"Original:\", data)\n",
    "quick_sort(data, 0, len(data) - 1)\n",
    "print(\"QuickSort:\", data)"
   ]
  }
 ],
 "metadata": {
  "kernelspec": {
   "display_name": "Python 3",
   "language": "python",
   "name": "python3"
  },
  "language_info": {
   "codemirror_mode": {
    "name": "ipython",
    "version": 3
   },
   "file_extension": ".py",
   "mimetype": "text/x-python",
   "name": "python",
   "nbconvert_exporter": "python",
   "pygments_lexer": "ipython3",
   "version": "3.12.2"
  }
 },
 "nbformat": 4,
 "nbformat_minor": 2
}
