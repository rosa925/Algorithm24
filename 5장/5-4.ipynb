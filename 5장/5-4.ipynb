{
 "cells": [
  {
   "cell_type": "code",
   "execution_count": 1,
   "metadata": {},
   "outputs": [
    {
     "name": "stdout",
     "output_type": "stream",
     "text": [
      "트리의 높이 = 3\n"
     ]
    }
   ],
   "source": [
    "class TNode:\n",
    "    def __init__(self, data, left, right):\n",
    "        self.data = data\n",
    "        self.left = left\n",
    "        self.right = right\n",
    "\n",
    "def calc_height(root):\n",
    "    if root is None:\n",
    "        return 0\n",
    "    hLeft = calc_height(root.left)\n",
    "    hRight = calc_height(root.right)\n",
    "    return max(hLeft, hRight) + 1\n",
    "\n",
    "d = TNode('D', None, None)\n",
    "e = TNode('E', None, None)\n",
    "b = TNode('B', d, e)\n",
    "f = TNode('F', None, None)\n",
    "c = TNode('C', f, None)\n",
    "root = TNode('A', b, c)\n",
    "\n",
    "print(\"트리의 높이 =\", calc_height(root))"
   ]
  }
 ],
 "metadata": {
  "kernelspec": {
   "display_name": "Python 3",
   "language": "python",
   "name": "python3"
  },
  "language_info": {
   "codemirror_mode": {
    "name": "ipython",
    "version": 3
   },
   "file_extension": ".py",
   "mimetype": "text/x-python",
   "name": "python",
   "nbconvert_exporter": "python",
   "pygments_lexer": "ipython3",
   "version": "3.12.2"
  }
 },
 "nbformat": 4,
 "nbformat_minor": 2
}
