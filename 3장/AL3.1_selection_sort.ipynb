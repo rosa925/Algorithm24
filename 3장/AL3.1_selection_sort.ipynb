{
 "cells": [
  {
   "cell_type": "markdown",
   "metadata": {},
   "source": [
    "## 1. 문제 정의"
   ]
  },
  {
   "cell_type": "markdown",
   "metadata": {},
   "source": [
    "리스트 n개의 항목들이 들어 있다. 이들을 키(KEY)의 순서에 때라 오름차순으로 재배치하라"
   ]
  },
  {
   "cell_type": "markdown",
   "metadata": {},
   "source": [
    "## 2.알고리즘 설명"
   ]
  },
  {
   "cell_type": "markdown",
   "metadata": {},
   "source": [
    "0~n-2의 for 외부루트 설정 \n",
    "i+1 ~ n-2의 for 내부루트 설정\n",
    "j< least 보다 작으면 j를 lesat에 최소값 저장"
   ]
  },
  {
   "cell_type": "markdown",
   "metadata": {},
   "source": [
    "## 3. 손으로 푼 예제"
   ]
  },
  {
   "cell_type": "markdown",
   "metadata": {},
   "source": [
    "## 4. 코드 개요"
   ]
  },
  {
   "cell_type": "markdown",
   "metadata": {},
   "source": [
    "def selection(A): 선택정렬 함수 설정하고 리스트 A의 길이만큼 n에 저장 for 외부루트 (0~n-2)만큼 for 내부루트 (i+1... n-1)까지 i 이후의 모든 항목에서 작은항목 lesat를 계산하고 i번째 least 항목을 서로 교환"
   ]
  },
  {
   "cell_type": "markdown",
   "metadata": {},
   "source": [
    "## 5. 코드"
   ]
  },
  {
   "cell_type": "code",
   "execution_count": null,
   "metadata": {},
   "outputs": [],
   "source": [
    "def selection(A):\n",
    "    n=len(A)\n",
    "    for i in range(n-1):\n",
    "        least =i\n",
    "        for j in range(i+1, n):\n",
    "            if(A[j]<A[least]):\n",
    "                least =j\n",
    "        A[i], A[least] = A[least], A[i]\n",
    "        printstep(A, i+1)\n",
    "\n",
    "def printstep(arr, val):\n",
    "    print(\" step %2d = \" % val, end='')\n",
    "    print(arr)"
   ]
  },
  {
   "cell_type": "markdown",
   "metadata": {},
   "source": [
    "## 6. 테스트 코드, 입력을 바꿔서"
   ]
  },
  {
   "cell_type": "code",
   "execution_count": 1,
   "metadata": {},
   "outputs": [
    {
     "name": "stdout",
     "output_type": "stream",
     "text": [
      "original [5, 3, 8, 4, 9, 1, 6, 2, 7]\n",
      " step  1 = [1, 3, 8, 4, 9, 5, 6, 2, 7]\n",
      " step  2 = [1, 2, 8, 4, 9, 5, 6, 3, 7]\n",
      " step  3 = [1, 2, 3, 4, 9, 5, 6, 8, 7]\n",
      " step  4 = [1, 2, 3, 4, 9, 5, 6, 8, 7]\n",
      " step  5 = [1, 2, 3, 4, 5, 9, 6, 8, 7]\n",
      " step  6 = [1, 2, 3, 4, 5, 6, 9, 8, 7]\n",
      " step  7 = [1, 2, 3, 4, 5, 6, 7, 8, 9]\n",
      " step  8 = [1, 2, 3, 4, 5, 6, 7, 8, 9]\n",
      "selection :  [1, 2, 3, 4, 5, 6, 7, 8, 9]\n"
     ]
    }
   ],
   "source": [
    "def selection(A):\n",
    "    n=len(A)\n",
    "    for i in range(n-1):\n",
    "        least =i\n",
    "        for j in range(i+1, n):\n",
    "            if(A[j]<A[least]):\n",
    "                least =j\n",
    "        A[i], A[least] = A[least], A[i]\n",
    "        printstep(A, i+1)\n",
    "\n",
    "def printstep(arr, val):\n",
    "    print(\" step %2d = \" % val, end='')\n",
    "    print(arr)\n",
    "\n",
    "data = [5,3,8,4,9,1,6,2,7]\n",
    "print(\"original\", data)\n",
    "selection(data)\n",
    "print(\"selection : \",data)"
   ]
  },
  {
   "cell_type": "markdown",
   "metadata": {},
   "source": [
    "## 7.수행 결과"
   ]
  },
  {
   "cell_type": "code",
   "execution_count": null,
   "metadata": {},
   "outputs": [],
   "source": []
  },
  {
   "cell_type": "markdown",
   "metadata": {},
   "source": [
    "## 8. 복잡도 분석"
   ]
  },
  {
   "cell_type": "markdown",
   "metadata": {},
   "source": [
    "O(n2)"
   ]
  },
  {
   "cell_type": "markdown",
   "metadata": {},
   "source": [
    "## 9. 조별 협력 내용"
   ]
  }
 ],
 "metadata": {
  "kernelspec": {
   "display_name": "Python 3",
   "language": "python",
   "name": "python3"
  },
  "language_info": {
   "codemirror_mode": {
    "name": "ipython",
    "version": 3
   },
   "file_extension": ".py",
   "mimetype": "text/x-python",
   "name": "python",
   "nbconvert_exporter": "python",
   "pygments_lexer": "ipython3",
   "version": "3.11.8"
  }
 },
 "nbformat": 4,
 "nbformat_minor": 2
}
