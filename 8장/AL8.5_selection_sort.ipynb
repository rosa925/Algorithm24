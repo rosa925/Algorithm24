{
 "cells": [
  {
   "cell_type": "markdown",
   "metadata": {},
   "source": [
    "#### 1) 문제 정의 (MD)"
   ]
  },
  {
   "cell_type": "markdown",
   "metadata": {},
   "source": [
    "그래프의 최소 비용 신장 트리를 찾는 문제이다."
   ]
  },
  {
   "cell_type": "markdown",
   "metadata": {},
   "source": [
    "#### 2) 알고리즘 설명  (MD)"
   ]
  },
  {
   "cell_type": "markdown",
   "metadata": {},
   "source": [
    "prim 알고리즘을 이용하여 주어진 그래프의 최소 비용 신장 트리를 찾는 알고리즘으로, MST는 주어진 그래프의 모든 정점을 포함하면서 사이클을 만들지 않는 부분 그래프 중에서 간선의 가중치 합이 최소인 것이다."
   ]
  },
  {
   "cell_type": "markdown",
   "metadata": {},
   "source": [
    "####  3) 손으로 푼 예제 (MD, 이미지 삽입)"
   ]
  },
  {
   "cell_type": "markdown",
   "metadata": {},
   "source": [
    "#### 4) 알고리즘 개요(입력 변수, 출력, 알고리즘 개요) (MD)"
   ]
  },
  {
   "cell_type": "markdown",
   "metadata": {},
   "source": [
    "##### 함수명: getMinVertex(dist,selected)/MSTPrim(vertex,adj)\n",
    "##### 입력 변수: vertex,weight\n",
    "##### 출력: 각 단계에서 선택된 정점과 그 정점까지의 최소 거리"
   ]
  },
  {
   "cell_type": "markdown",
   "metadata": {},
   "source": [
    "#### 5) 알고리즘 코드 (PY,C)"
   ]
  },
  {
   "cell_type": "code",
   "execution_count": 1,
   "metadata": {},
   "outputs": [],
   "source": [
    "INF = 9999\n",
    "\n",
    "def getMinVertex(dist, selected):\n",
    "    minv = -1\n",
    "    mindist = INF\n",
    "    for v in range(len(dist)):\n",
    "        if not selected[v] and dist[v] < mindist:\n",
    "            mindist = dist[v]\n",
    "            minv = v\n",
    "    return minv\n",
    "\n",
    "def MSTPrim(vertex, adj):\n",
    "    vsize = len(vertex)\n",
    "    dist = [INF] * vsize\n",
    "    selected = [False] * vsize\n",
    "    dist[0] = 0 \n",
    "\n",
    "    for i in range(vsize):\n",
    "        u = getMinVertex(dist, selected)\n",
    "        selected[u] = True\n",
    "        print(f\"{vertex[u]}:{dist}\")\n",
    "\n",
    "        for v in range(vsize):\n",
    "            if adj[u][v] is not None:\n",
    "                if not selected[v] and adj[u][v] < dist[v]:\n",
    "                    dist[v] = adj[u][v]"
   ]
  },
  {
   "cell_type": "markdown",
   "metadata": {},
   "source": [
    "#### 6) 테스트 코드  (PY,C) , 입력을 바꾸어서"
   ]
  },
  {
   "cell_type": "code",
   "execution_count": 2,
   "metadata": {},
   "outputs": [
    {
     "name": "stdout",
     "output_type": "stream",
     "text": [
      "MST By Prim's Algorithm\n",
      "A:[0, 9999, 9999, 9999, 9999, 9999, 9999]\n",
      "F:[0, 29, 9999, 9999, 9999, 10, 9999]\n",
      "E:[0, 29, 9999, 9999, 27, 10, 9999]\n",
      "D:[0, 29, 9999, 22, 27, 10, 25]\n",
      "C:[0, 29, 12, 22, 27, 10, 18]\n",
      "B:[0, 16, 12, 22, 27, 10, 18]\n",
      "G:[0, 16, 12, 22, 27, 10, 15]\n"
     ]
    }
   ],
   "source": [
    "vertex = ['A', 'B', 'C', 'D', 'E', 'F', 'G']\n",
    "weight = [\n",
    "    [None, 29, None, None, None, 10, None],\n",
    "    [29, None, 16, None, None, None, 15],\n",
    "    [None, 16, None, 12, None, None, None],\n",
    "    [None, None, 12, None, 22, None, 18],\n",
    "    [None, None, None, 22, None, 27, 25],\n",
    "    [10, None, None, None, 27, None, None],\n",
    "    [None, 15, None, 18, 25, None, None]\n",
    "]\n",
    "\n",
    "print(\"MST By Prim's Algorithm\")\n",
    "MSTPrim(vertex, weight)"
   ]
  },
  {
   "cell_type": "markdown",
   "metadata": {},
   "source": [
    "#### 7) 수행 결과 (MD, 결과 캡춰하여 이미지로 삽입)"
   ]
  },
  {
   "attachments": {
    "image.png": {
     "image/png": "[encoded data removed]"
    }
   },
   "cell_type": "markdown",
   "metadata": {},
   "source": [
    "![image.png](attachment:image.png)"
   ]
  },
  {
   "cell_type": "markdown",
   "metadata": {},
   "source": [
    "#### 8) 복잡도 분석"
   ]
  },
  {
   "cell_type": "markdown",
   "metadata": {},
   "source": [
    "O(n^2)이다."
   ]
  },
  {
   "cell_type": "markdown",
   "metadata": {},
   "source": [
    "#### 9) 조별 협력 내용 (상호 지도)"
   ]
  },
  {
   "cell_type": "markdown",
   "metadata": {},
   "source": [
    "각자 푸는 단계에 대해 이해를 못하는 부분이 있으면 실습시간에 서로 물어보면서 문제를 풀어나갔습니다."
   ]
  }
 ],
 "metadata": {
  "kernelspec": {
   "display_name": "Python 3",
   "language": "python",
   "name": "python3"
  },
  "language_info": {
   "codemirror_mode": {
    "name": "ipython",
    "version": 3
   },
   "file_extension": ".py",
   "mimetype": "text/x-python",
   "name": "python",
   "nbconvert_exporter": "python",
   "pygments_lexer": "ipython3",
   "version": "3.11.9"
  }
 },
 "nbformat": 4,
 "nbformat_minor": 2
}
