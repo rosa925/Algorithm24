{
 "cells": [
  {
   "cell_type": "code",
   "execution_count": 1,
   "metadata": {},
   "outputs": [
    {
     "name": "stdout",
     "output_type": "stream",
     "text": [
      "Closest pair distance: 1.4142135623730951\n"
     ]
    }
   ],
   "source": [
    "import math\n",
    "\n",
    "def distance(p1, p2):\n",
    "    return math.sqrt((p1[0] - p2[0]) ** 2 + (p1[1] - p2[1]) ** 2)\n",
    "\n",
    "def closest_pair_strip(strip, d):\n",
    "    min_dist = d\n",
    "    strip_len = len(strip)\n",
    "    \n",
    "    for i in range(strip_len):\n",
    "        j = i + 1\n",
    "        while j < strip_len and (strip[j][1] - strip[i][1]) < min_dist:\n",
    "            min_dist = min(min_dist, distance(strip[i], strip[j]))\n",
    "            j += 1\n",
    "    \n",
    "    return min_dist\n",
    "\n",
    "def closest_pair_dist(P, n):\n",
    "    if n <= 3:\n",
    "        return closest_pair(P)\n",
    "\n",
    "    P.sort(key=lambda x: x[0])\n",
    "    \n",
    "    mid = n // 2\n",
    "    mid_point = P[mid]\n",
    "\n",
    "    dl = closest_pair_dist(P[:mid], mid)\n",
    "    dr = closest_pair_dist(P[mid:], n - mid)\n",
    "\n",
    "    d = min(dl, dr)\n",
    "\n",
    "    strip = []\n",
    "    for point in P:\n",
    "        if abs(point[0] - mid_point[0]) < d:\n",
    "            strip.append(point)\n",
    "\n",
    "    strip_closest = closest_pair_strip(strip, d)\n",
    "\n",
    "    return min(d, strip_closest)\n",
    "\n",
    "def closest_pair(P):\n",
    "    min_dist = float('inf')\n",
    "    n = len(P)\n",
    "    for i in range(n):\n",
    "        for j in range(i+1, n):\n",
    "            dist = distance(P[i], P[j])\n",
    "            min_dist = min(min_dist, dist)\n",
    "    return min_dist\n",
    "\n",
    "# 예제\n",
    "points = [(2, 3), (12, 30), (40, 50), (5, 1), (12, 10), (3, 4)]\n",
    "print(\"Closest pair distance:\", closest_pair_dist(points, len(points)))\n"
   ]
  }
 ],
 "metadata": {
  "kernelspec": {
   "display_name": "Python 3",
   "language": "python",
   "name": "python3"
  },
  "language_info": {
   "codemirror_mode": {
    "name": "ipython",
    "version": 3
   },
   "file_extension": ".py",
   "mimetype": "text/x-python",
   "name": "python",
   "nbconvert_exporter": "python",
   "pygments_lexer": "ipython3",
   "version": "3.11.9"
  }
 },
 "nbformat": 4,
 "nbformat_minor": 2
}
