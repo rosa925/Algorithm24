{
 "cells": [
  {
   "cell_type": "markdown",
   "metadata": {},
   "source": [
    "#### 1) 문제 정의 (MD)"
   ]
  },
  {
   "cell_type": "markdown",
   "metadata": {},
   "source": [
    "가중치 그래프가 주어졌을 때 어느 한 정점에서 출발하여 다른 모든 정점까지의 최단경로의 거리를 구하라. 이때, 경로의 거리는 그 경로에 포함된 간선들의 가중치 합이고, 간선의 가중치로 음수는 허용하지 않는다."
   ]
  },
  {
   "cell_type": "markdown",
   "metadata": {},
   "source": [
    "#### 2) 알고리즘 설명  (MD)"
   ]
  },
  {
   "cell_type": "markdown",
   "metadata": {},
   "source": [
    "허프만 트리 생성 알고리즘이다."
   ]
  },
  {
   "cell_type": "markdown",
   "metadata": {},
   "source": [
    "####  3) 손으로 푼 예제 (MD, 이미지 삽입)"
   ]
  },
  {
   "cell_type": "markdown",
   "metadata": {},
   "source": [
    "#### 4) 알고리즘 개요(입력 변수, 출력, 알고리즘 개요) (MD)"
   ]
  },
  {
   "cell_type": "markdown",
   "metadata": {},
   "source": [
    "##### 함수명: def shortest_path_dijkstra(vtx, adj, start)\n",
    "##### 입력 변수: dist, path, found\n",
    "##### 출력: 각 단계별 dist[] 배열의 값 변화, 최종적인 최단경로 거리, A부터 모든 정점까지의 최단경로"
   ]
  },
  {
   "cell_type": "markdown",
   "metadata": {},
   "source": [
    "#### 5) 알고리즘 코드 (PY,C)"
   ]
  },
  {
   "cell_type": "code",
   "execution_count": 1,
   "metadata": {},
   "outputs": [],
   "source": [
    "import heapq\n",
    "def make_heap_tree(freq, lavel):\n",
    "    n = len(freq)\n",
    "    h=[]\n",
    "    for i in range(n) :\n",
    "        heapq.heappush(h, (freq[i], label[i]))\n",
    "\n",
    "    for i in range(1, n) :\n",
    "        e1 = heapq.heappop(h)\n",
    "        e2 = heapq.heappop(h)\n",
    "        heapq.heappush(h, (e1[0]+e2[0], e1[1]+e2[1]))\n",
    "        print(e1, \"+\", e2)\n",
    "\n",
    "    print(heapq.heappop(h))"
   ]
  },
  {
   "cell_type": "markdown",
   "metadata": {},
   "source": [
    "#### 6) 테스트 코드  (PY,C) , 입력을 바꾸어서"
   ]
  },
  {
   "cell_type": "code",
   "execution_count": 2,
   "metadata": {},
   "outputs": [
    {
     "name": "stdout",
     "output_type": "stream",
     "text": [
      "(3, 'B') + (4, 'G')\n",
      "(6, 'F') + (7, 'BG')\n",
      "(8, 'C') + (10, 'D')\n",
      "(12, 'H') + (13, 'FBG')\n",
      "(18, 'CD') + (24, 'A')\n",
      "(25, 'HFBG') + (33, 'E')\n",
      "(42, 'CDA') + (58, 'HFBGE')\n",
      "(100, 'CDAHFBGE')\n"
     ]
    }
   ],
   "source": [
    "label = [ 'A', 'B', 'C', 'D', 'E', 'F', 'G', 'H' ]\n",
    "freq =  [24,    3,    8,    10,   33,   6,    4,    12]\n",
    "make_heap_tree(freq, label)"
   ]
  },
  {
   "cell_type": "markdown",
   "metadata": {},
   "source": [
    "#### 7) 수행 결과 (MD, 결과 캡춰하여 이미지로 삽입)"
   ]
  },
  {
   "attachments": {
    "image.png": {
     "image/png": "[encoded data removed]"
    }
   },
   "cell_type": "markdown",
   "metadata": {},
   "source": [
    "![image.png](attachment:image.png)"
   ]
  },
  {
   "cell_type": "markdown",
   "metadata": {},
   "source": [
    "#### 8) 복잡도 분석"
   ]
  },
  {
   "cell_type": "markdown",
   "metadata": {},
   "source": [
    "O(nlog2n)이다."
   ]
  },
  {
   "cell_type": "markdown",
   "metadata": {},
   "source": [
    "#### 9) 조별 협력 내용 (상호 지도)"
   ]
  },
  {
   "cell_type": "markdown",
   "metadata": {},
   "source": [
    "각자 푸는 단계에 대해 이해를 못하는 부분이 있으면 실습시간에 서로 물어보면서 문제를 풀어나갔습니다."
   ]
  }
 ],
 "metadata": {
  "kernelspec": {
   "display_name": "Python 3",
   "language": "python",
   "name": "python3"
  },
  "language_info": {
   "codemirror_mode": {
    "name": "ipython",
    "version": 3
   },
   "file_extension": ".py",
   "mimetype": "text/x-python",
   "name": "python",
   "nbconvert_exporter": "python",
   "pygments_lexer": "ipython3",
   "version": "3.11.9"
  }
 },
 "nbformat": 4,
 "nbformat_minor": 2
}
