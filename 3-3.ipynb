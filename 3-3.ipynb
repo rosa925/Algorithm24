{
 "cells": [
  {
   "cell_type": "code",
   "execution_count": null,
   "metadata": {},
   "outputs": [],
   "source": [
    "def string_matching(T, P):\n",
    "    n = len(T)\n",
    "    m = len(P)\n",
    "    for i in range(n-m+1)\n",
    "    j = 0\n",
    "    while j < m and P[j]==T[i+j] :\n",
    "        j = j + 1\n",
    "    if j == m :\n",
    "        return i\n",
    "    return -1"
   ]
  }
 ],
 "metadata": {
  "language_info": {
   "name": "python"
  }
 },
 "nbformat": 4,
 "nbformat_minor": 2
}
