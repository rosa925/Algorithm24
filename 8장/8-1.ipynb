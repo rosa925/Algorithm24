{
 "cells": [
  {
   "cell_type": "code",
   "execution_count": 1,
   "metadata": {},
   "outputs": [],
   "source": [
    "def min_coins_greedy(coins, V):\n",
    "    count = []\n",
    "    remaining_value = V  # V를 새로운 변수로 복사하여 사용\n",
    "    for i in range(len(coins)):\n",
    "        cnt = remaining_value // coins[i]\n",
    "        count.append(cnt)\n",
    "        remaining_value -= cnt * coins[i]\n",
    "    return count"
   ]
  },
  {
   "cell_type": "code",
   "execution_count": 2,
   "metadata": {},
   "outputs": [
    {
     "name": "stdout",
     "output_type": "stream",
     "text": [
      "잔돈 액수 =  580\n",
      "동전 종류 =  [500, 100, 50, 10, 5, 1]\n",
      "동전 개수 =  [1, 0, 1, 3, 0, 0]\n"
     ]
    }
   ],
   "source": [
    "coins = [500, 100, 50, 10, 5, 1]\n",
    "V = 580\n",
    "print(\"잔돈 액수 = \", V)\n",
    "print(\"동전 종류 = \", coins)\n",
    "print(\"동전 개수 = \", min_coins_greedy(coins, V))"
   ]
  }
 ],
 "metadata": {
  "kernelspec": {
   "display_name": "base",
   "language": "python",
   "name": "python3"
  },
  "language_info": {
   "codemirror_mode": {
    "name": "ipython",
    "version": 3
   },
   "file_extension": ".py",
   "mimetype": "text/x-python",
   "name": "python",
   "nbconvert_exporter": "python",
   "pygments_lexer": "ipython3",
   "version": "3.11.9"
  }
 },
 "nbformat": 4,
 "nbformat_minor": 2
}
