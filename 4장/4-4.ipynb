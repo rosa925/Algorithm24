{
 "cells": [
  {
   "cell_type": "code",
   "execution_count": 1,
   "metadata": {},
   "outputs": [
    {
     "name": "stdout",
     "output_type": "stream",
     "text": [
      "topological_sort:\n",
      "B E A C D F\n",
      "\n"
     ]
    }
   ],
   "source": [
    "def topological_sort(graph):\n",
    "    indeg = {}\n",
    "    for v in graph:\n",
    "        indeg[v] = 0\n",
    "    for v in graph:\n",
    "        for u in graph[v]:\n",
    "            indeg[u] += 1\n",
    "\n",
    "    vlist = []\n",
    "    for v in graph:\n",
    "        if indeg[v] == 0:\n",
    "            vlist.append(v)\n",
    "\n",
    "    sorted_elements = []\n",
    "    while vlist:\n",
    "        v = vlist.pop()\n",
    "        sorted_elements.append(v)\n",
    "\n",
    "        for u in graph[v]:\n",
    "            indeg[u] -= 1\n",
    "            if indeg[u] == 0:\n",
    "                vlist.append(u)\n",
    "\n",
    "    print(' '.join(sorted_elements))\n",
    "\n",
    "mygraph = {\n",
    "    \"A\": {\"C\", \"D\"},\n",
    "    \"B\": {\"D\", \"E\"},\n",
    "    \"C\": {\"D\", \"F\"},\n",
    "    \"D\": {\"F\"},\n",
    "    \"E\": {\"F\"},\n",
    "    \"F\": {}\n",
    "}\n",
    "print('topological_sort:')\n",
    "topological_sort(mygraph)\n",
    "print()"
   ]
  }
 ],
 "metadata": {
  "kernelspec": {
   "display_name": "Python 3",
   "language": "python",
   "name": "python3"
  },
  "language_info": {
   "codemirror_mode": {
    "name": "ipython",
    "version": 3
   },
   "file_extension": ".py",
   "mimetype": "text/x-python",
   "name": "python",
   "nbconvert_exporter": "python",
   "pygments_lexer": "ipython3",
   "version": "3.11.9"
  }
 },
 "nbformat": 4,
 "nbformat_minor": 2
}
