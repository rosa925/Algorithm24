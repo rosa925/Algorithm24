{
 "cells": [
  {
   "cell_type": "code",
   "execution_count": 1,
   "metadata": {},
   "outputs": [
    {
     "name": "stdout",
     "output_type": "stream",
     "text": [
      "최근접 거리 1.4142135623730951\n"
     ]
    }
   ],
   "source": [
    "import math\n",
    "import sys\n",
    "INF = sys.maxsize\n",
    "\n",
    "def distance(p1, p2):\n",
    "    return math.sqrt((p1[0]-p2[0])**2 + (p1[1]-p2[1])**2)\n",
    "\n",
    "def closet_pair(p):\n",
    "    n=len(p)\n",
    "    mindist=float(INF)\n",
    "    for i in range(n-1):\n",
    "        for j in range(i+1, n):\n",
    "            dist=distance(p[i], p[j])\n",
    "            if dist < mindist:\n",
    "                mindist=dist\n",
    "    return mindist\n",
    "\n",
    "p=[(2,3),(12,30),(40,50),(5,1),(12,10),(3,4)]\n",
    "print(\"최근접 거리\", closet_pair(p))"
   ]
  }
 ],
 "metadata": {
  "kernelspec": {
   "display_name": "Python 3",
   "language": "python",
   "name": "python3"
  },
  "language_info": {
   "codemirror_mode": {
    "name": "ipython",
    "version": 3
   },
   "file_extension": ".py",
   "mimetype": "text/x-python",
   "name": "python",
   "nbconvert_exporter": "python",
   "pygments_lexer": "ipython3",
   "version": "3.11.9"
  }
 },
 "nbformat": 4,
 "nbformat_minor": 2
}
