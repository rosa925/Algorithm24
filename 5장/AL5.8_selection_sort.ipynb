{
 "cells": [
  {
   "cell_type": "markdown",
   "metadata": {},
   "source": [
    "#### 1) 문제 정의 (MD)"
   ]
  },
  {
   "cell_type": "markdown",
   "metadata": {},
   "source": [
    "이진트리의 높이를 구하는 문제이다."
   ]
  },
  {
   "cell_type": "markdown",
   "metadata": {},
   "source": [
    "#### 2) 알고리즘 설명  (MD)"
   ]
  },
  {
   "cell_type": "markdown",
   "metadata": {},
   "source": [
    "루트가 None이면 공백 트리를 의미하며 높이 0을 바로 반환한다. 공백 트리가 아니면 두 서브 트리의 높이를 계산하는데, 순환 호출을 사용하여 마지막으로 결과를 비교해 더 큰 값에 1을 더한 값을 반황한다."
   ]
  },
  {
   "cell_type": "markdown",
   "metadata": {},
   "source": [
    "####  3) 손으로 푼 예제 (MD, 이미지 삽입)"
   ]
  },
  {
   "cell_type": "markdown",
   "metadata": {},
   "source": [
    "#### 4) 알고리즘 개요(입력 변수, 출력, 알고리즘 개요) (MD)"
   ]
  },
  {
   "cell_type": "markdown",
   "metadata": {},
   "source": [
    "##### 입력 변수 : root\n",
    "##### 출력 변수 : 루트노드(root)의 서브트리들 중 가장 높은 높이에 1을 더한 값\n",
    "##### 함수 설명 : calc_height -> 주어진 이진 트리의 높으를 구하는 함수"
   ]
  },
  {
   "cell_type": "markdown",
   "metadata": {},
   "source": [
    "#### 5) 알고리즘 코드 (PY,C)"
   ]
  },
  {
   "cell_type": "code",
   "execution_count": 1,
   "metadata": {},
   "outputs": [],
   "source": [
    "def strip_closest(P, d):\n",
    "    n = len(P)\n",
    "    d_min = d\n",
    "\n",
    "    for i in range(n):\n",
    "        j = i + 1\n",
    "        while j < n and P[j][1] - P[i][1] < d_min: \n",
    "            dij = distance(P[i], P[j])\n",
    "            if dij < d_min:\n",
    "                d_min = dij\n",
    "            j += 1\n",
    "    return d_min"
   ]
  },
  {
   "cell_type": "markdown",
   "metadata": {},
   "source": [
    "#### 6) 테스트 코드  (PY,C) , 입력을 바꾸어서"
   ]
  },
  {
   "cell_type": "code",
   "execution_count": 2,
   "metadata": {},
   "outputs": [
    {
     "name": "stdout",
     "output_type": "stream",
     "text": [
      "띠 영역내에서 d보다 작은 최근접쌍의 거리 찾기: 1.0\n"
     ]
    }
   ],
   "source": [
    "import math\n",
    "\n",
    "def distance(p1, p2):\n",
    "    return math.sqrt((p1[0] - p2[0])**2 + (p1[1] - p2[1])**2) #3장 113p\n",
    "\n",
    "def strip_closest(P, d):\n",
    "    n = len(P)\n",
    "    d_min = d\n",
    "\n",
    "    for i in range(n):\n",
    "        j = i + 1\n",
    "        while j < n and P[j][1] - P[i][1] < d_min: \n",
    "            dij = distance(P[i], P[j])\n",
    "            if dij < d_min:\n",
    "                d_min = dij\n",
    "            j += 1\n",
    "    return d_min\n",
    "\n",
    "P = [(2,6),(4,7),(4,1),(5,1),(3,2)]\n",
    "P.sort(key=lambda point: point[1])  \n",
    "print(\"띠 영역내에서 d보다 작은 최근접쌍의 거리 찾기:\", strip_closest(P, len(P)))"
   ]
  },
  {
   "cell_type": "markdown",
   "metadata": {},
   "source": [
    "#### 7) 수행 결과 (MD, 결과 캡춰하여 이미지로 삽입)"
   ]
  },
  {
   "cell_type": "markdown",
   "metadata": {},
   "source": [
    "#### 8) 복잡도 분석"
   ]
  },
  {
   "cell_type": "markdown",
   "metadata": {},
   "source": [
    "O(n) 이다."
   ]
  },
  {
   "cell_type": "markdown",
   "metadata": {},
   "source": [
    "#### 9) 조별 협력 내용 (상호 지도)"
   ]
  },
  {
   "cell_type": "markdown",
   "metadata": {},
   "source": [
    "각자 푸는 단계에 대해 이해를 못하는 부분이 있으면 실습시간에 서로 물어보면서 문제를 풀어나갔습니다."
   ]
  }
 ],
 "metadata": {
  "kernelspec": {
   "display_name": "Python 3",
   "language": "python",
   "name": "python3"
  },
  "language_info": {
   "codemirror_mode": {
    "name": "ipython",
    "version": 3
   },
   "file_extension": ".py",
   "mimetype": "text/x-python",
   "name": "python",
   "nbconvert_exporter": "python",
   "pygments_lexer": "ipython3",
   "version": "3.12.2"
  }
 },
 "nbformat": 4,
 "nbformat_minor": 2
}
