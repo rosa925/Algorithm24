{
 "cells": [
  {
   "cell_type": "code",
   "execution_count": null,
   "metadata": {},
   "outputs": [],
   "source": [
    "import math\n",
    "import sys\n",
    "INF = sys.maxsize\n",
    "\n",
    "def distance(p1, p2):\n",
    "    return math.sqrt((p1[0]-p2[0])**2 + (p1[1]-p2[1])**2)\n",
    "\n",
    "def closet_pair(p):\n",
    "    n=len(p)\n",
    "    mindist=float(INF)\n",
    "    for i in range(n-1):\n",
    "        for j in range(i+1, n):\n",
    "            dist=distance(p[i], p[j])\n",
    "            if dist < mindist:\n",
    "                mindist=dist\n",
    "    return mindist\n",
    "\n",
    "p=[(2,3),(12,30),(40,50),(5,1),(12,10),(3,4)]\n",
    "print(\"최근접 거리\", closet_pair(p))"
   ]
  }
 ],
 "metadata": {
  "language_info": {
   "name": "python"
  }
 },
 "nbformat": 4,
 "nbformat_minor": 2
}
