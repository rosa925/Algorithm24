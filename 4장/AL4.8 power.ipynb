{
 "cells": [
  {
   "cell_type": "markdown",
   "metadata": {},
   "source": [
    "## 1) 문제정의"
   ]
  },
  {
   "cell_type": "markdown",
   "metadata": {},
   "source": [
    "거듭제곱을 축소정복기법을 사용하여 효율적으로 계산하기."
   ]
  },
  {
   "cell_type": "markdown",
   "metadata": {},
   "source": [
    "## 2)알고리즘 설명"
   ]
  },
  {
   "cell_type": "markdown",
   "metadata": {},
   "source": [
    " n이 짝수이면 x^n = (x^2)^n/2의 공식을 이용해 x^2을 먼저 계산한 후에 이 값을 n/2승한다. n이 홀수이면 x^2을 (n-1)/2승 하고 여기에 x를 곱해준다."
   ]
  },
  {
   "cell_type": "markdown",
   "metadata": {},
   "source": [
    "## 3)손으로 푼 예제"
   ]
  },
  {
   "cell_type": "markdown",
   "metadata": {},
   "source": [
    "## 4) 코드개요"
   ]
  },
  {
   "cell_type": "markdown",
   "metadata": {},
   "source": [
    "함수명:power(x,n)\n",
    "입력값: \n",
    "power(2.0,500)\n",
    "slow_power(2.0,500)\n",
    "출력값: \n",
    "print(\"억지기법(2**500)=\",power(2.0,500))\n",
    "print(\"축소정복기법(2**500)=\",slow_power(2.0,500))\n",
    "\n",
    "설명: 재규함수 power을 사용하여 입력값이 짝수이면 짝수를 검사하는 조건문에 (x*x,n//2)을 통과해 출력시키고 입력값이 홀수이면 홀수 조건문을 검사하는 x*power (x*x,(n-1)//2)공식에 대입을 한다.\n",
    "반복문을 통해 2.0을 500번 제곱한 값을 반환하고 억지기법과 축소정복기법의 시간을 계산해 더 나은 알고리즘과 알 수 있게 출력한다.\n",
    "\n",
    "\n"
   ]
  },
  {
   "cell_type": "markdown",
   "metadata": {},
   "source": [
    "## 5) 코드"
   ]
  },
  {
   "cell_type": "code",
   "execution_count": 4,
   "metadata": {},
   "outputs": [
    {
     "name": "stdout",
     "output_type": "stream",
     "text": [
      "억지기법(3**300)= 1.3689147905858837e+143\n",
      "축소정복기법(3**300)= 1.3689147905858834e+143\n",
      "억지기법 시간 :  0.7781157493591309\n",
      "축소정복기법 시간 : 0.1403191089630127\n"
     ]
    }
   ],
   "source": [
    "def slow_power(x,n):\n",
    "    result = 1.0\n",
    "    for i in range(n):\n",
    "        result = result *x\n",
    "    return result\n",
    "\n",
    "def power(x,n):\n",
    "    if n==0:\n",
    "        return 1\n",
    "    elif(n%2)==0:\n",
    "        return power(x*x,n//2)\n",
    "    else:\n",
    "        return x*power(x*x,(n-1)//2)\n",
    "    \n",
    "import time\n",
    "print(\"억지기법(2**500)=\",power(2.0,500))\n",
    "print(\"축소정복기법(2**500)=\",slow_power(2.0,500))\n",
    "\n",
    "t1 = time.time()\n",
    "for i in range(100000): power(2.0,500)\n",
    "t2 = time.time()\n",
    "for i in range(100000): slow_power(2.0,500)\n",
    "t3 = time.time()\n",
    "print(\"억지기법 시간 : \",t3-t2)\n",
    "print(\"축소정복기법 시간 :\",t2-t1)"
   ]
  },
  {
   "cell_type": "markdown",
   "metadata": {},
   "source": [
    "## 6) 테스트 코드"
   ]
  },
  {
   "cell_type": "code",
   "execution_count": null,
   "metadata": {},
   "outputs": [],
   "source": [
    "\n",
    "def slow_power(x,n):\n",
    "    result = 1.0\n",
    "    for i in range(n):\n",
    "        result = result *x\n",
    "    return result\n",
    "\n",
    "def power(x,n):\n",
    "    if n==0:\n",
    "        return 1\n",
    "    elif(n%2)==0:\n",
    "        return power(x*x,n//2)\n",
    "    else:\n",
    "        return x*power(x*x,(n-1)//2)\n",
    "    \n",
    "import time\n",
    "print(\"억지기법(3**300)=\",power(3.0,300))\n",
    "print(\"축소정복기법(3**300)=\",slow_power(3.0,300))\n",
    "\n",
    "t1 = time.time()\n",
    "for i in range(90000): power(3.0,300)\n",
    "t2 = time.time()\n",
    "for i in range(90000): slow_power(3.0,300)\n",
    "t3 = time.time()\n",
    "print(\"억지기법 시간 : \",t3-t2)\n",
    "print(\"축소정복기법 시간 :\",t2-t1)"
   ]
  },
  {
   "cell_type": "markdown",
   "metadata": {},
   "source": [
    "## 7) 수행 결과"
   ]
  },
  {
   "attachments": {
    "1.png": {
     "image/png": "[encoded data removed]"
    }
   },
   "cell_type": "markdown",
   "metadata": {},
   "source": [
    "[![1.png](attachment:1.png)]"
   ]
  },
  {
   "cell_type": "markdown",
   "metadata": {},
   "source": [
    "## 8) 복잡도 분석"
   ]
  },
  {
   "cell_type": "markdown",
   "metadata": {},
   "source": [
    "O(log2n)"
   ]
  },
  {
   "cell_type": "markdown",
   "metadata": {},
   "source": [
    "## 9) 협력 내용"
   ]
  },
  {
   "cell_type": "markdown",
   "metadata": {},
   "source": []
  }
 ],
 "metadata": {
  "kernelspec": {
   "display_name": "base",
   "language": "python",
   "name": "python3"
  },
  "language_info": {
   "codemirror_mode": {
    "name": "ipython",
    "version": 3
   },
   "file_extension": ".py",
   "mimetype": "text/x-python",
   "name": "python",
   "nbconvert_exporter": "python",
   "pygments_lexer": "ipython3",
   "version": "3.11.7"
  }
 },
 "nbformat": 4,
 "nbformat_minor": 2
}
