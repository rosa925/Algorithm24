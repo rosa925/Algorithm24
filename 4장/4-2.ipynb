{
 "cells": [
  {
   "cell_type": "code",
   "execution_count": 4,
   "metadata": {},
   "outputs": [
    {
     "name": "stdout",
     "output_type": "stream",
     "text": [
      "8!는 3628800\n"
     ]
    }
   ],
   "source": [
    "def factorial_iter(n) :\n",
    "    result = 1\n",
    "    for k in range(1, n+1) :\n",
    "        result = result * k\n",
    "    return result\n",
    "\n",
    "print(f\"8!는 {factorial_iter(10)}\")"
   ]
  }
 ],
 "metadata": {
  "kernelspec": {
   "display_name": "Python 3",
   "language": "python",
   "name": "python3"
  },
  "language_info": {
   "codemirror_mode": {
    "name": "ipython",
    "version": 3
   },
   "file_extension": ".py",
   "mimetype": "text/x-python",
   "name": "python",
   "nbconvert_exporter": "python",
   "pygments_lexer": "ipython3",
   "version": "3.11.9"
  }
 },
 "nbformat": 4,
 "nbformat_minor": 2
}
