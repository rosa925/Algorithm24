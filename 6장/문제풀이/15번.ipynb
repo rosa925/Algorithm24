{
 "cells": [
  {
   "cell_type": "code",
   "execution_count": null,
   "metadata": {},
   "outputs": [],
   "source": [
    "def counting_sort(arr):\n",
    "    # ASCII 범위에서 a~z와 A~Z에 해당하는 인덱스 범위 설정\n",
    "    min_char = ord('A')  # 'A'의 아스키 코드 값\n",
    "    max_char = ord('z')  # 'z'의 아스키 코드 값\n",
    "    range_size = max_char - min_char + 1  # 범위 크기 계산\n",
    "    \n",
    "    # 카운팅 배열 초기화\n",
    "    count = [0] * range_size  # 각 문자의 빈도를 저장할 배열\n",
    "    \n",
    "    # 입력 배열의 각 문자 개수 측정\n",
    "    for char in arr:\n",
    "        count[ord(char) - min_char] += 1  # 해당 문자의 카운트를 증가\n",
    "    \n",
    "    # 카운팅 배열을 기반으로 정렬된 배열 생성\n",
    "    sorted_arr = []\n",
    "    for i in range(range_size):\n",
    "        sorted_arr.extend([chr(i + min_char)] * count[i])  # 카운팅 배열을 바탕으로 정렬된 배열을 만듦\n",
    "    \n",
    "    return sorted_arr\n"
   ]
  },
  {
   "cell_type": "code",
   "execution_count": null,
   "metadata": {},
   "outputs": [],
   "source": [
    "# 테스트\n",
    "arr = ['b', 'A', 'd', 'C', 'a', 'B', 'c', 'D']  # 정렬할 입력 배열\n",
    "sorted_arr = counting_sort(arr)  # 카운팅 정렬 수행\n",
    "print(sorted_arr)  # 정렬된 배열 출력: ['A', 'B', 'C', 'D', 'a', 'b', 'c', 'd']"
   ]
  }
 ],
 "metadata": {
  "language_info": {
   "name": "python"
  }
 },
 "nbformat": 4,
 "nbformat_minor": 2
}
