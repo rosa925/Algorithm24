{
 "cells": [
  {
   "cell_type": "code",
   "execution_count": 2,
   "metadata": {},
   "outputs": [
    {
     "name": "stdout",
     "output_type": "stream",
     "text": [
      " 최초:  [None, None, None, None, None, None, None, None, None, None, None, None, None]\n",
      "45 삽입:  [None, None, None, None, None, None, 45, None, None, None, None, None, None]\n",
      "27 삽입:  [None, 27, None, None, None, None, 45, None, None, None, None, None, None]\n",
      "88 삽입:  [None, 27, None, None, None, None, 45, None, None, None, 88, None, None]\n",
      "9 삽입:  [None, 27, None, None, None, None, 45, None, None, 9, 88, None, None]\n",
      "71 삽입:  [None, 27, None, None, None, None, 45, 71, None, 9, 88, None, None]\n",
      "60 삽입:  [None, 27, None, None, None, None, 45, 71, 60, 9, 88, None, None]\n",
      "46 삽입:  [None, 27, None, None, None, None, 45, 71, 60, 9, 88, 46, None]\n",
      "38 삽입:  [None, 27, None, None, None, None, 45, 71, 60, 9, 88, 46, 38]\n",
      "24 삽입:  [24, 27, None, None, None, None, 45, 71, 60, 9, 88, 46, 38]\n",
      "60 삭제: [24, 27, None, None, None, None, 45, 71, -1, 9, 88, 46, 38]\n",
      "46탐색: 46\n"
     ]
    }
   ],
   "source": [
    "M =13\n",
    "table = [None]*M\n",
    "def hashFn(key):\n",
    "    return key % M\n",
    "\n",
    "def lp_insert(key):\n",
    "    id = hashFn(key)\n",
    "    count = M\n",
    "    while count >0 and (table[id] != None):\n",
    "        id = (id+1+M) %M\n",
    "        count -=1\n",
    "    if count >0:\n",
    "        table[id] =key\n",
    "    return \n",
    "\n",
    "def lp_search(key):\n",
    "    id = hashFn(key)\n",
    "    count = M\n",
    "    while count >0:\n",
    "        if table[id] == None :\n",
    "            return None\n",
    "        if table[id] == key:\n",
    "            return table[id]\n",
    "        id = (id+1+M)%M\n",
    "        count -=1\n",
    "    return None\n",
    "\n",
    "def lp_delete(key):\n",
    "    id = hashFn(key)\n",
    "    count = M\n",
    "    while count >0:\n",
    "        if table[id] == None: return \n",
    "        if table[id] != -1 and table[id] ==key:\n",
    "            table[id] = -1\n",
    "            return \n",
    "        id = (id+1+M) % M\n",
    "        count -=1\n",
    "\n",
    "print(\" 최초: \",table)\n",
    "lp_insert(45); print(\"45 삽입: \", table)\n",
    "lp_insert(27); print(\"27 삽입: \", table)\n",
    "lp_insert(88); print(\"88 삽입: \", table)\n",
    "lp_insert(9); print(\"9 삽입: \", table)\n",
    "lp_insert(71); print(\"71 삽입: \", table)\n",
    "lp_insert(60); print(\"60 삽입: \", table)\n",
    "lp_insert(46); print(\"46 삽입: \", table)\n",
    "lp_insert(38); print(\"38 삽입: \", table)\n",
    "lp_insert(24); print(\"24 삽입: \", table)\n",
    "lp_delete(60); print(\"60 삭제:\",table)\n",
    "print(\"46탐색:\",lp_search(46))"
   ]
  }
 ],
 "metadata": {
  "kernelspec": {
   "display_name": "base",
   "language": "python",
   "name": "python3"
  },
  "language_info": {
   "codemirror_mode": {
    "name": "ipython",
    "version": 3
   },
   "file_extension": ".py",
   "mimetype": "text/x-python",
   "name": "python",
   "nbconvert_exporter": "python",
   "pygments_lexer": "ipython3",
   "version": "3.11.9"
  }
 },
 "nbformat": 4,
 "nbformat_minor": 2
}
