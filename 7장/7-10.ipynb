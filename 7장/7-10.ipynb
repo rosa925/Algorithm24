{
 "cells": [
  {
   "cell_type": "code",
   "execution_count": 5,
   "metadata": {},
   "outputs": [],
   "source": [
    "import copy\n",
    "def shortest_path_floyd(vertex, W):\n",
    "    vsize = len(vertex)\n",
    "    D = copy.deepcopy(W)\n",
    "\n",
    "    for k in range(vsize) :\n",
    "        for i in range(vsize) :\n",
    "            for j in range(vsize) :\n",
    "                if (D[i][k] + D[k][j] < D[i][j]) :\n",
    "                    D[i][j] = D[i][k] + D[k][j]\n",
    "        printD(D)"
   ]
  },
  {
   "cell_type": "code",
   "execution_count": 6,
   "metadata": {},
   "outputs": [
    {
     "name": "stdout",
     "output_type": "stream",
     "text": [
      "Shortest Path By Floyd's Algorithm\n",
      "=================================\n",
      "   0    7  INF  INF    3   10  INF \n",
      "   7    0    4   10    2    6  INF \n",
      " INF    4    0    2  INF  INF  INF \n",
      " INF   10    2    0   11    9    4 \n",
      "   3    2  INF   11    0   13    5 \n",
      "  10    6  INF    9   13    0  INF \n",
      " INF  INF  INF    4    5  INF    0 \n",
      "=================================\n",
      "   0    7   11   17    3   10  INF \n",
      "   7    0    4   10    2    6  INF \n",
      "  11    4    0    2    6   10  INF \n",
      "  17   10    2    0   11    9    4 \n",
      "   3    2    6   11    0    8    5 \n",
      "  10    6   10    9    8    0  INF \n",
      " INF  INF  INF    4    5  INF    0 \n",
      "=================================\n",
      "   0    7   11   13    3   10  INF \n",
      "   7    0    4    6    2    6  INF \n",
      "  11    4    0    2    6   10  INF \n",
      "  13    6    2    0    8    9    4 \n",
      "   3    2    6    8    0    8    5 \n",
      "  10    6   10    9    8    0  INF \n",
      " INF  INF  INF    4    5  INF    0 \n",
      "=================================\n",
      "   0    7   11   13    3   10   17 \n",
      "   7    0    4    6    2    6   10 \n",
      "  11    4    0    2    6   10    6 \n",
      "  13    6    2    0    8    9    4 \n",
      "   3    2    6    8    0    8    5 \n",
      "  10    6   10    9    8    0   13 \n",
      "  17   10    6    4    5   13    0 \n",
      "=================================\n",
      "   0    5    9   11    3   10    8 \n",
      "   5    0    4    6    2    6    7 \n",
      "   9    4    0    2    6   10    6 \n",
      "  11    6    2    0    8    9    4 \n",
      "   3    2    6    8    0    8    5 \n",
      "  10    6   10    9    8    0   13 \n",
      "   8    7    6    4    5   13    0 \n",
      "=================================\n",
      "   0    5    9   11    3   10    8 \n",
      "   5    0    4    6    2    6    7 \n",
      "   9    4    0    2    6   10    6 \n",
      "  11    6    2    0    8    9    4 \n",
      "   3    2    6    8    0    8    5 \n",
      "  10    6   10    9    8    0   13 \n",
      "   8    7    6    4    5   13    0 \n",
      "=================================\n",
      "   0    5    9   11    3   10    8 \n",
      "   5    0    4    6    2    6    7 \n",
      "   9    4    0    2    6   10    6 \n",
      "  11    6    2    0    8    9    4 \n",
      "   3    2    6    8    0    8    5 \n",
      "  10    6   10    9    8    0   13 \n",
      "   8    7    6    4    5   13    0 \n"
     ]
    }
   ],
   "source": [
    "def printD(D):\n",
    "    vsize = len(D)\n",
    "    print(\"=================================\")\n",
    "    for i in range(vsize) :\n",
    "        for j in range(vsize) :\n",
    "            if (D[i][j] == INF) : print(\" INF \", end='')\n",
    "            else : print(\"%4d \"%D[i][j], end='')\n",
    "        print(\"\")\n",
    "INF = 9999\n",
    "vertex = [ 'A', 'B', 'C', 'D', 'E', 'F', 'G' ]\n",
    "weight = [[   0,  7, INF, INF,   3, 10,  INF],\n",
    "          [   7,  0,   4,  10,   2,  6,  INF],\n",
    "          [ INF,  4,   0,   2, INF, INF, INF],\n",
    "          [ INF, 10,   2,   0,  11,   9,   4],\n",
    "          [   3,  2, INF,  11,   0,  13,   5],\n",
    "          [  10,  6, INF,   9,  13,   0, INF],\n",
    "          [ INF,INF, INF,   4,   5, INF,   0]]\n",
    "print(\"Shortest Path By Floyd's Algorithm\")\n",
    "shortest_path_floyd(vertex, weight)"
   ]
  }
 ],
 "metadata": {
  "kernelspec": {
   "display_name": "base",
   "language": "python",
   "name": "python3"
  },
  "language_info": {
   "codemirror_mode": {
    "name": "ipython",
    "version": 3
   },
   "file_extension": ".py",
   "mimetype": "text/x-python",
   "name": "python",
   "nbconvert_exporter": "python",
   "pygments_lexer": "ipython3",
   "version": "3.12.2"
  }
 },
 "nbformat": 4,
 "nbformat_minor": 2
}
