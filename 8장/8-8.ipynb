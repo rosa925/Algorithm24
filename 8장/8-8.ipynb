{
 "cells": [
  {
   "cell_type": "code",
   "execution_count": 1,
   "metadata": {},
   "outputs": [],
   "source": [
    "INF = float('inf')\n",
    "\n",
    "def getMinVertex(dist, selected):\n",
    "    minv = -1\n",
    "    mindist = INF\n",
    "    for v in range(len(dist)):\n",
    "        if not selected[v] and dist[v] < mindist:\n",
    "            mindist = dist[v]\n",
    "            minv = v\n",
    "    return minv\n",
    "\n",
    "def shortest_path_dijkstra(vtx, adj, start) :\n",
    "    vsize = len(vtx)\n",
    "    dist = list(adj[start])\n",
    "    dist[start] = 0\n",
    "    path = [start] * vsize\n",
    "    found = [False] * vsize\n",
    "    found[start] = True\n",
    "    \n",
    "    for i in range(vsize):\n",
    "        print(\"Step%2d: \"%(i + 1), dist)\n",
    "        u = getMinVertex(dist, found)\n",
    "        found[u] = True\n",
    "        \n",
    "        for w in range(vsize):\n",
    "            if not found[w]:\n",
    "                if dist[u] + adj[u][w] < dist[w]:\n",
    "                    dist[w] = dist[u] + adj[u][w]\n",
    "                    path[w] = u\n",
    "\n",
    "    return path"
   ]
  },
  {
   "cell_type": "code",
   "execution_count": 2,
   "metadata": {},
   "outputs": [
    {
     "name": "stdout",
     "output_type": "stream",
     "text": [
      "Shortest Path By Dijkstra Algorithm\n",
      "Step 1:  [0, 7, inf, inf, 3, 10, inf]\n",
      "Step 2:  [0, 5, inf, 14, 3, 10, 8]\n",
      "Step 3:  [0, 5, 9, 14, 3, 10, 8]\n",
      "Step 4:  [0, 5, 9, 12, 3, 10, 8]\n",
      "Step 5:  [0, 5, 9, 11, 3, 10, 8]\n",
      "Step 6:  [0, 5, 9, 11, 3, 10, 8]\n",
      "Step 7:  [0, 5, 9, 11, 3, 10, 8]\n",
      "[최단경로: A->B] B <- E <- A\n",
      "[최단경로: A->C] C <- B <- E <- A\n",
      "[최단경로: A->D] D <- C <- B <- E <- A\n",
      "[최단경로: A->E] E <- A\n",
      "[최단경로: A->F] F <- A\n",
      "[최단경로: A->G] G <- E <- A\n"
     ]
    }
   ],
   "source": [
    "vertex = [ 'A', 'B', 'C', 'D', 'E', 'F', 'G' ]\n",
    "weight = [[   0,  7, INF, INF,   3, 10,  INF],\n",
    "          [   7,  0,   4,  10,   2,  6,  INF],\n",
    "          [ INF,  4,   0,   2, INF, INF, INF],\n",
    "          [ INF, 10,   2,   0,  11,   9,   4],\n",
    "          [   3,  2, INF,  11,   0,  13,   5],\n",
    "          [  10,  6, INF,   9,  13,   0, INF],\n",
    "          [ INF,INF, INF,   4,   5, INF,   0]]\n",
    "\n",
    "print(\"Shortest Path By Dijkstra Algorithm\")\n",
    "start = 0\n",
    "path = shortest_path_dijkstra(vertex, weight, start)\n",
    "\n",
    "for end in range(len(vertex)) :\n",
    "    if end!= start :\n",
    "        print(\"[최단경로: %s->%s] %s\" %(vertex[start], vertex[end], vertex[end]), end='')\n",
    "        while (path[end] != start) :\n",
    "            print(\" <- %s\" % vertex[path[end]], end='')\n",
    "            end = path[end]\n",
    "        print(\" <- %s\" % vertex[path[end]])"
   ]
  }
 ],
 "metadata": {
  "kernelspec": {
   "display_name": "base",
   "language": "python",
   "name": "python3"
  },
  "language_info": {
   "codemirror_mode": {
    "name": "ipython",
    "version": 3
   },
   "file_extension": ".py",
   "mimetype": "text/x-python",
   "name": "python",
   "nbconvert_exporter": "python",
   "pygments_lexer": "ipython3",
   "version": "3.11.9"
  }
 },
 "nbformat": 4,
 "nbformat_minor": 2
}
