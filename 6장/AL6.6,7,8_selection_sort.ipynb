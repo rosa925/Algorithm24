{
 "cells": [
  {
   "cell_type": "markdown",
   "metadata": {},
   "source": [
    "#### 1) 문제 정의 (MD)"
   ]
  },
  {
   "cell_type": "markdown",
   "metadata": {},
   "source": [
    "선형조사법을 이용해 해시 테이블의 k 위치를 살피고 빈 공간이 있으면 저장한다. 빈 공간이 나올때까지 계속하고 끝에 도달하면 처음으로 돌아간다. "
   ]
  },
  {
   "cell_type": "markdown",
   "metadata": {},
   "source": [
    "#### 2) 알고리즘 설명  (MD)"
   ]
  },
  {
   "cell_type": "markdown",
   "metadata": {},
   "source": [
    "선형조사법 (해시 함수로 계산된 버킷에 빈 슬롯이 없으면 그 다음 버킷들을 순차적으로 조사하여 빈 슬롯이 있는지 찾는다. 이때 비어 있는 공간을 찾는것을 조사라고 한다.) 조사 과정에서 처음 충돌이 발생한 곳으로 돌아왔다면 테이블이 가득 찬 상태이다."
   ]
  },
  {
   "cell_type": "markdown",
   "metadata": {},
   "source": [
    "####  3) 손으로 푼 예제 (MD, 이미지 삽입)"
   ]
  },
  {
   "cell_type": "markdown",
   "metadata": {},
   "source": [
    "#### 4) 알고리즘 개요(입력 변수, 출력, 알고리즘 개요) (MD)"
   ]
  },
  {
   "cell_type": "markdown",
   "metadata": {},
   "source": [
    "##### 함수명:\n",
    "def hashFn(key)\n",
    "def lp_insert(key)\n",
    "def lp_search(key)\n",
    "def lp_delete(key)\n",
    "입력,출력값:\n",
    "print(\" 최초: \",table)\n",
    "lp_insert(45); print(\"45 삽입: \", table)\n",
    "lp_insert(27); print(\"27 삽입: \", table)\n",
    "lp_insert(88); print(\"88 삽입: \", table)\n",
    "lp_insert(9); print(\"9 삽입: \", table)\n",
    "lp_insert(71); print(\"71 삽입: \", table)\n",
    "lp_insert(60); print(\"60 삽입: \", table)\n",
    "lp_insert(46); print(\"46 삽입: \", table)\n",
    "lp_insert(38); print(\"38 삽입: \", table)\n",
    "lp_insert(24); print(\"24 삽입: \", table)\n",
    "lp_delete(60); print(\"60 삭제:\",table)\n",
    "print(\"46탐색:\",lp_search(46))\n",
    "\n",
    "##### 입력 변수: key, M\n",
    "##### 출력: 숫자를 입력한 다음 입력한 숫자 중에 찾는 숫자가 있으면 그 숫자를 출력한다."
   ]
  },
  {
   "cell_type": "markdown",
   "metadata": {},
   "source": [
    "#### 5) 알고리즘 코드 (PY,C)"
   ]
  },
  {
   "cell_type": "code",
   "execution_count": 1,
   "metadata": {},
   "outputs": [],
   "source": [
    "M =13\n",
    "table = [None]*M\n",
    "def hashFn(key):\n",
    "    return key % M\n",
    "\n",
    "def lp_insert(key):\n",
    "    id = hashFn(key)\n",
    "    count = M\n",
    "    while count >0 and (table[id] != None):\n",
    "        id = (id+1+M) %M\n",
    "        count -=1\n",
    "    if count >0:\n",
    "        table[id] =key\n",
    "    return \n",
    "\n",
    "def lp_search(key):\n",
    "    id = hashFn(key)\n",
    "    count = M\n",
    "    while count >0:\n",
    "        if table[id] == None :\n",
    "            return None\n",
    "        if table[id] == key:\n",
    "            return table[id]\n",
    "        id = (id+1+M)%M\n",
    "        count -=1\n",
    "    return None\n",
    "\n",
    "def lp_delete(key):\n",
    "    id = hashFn(key)\n",
    "    count = M\n",
    "    while count >0:\n",
    "        if table[id] == None: return \n",
    "        if table[id] != -1 and table[id] ==key:\n",
    "            table[id] = -1\n",
    "            return \n",
    "        id = (id+1+M) % M\n",
    "        count -=1"
   ]
  },
  {
   "cell_type": "markdown",
   "metadata": {},
   "source": [
    "#### 6) 테스트 코드  (PY,C) , 입력을 바꾸어서"
   ]
  },
  {
   "cell_type": "code",
   "execution_count": 2,
   "metadata": {},
   "outputs": [
    {
     "name": "stdout",
     "output_type": "stream",
     "text": [
      " 최초:  [None, None, None, None, None, None, None, None, None, None, None, None, None]\n",
      "45 삽입:  [None, None, None, None, None, None, 45, None, None, None, None, None, None]\n",
      "27 삽입:  [None, 27, None, None, None, None, 45, None, None, None, None, None, None]\n",
      "88 삽입:  [None, 27, None, None, None, None, 45, None, None, None, 88, None, None]\n",
      "9 삽입:  [None, 27, None, None, None, None, 45, None, None, 9, 88, None, None]\n",
      "71 삽입:  [None, 27, None, None, None, None, 45, 71, None, 9, 88, None, None]\n",
      "60 삽입:  [None, 27, None, None, None, None, 45, 71, 60, 9, 88, None, None]\n",
      "46 삽입:  [None, 27, None, None, None, None, 45, 71, 60, 9, 88, 46, None]\n",
      "38 삽입:  [None, 27, None, None, None, None, 45, 71, 60, 9, 88, 46, 38]\n",
      "24 삽입:  [24, 27, None, None, None, None, 45, 71, 60, 9, 88, 46, 38]\n",
      "60 삭제: [24, 27, None, None, None, None, 45, 71, -1, 9, 88, 46, 38]\n",
      "46탐색: 46\n"
     ]
    }
   ],
   "source": [
    "print(\" 최초: \",table)\n",
    "lp_insert(45); print(\"45 삽입: \", table)\n",
    "lp_insert(27); print(\"27 삽입: \", table)\n",
    "lp_insert(88); print(\"88 삽입: \", table)\n",
    "lp_insert(9); print(\"9 삽입: \", table)\n",
    "lp_insert(71); print(\"71 삽입: \", table)\n",
    "lp_insert(60); print(\"60 삽입: \", table)\n",
    "lp_insert(46); print(\"46 삽입: \", table)\n",
    "lp_insert(38); print(\"38 삽입: \", table)\n",
    "lp_insert(24); print(\"24 삽입: \", table)\n",
    "lp_delete(60); print(\"60 삭제:\",table)\n",
    "print(\"46탐색:\",lp_search(46))"
   ]
  },
  {
   "cell_type": "markdown",
   "metadata": {},
   "source": [
    "#### 7) 수행 결과 (MD, 결과 캡춰하여 이미지로 삽입)"
   ]
  },
  {
   "attachments": {
    "image.png": {
     "image/png": "[encoded data removed]"
    }
   },
   "cell_type": "markdown",
   "metadata": {},
   "source": [
    "![image.png](attachment:image.png)"
   ]
  },
  {
   "cell_type": "markdown",
   "metadata": {},
   "source": [
    "#### 8) 복잡도 분석"
   ]
  },
  {
   "cell_type": "markdown",
   "metadata": {},
   "source": [
    "O(n)이다."
   ]
  },
  {
   "cell_type": "markdown",
   "metadata": {},
   "source": [
    "#### 9) 조별 협력 내용 (상호 지도)"
   ]
  },
  {
   "cell_type": "markdown",
   "metadata": {},
   "source": [
    "각자 푸는 단계에 대해 이해를 못하는 부분이 있으면 실습시간에 서로 물어보면서 문제를 풀어나갔습니다."
   ]
  }
 ],
 "metadata": {
  "kernelspec": {
   "display_name": "Python 3",
   "language": "python",
   "name": "python3"
  },
  "language_info": {
   "codemirror_mode": {
    "name": "ipython",
    "version": 3
   },
   "file_extension": ".py",
   "mimetype": "text/x-python",
   "name": "python",
   "nbconvert_exporter": "python",
   "pygments_lexer": "ipython3",
   "version": "3.11.9"
  }
 },
 "nbformat": 4,
 "nbformat_minor": 2
}
