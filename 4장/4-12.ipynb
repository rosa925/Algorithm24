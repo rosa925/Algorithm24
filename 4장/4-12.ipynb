{
 "cells": [
  {
   "cell_type": "code",
   "execution_count": 1,
   "metadata": {},
   "outputs": [
    {
     "name": "stdout",
     "output_type": "stream",
     "text": [
      "입력 리스트 = [12, 3, 5, 7, 4, 19, 26, 23, 15]\n",
      "[정렬기법] 3번째 작은수: 5\n",
      "[정렬기법] 6번째 작은수: 15\n",
      "[축소정복]3번째 작은수: 5\n",
      "[축소정복]6번째 작은수: 15\n"
     ]
    }
   ],
   "source": [
    "def kth_smallest_sort(A, k):\n",
    "    A.sort()\n",
    "    return A[k - 1]\n",
    "\n",
    "def quick_select(A, left, right, k):\n",
    "    pos = partition(A, left, right)\n",
    "\n",
    "    if pos + 1 == left + k:\n",
    "        return A[pos]\n",
    "    elif pos + 1 > left + k:\n",
    "        return quick_select(A, left, pos - 1, k)\n",
    "    else:\n",
    "        return quick_select(A, pos + 1, right, k - (pos + 1 - left))\n",
    "\n",
    "def partition(A, left, right):\n",
    "    low = left + 1\n",
    "    high = right\n",
    "    pivot = A[left]\n",
    "    while low <= high:\n",
    "        while low <= right and A[low] < pivot:\n",
    "            low += 1\n",
    "        while high >= left and A[high] > pivot:\n",
    "            high -= 1\n",
    "\n",
    "        if low < high:\n",
    "            A[low], A[high] = A[high], A[low]\n",
    "    A[left], A[high] = A[high], A[left]\n",
    "    return high\n",
    "\n",
    "array = [12, 3, 5, 7, 4, 19, 26, 23, 15]\n",
    "print(\"입력 리스트 =\", array)\n",
    "print(\"[정렬기법] 3번째 작은수:\", kth_smallest_sort(array, 3))\n",
    "print(\"[정렬기법] 6번째 작은수:\", kth_smallest_sort(array, 6))\n",
    "n = len(array)\n",
    "print(\"[축소정복]3번째 작은수:\", quick_select(array, 0, n - 1, 3))\n",
    "print(\"[축소정복]6번째 작은수:\", quick_select(array, 0, n - 1, 6))"
   ]
  }
 ],
 "metadata": {
  "kernelspec": {
   "display_name": "Python 3",
   "language": "python",
   "name": "python3"
  },
  "language_info": {
   "codemirror_mode": {
    "name": "ipython",
    "version": 3
   },
   "file_extension": ".py",
   "mimetype": "text/x-python",
   "name": "python",
   "nbconvert_exporter": "python",
   "pygments_lexer": "ipython3",
   "version": "3.11.9"
  }
 },
 "nbformat": 4,
 "nbformat_minor": 2
}
