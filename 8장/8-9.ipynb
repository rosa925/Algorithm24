{
 "cells": [
  {
   "cell_type": "code",
   "execution_count": 1,
   "metadata": {},
   "outputs": [],
   "source": [
    "import heapq\n",
    "def make_heap_tree(freq, lavel):\n",
    "    n = len(freq)\n",
    "    h=[]\n",
    "    for i in range(n) :\n",
    "        heapq.heappush(h, (freq[i], label[i]))\n",
    "\n",
    "    for i in range(1, n) :\n",
    "        e1 = heapq.heappop(h)\n",
    "        e2 = heapq.heappop(h)\n",
    "        heapq.heappush(h, (e1[0]+e2[0], e1[1]+e2[1]))\n",
    "        print(e1, \"+\", e2)\n",
    "\n",
    "    print(heapq.heappop(h))"
   ]
  },
  {
   "cell_type": "code",
   "execution_count": 2,
   "metadata": {},
   "outputs": [
    {
     "name": "stdout",
     "output_type": "stream",
     "text": [
      "(3, 'B') + (4, 'G')\n",
      "(6, 'F') + (7, 'BG')\n",
      "(8, 'C') + (10, 'D')\n",
      "(12, 'H') + (13, 'FBG')\n",
      "(18, 'CD') + (24, 'A')\n",
      "(25, 'HFBG') + (33, 'E')\n",
      "(42, 'CDA') + (58, 'HFBGE')\n",
      "(100, 'CDAHFBGE')\n"
     ]
    }
   ],
   "source": [
    "label = [ 'A', 'B', 'C', 'D', 'E', 'F', 'G', 'H' ]\n",
    "freq =  [24,    3,    8,    10,   33,   6,    4,    12]\n",
    "make_heap_tree(freq, label)"
   ]
  }
 ],
 "metadata": {
  "kernelspec": {
   "display_name": "base",
   "language": "python",
   "name": "python3"
  },
  "language_info": {
   "codemirror_mode": {
    "name": "ipython",
    "version": 3
   },
   "file_extension": ".py",
   "mimetype": "text/x-python",
   "name": "python",
   "nbconvert_exporter": "python",
   "pygments_lexer": "ipython3",
   "version": "3.11.9"
  }
 },
 "nbformat": 4,
 "nbformat_minor": 2
}
