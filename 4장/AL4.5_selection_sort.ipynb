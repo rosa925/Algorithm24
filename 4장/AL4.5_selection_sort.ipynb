{
 "cells": [
  {
   "cell_type": "markdown",
   "metadata": {},
   "source": [
    "### 1) 문제 정의 (MD)"
   ]
  },
  {
   "cell_type": "markdown",
   "metadata": {},
   "source": [
    "##### 리스트에 n개의 항목이 들어있다. 이 리스트에서 \"탐색키\"를 가진 항목을 찾아라. 단, 리스트의 항목들은 정렬되어 있다."
   ]
  },
  {
   "cell_type": "markdown",
   "metadata": {},
   "source": [
    "###  2) 알고리즘 설명  (MD)"
   ]
  },
  {
   "cell_type": "markdown",
   "metadata": {},
   "source": [
    "##### 리스트의 중앙에 있는 항목을 먼저 조사한다. 만약 이 항목이 탐색키보다 크다면 찾는 항목은 왼쪽에 있고, 오른쪽은 더 이상 검사할 필요가 없다. 반대로 그 항목이 탐색키보다 작다면 답은 오른쪽에 있고, 왼쪽은 검사할 필요가 없다. 따라서 각 단계마다 검사할 범위, 즉 문제의 크기가 반으로 줄어든다."
   ]
  },
  {
   "cell_type": "markdown",
   "metadata": {},
   "source": [
    "###  3) 손으로 푼 예제 (MD, 이미지 삽입)"
   ]
  },
  {
   "cell_type": "markdown",
   "metadata": {},
   "source": [
    "### 4) 코드 개요(입력 변수, 출력, 함수 설명) (MD)"
   ]
  },
  {
   "cell_type": "markdown",
   "metadata": {},
   "source": [
    "##### 1) 함수명 : def binary_search(A, key, low, hugh), 정렬된 리스트 A와 킷값 key, 그리고 리스트 내의 탐색 범위인 low와 high가 입력된다.\n",
    "##### 2) 입력 변수: A, key, low, hugh\n",
    "##### 3) 반환값 : 탐색에 성공하면 인텍스를 반환하고, 탐색에 실패하면 -1을 반환한다."
   ]
  },
  {
   "cell_type": "markdown",
   "metadata": {},
   "source": [
    "### 5) 코드 (PY,C)"
   ]
  },
  {
   "cell_type": "code",
   "execution_count": null,
   "metadata": {},
   "outputs": [],
   "source": [
    "def binary_search(A, key, low, high) :\n",
    "    if (low <= high) :\n",
    "        mid = (low + high) // 2\n",
    "        if key == A[mid] :\n",
    "            return mid\n",
    "        elif key < A[mid] :\n",
    "            return binary_search(A, key, low, mid-1)\n",
    "        else :\n",
    "            return binary_search(A, key, mid+1, high)\n",
    "    return -1"
   ]
  },
  {
   "cell_type": "markdown",
   "metadata": {},
   "source": [
    "### 6) 테스트 코드  (PY,C) , 입력을 바꾸어서"
   ]
  },
  {
   "cell_type": "code",
   "execution_count": 2,
   "metadata": {},
   "outputs": [
    {
     "name": "stdout",
     "output_type": "stream",
     "text": [
      "입력 리스트 = [1, 3, 8, 13, 13, 16, 21, 26, 27, 30, 33, 36, 39, 41, 44, 49]\n",
      "33 탐색(순환)--> 10\n",
      "32 탐색(순환)--> -1\n"
     ]
    }
   ],
   "source": [
    "def binary_search(A, key, low, high):\n",
    "    if low <= high:\n",
    "        mid = (low + high) // 2\n",
    "        if key == A[mid]:\n",
    "            return mid\n",
    "        elif key < A[mid]:\n",
    "            return binary_search(A, key, low, mid - 1)\n",
    "        else:\n",
    "            return binary_search(A, key, mid + 1, high)\n",
    "    return -1\n",
    "\n",
    "listA = [1, 3, 8, 13, 13, 16, 21, 26, 27, 30, 33, 36, 39, 41, 44, 49]\n",
    "\n",
    "print(\"입력 리스트 =\", listA)\n",
    "print(\"33 탐색(순환)-->\", binary_search(listA, 33, 0, len(listA)-1))\n",
    "print(\"32 탐색(순환)-->\", binary_search(listA, 32, 0, len(listA) -1) )"
   ]
  },
  {
   "cell_type": "markdown",
   "metadata": {},
   "source": [
    "### 7) 수행 결과 (MD, 결과 캡춰하여 이미지로 삽입)"
   ]
  },
  {
   "cell_type": "markdown",
   "metadata": {},
   "source": [
    "### 8) 복잡도 분석 (MD)"
   ]
  },
  {
   "cell_type": "markdown",
   "metadata": {},
   "source": [
    "##### 순차 탐색에서와 같이 이진 탐색에서도 입력의 구성에 따라 효율이 다르다. 최선의 경우는 테이블 중앙에 찾는 값이 있는 경우로 한 번의 비교만으로 알고리즘이 종료된다. 따라서 시간복잡도는 O(1)이다."
   ]
  },
  {
   "cell_type": "markdown",
   "metadata": {},
   "source": [
    "### 9) 협력 내용(조별, 팀별)"
   ]
  },
  {
   "cell_type": "markdown",
   "metadata": {},
   "source": [
    "각자 푸는 단계에 대해 이해를 못하는 부분이 있으면 실습시간에 서로 물어보면서 문제를 풀어나갔습니다."
   ]
  }
 ],
 "metadata": {
  "kernelspec": {
   "display_name": "Python 3",
   "language": "python",
   "name": "python3"
  },
  "language_info": {
   "codemirror_mode": {
    "name": "ipython",
    "version": 3
   },
   "file_extension": ".py",
   "mimetype": "text/x-python",
   "name": "python",
   "nbconvert_exporter": "python",
   "pygments_lexer": "ipython3",
   "version": "3.12.2"
  }
 },
 "nbformat": 4,
 "nbformat_minor": 2
}
