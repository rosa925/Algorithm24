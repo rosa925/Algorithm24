{
 "cells": [
  {
   "cell_type": "code",
   "execution_count": 4,
   "metadata": {},
   "outputs": [
    {
     "name": "stdout",
     "output_type": "stream",
     "text": [
      "입력 리스트 =  [1, 3, 8, 13, 13, 16, 21, 26, 27, 30, 33, 36, 39, 41, 44, 49]\n",
      "33 탐색(순환) -->  10\n",
      "33 탐색(반복) -->  10\n",
      "32 탐색(순환) -->  -1\n",
      "32 탐색(반복) -->  -1\n"
     ]
    }
   ],
   "source": [
    "def binary_search_iter(A, key, low, high) :\n",
    "    while (low <= high) :\n",
    "        mid = (low + high) // 2\n",
    "        if key == A[mid]:\n",
    "            return mid\n",
    "        elif key > A[mid]:\n",
    "            low = mid + 1\n",
    "        else:\n",
    "            high = mid - 1\n",
    "    return -1\n",
    "\n",
    "listA = [1, 3, 8, 13, 13, 16, 21, 26, 27, 30, 33, 36, 39, 41, 44, 49]\n",
    "print(\"입력 리스트 = \", listA)\n",
    "print(\"33 탐색(순환) --> \", binary_search_iter(listA, 33, 0, len(listA)-1))\n",
    "print(\"33 탐색(반복) --> \", binary_search_iter(listA, 33, 0, len(listA)-1))\n",
    "print(\"32 탐색(순환) --> \", binary_search_iter(listA, 32, 0, len(listA)-1))\n",
    "print(\"32 탐색(반복) --> \", binary_search_iter(listA, 32, 0, len(listA)-1))"
   ]
  }
 ],
 "metadata": {
  "kernelspec": {
   "display_name": "Python 3",
   "language": "python",
   "name": "python3"
  },
  "language_info": {
   "codemirror_mode": {
    "name": "ipython",
    "version": 3
   },
   "file_extension": ".py",
   "mimetype": "text/x-python",
   "name": "python",
   "nbconvert_exporter": "python",
   "pygments_lexer": "ipython3",
   "version": "3.11.9"
  }
 },
 "nbformat": 4,
 "nbformat_minor": 2
}
