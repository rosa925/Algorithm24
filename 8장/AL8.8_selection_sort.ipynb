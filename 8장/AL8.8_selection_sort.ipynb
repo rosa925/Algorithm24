{
 "cells": [
  {
   "cell_type": "markdown",
   "metadata": {},
   "source": [
    "#### 1) 문제 정의 (MD)"
   ]
  },
  {
   "cell_type": "markdown",
   "metadata": {},
   "source": [
    "가중치 그래프가 주어졌을 때 어느 한 정점에서 출발하여 다른 모든 정점까지의 최단경로의 거리를 구하라. 이때, 경로의 거리는 그 경로에 포함된 간선들의 가중치 합이고, 간선의 가중치로 음수는 허용하지 않는다."
   ]
  },
  {
   "cell_type": "markdown",
   "metadata": {},
   "source": [
    "#### 2) 알고리즘 설명  (MD)"
   ]
  },
  {
   "cell_type": "markdown",
   "metadata": {},
   "source": [
    "Dijkstra 알고리즘은 한 정점에서 출발하여 다른 모든 정점으로 가는 최단거리를 찾는다. 그리고 이를 위해 탐욕적 전략을 사용한다."
   ]
  },
  {
   "cell_type": "markdown",
   "metadata": {},
   "source": [
    "####  3) 손으로 푼 예제 (MD, 이미지 삽입)"
   ]
  },
  {
   "cell_type": "markdown",
   "metadata": {},
   "source": [
    "#### 4) 알고리즘 개요(입력 변수, 출력, 알고리즘 개요) (MD)"
   ]
  },
  {
   "cell_type": "markdown",
   "metadata": {},
   "source": [
    "##### 함수명: def shortest_path_dijkstra(vtx, adj, start)\n",
    "##### 입력 변수: dist, path, found\n",
    "##### 출력: 각 단계별 dist[] 배열의 값 변화, 최종적인 최단경로 거리, A부터 모든 정점까지의 최단경로"
   ]
  },
  {
   "cell_type": "markdown",
   "metadata": {},
   "source": [
    "#### 5) 알고리즘 코드 (PY,C)"
   ]
  },
  {
   "cell_type": "code",
   "execution_count": 5,
   "metadata": {},
   "outputs": [],
   "source": [
    "INF = float('inf')\n",
    "\n",
    "def getMinVertex(dist, selected):\n",
    "    minv = -1\n",
    "    mindist = INF\n",
    "    for v in range(len(dist)):\n",
    "        if not selected[v] and dist[v] < mindist:\n",
    "            mindist = dist[v]\n",
    "            minv = v\n",
    "    return minv\n",
    "\n",
    "def shortest_path_dijkstra(vtx, adj, start) :\n",
    "    vsize = len(vtx)\n",
    "    dist = list(adj[start])\n",
    "    dist[start] = 0\n",
    "    path = [start] * vsize\n",
    "    found = [False] * vsize\n",
    "    found[start] = True\n",
    "    \n",
    "    for i in range(vsize):\n",
    "        print(\"Step%2d: \"%(i + 1), dist)\n",
    "        u = getMinVertex(dist, found)\n",
    "        found[u] = True\n",
    "        \n",
    "        for w in range(vsize):\n",
    "            if not found[w]:\n",
    "                if dist[u] + adj[u][w] < dist[w]:\n",
    "                    dist[w] = dist[u] + adj[u][w]\n",
    "                    path[w] = u\n",
    "\n",
    "    return path"
   ]
  },
  {
   "cell_type": "markdown",
   "metadata": {},
   "source": [
    "#### 6) 테스트 코드  (PY,C) , 입력을 바꾸어서"
   ]
  },
  {
   "cell_type": "code",
   "execution_count": 6,
   "metadata": {},
   "outputs": [
    {
     "name": "stdout",
     "output_type": "stream",
     "text": [
      "Shortest Path By Dijkstra Algorithm\n",
      "Step 1:  [0, 7, inf, inf, 3, 10, inf]\n",
      "Step 2:  [0, 5, inf, 14, 3, 10, 8]\n",
      "Step 3:  [0, 5, 9, 14, 3, 10, 8]\n",
      "Step 4:  [0, 5, 9, 12, 3, 10, 8]\n",
      "Step 5:  [0, 5, 9, 11, 3, 10, 8]\n",
      "Step 6:  [0, 5, 9, 11, 3, 10, 8]\n",
      "Step 7:  [0, 5, 9, 11, 3, 10, 8]\n",
      "[최단경로: A->B] B <- E <- A\n",
      "[최단경로: A->C] C <- B <- E <- A\n",
      "[최단경로: A->D] D <- C <- B <- E <- A\n",
      "[최단경로: A->E] E <- A\n",
      "[최단경로: A->F] F <- A\n",
      "[최단경로: A->G] G <- E <- A\n"
     ]
    }
   ],
   "source": [
    "vertex = [ 'A', 'B', 'C', 'D', 'E', 'F', 'G' ]\n",
    "weight = [[   0,  7, INF, INF,   3, 10,  INF],\n",
    "          [   7,  0,   4,  10,   2,  6,  INF],\n",
    "          [ INF,  4,   0,   2, INF, INF, INF],\n",
    "          [ INF, 10,   2,   0,  11,   9,   4],\n",
    "          [   3,  2, INF,  11,   0,  13,   5],\n",
    "          [  10,  6, INF,   9,  13,   0, INF],\n",
    "          [ INF,INF, INF,   4,   5, INF,   0]]\n",
    "\n",
    "print(\"Shortest Path By Dijkstra Algorithm\")\n",
    "start = 0\n",
    "path = shortest_path_dijkstra(vertex, weight, start)\n",
    "\n",
    "for end in range(len(vertex)) :\n",
    "    if end!= start :\n",
    "        print(\"[최단경로: %s->%s] %s\" %(vertex[start], vertex[end], vertex[end]), end='')\n",
    "        while (path[end] != start) :\n",
    "            print(\" <- %s\" % vertex[path[end]], end='')\n",
    "            end = path[end]\n",
    "        print(\" <- %s\" % vertex[path[end]])"
   ]
  },
  {
   "cell_type": "markdown",
   "metadata": {},
   "source": [
    "#### 7) 수행 결과 (MD, 결과 캡춰하여 이미지로 삽입)"
   ]
  },
  {
   "cell_type": "markdown",
   "metadata": {},
   "source": [
    "#### 8) 복잡도 분석"
   ]
  },
  {
   "cell_type": "markdown",
   "metadata": {},
   "source": [
    "Floyd의 알고리즘은 3중 루프로 이루어져 있고, 각 루프가 최대 n번 반복한다. 따라서 시간 복잡도가 O(n^3)이다. 추가적인 메모리 D를 위한 공간 복잡도는 O(n^2)이다."
   ]
  },
  {
   "cell_type": "markdown",
   "metadata": {},
   "source": [
    "#### 9) 조별 협력 내용 (상호 지도)"
   ]
  },
  {
   "cell_type": "markdown",
   "metadata": {},
   "source": [
    "각자 푸는 단계에 대해 이해를 못하는 부분이 있으면 실습시간에 서로 물어보면서 문제를 풀어나갔습니다."
   ]
  }
 ],
 "metadata": {
  "kernelspec": {
   "display_name": "Python 3",
   "language": "python",
   "name": "python3"
  },
  "language_info": {
   "codemirror_mode": {
    "name": "ipython",
    "version": 3
   },
   "file_extension": ".py",
   "mimetype": "text/x-python",
   "name": "python",
   "nbconvert_exporter": "python",
   "pygments_lexer": "ipython3",
   "version": "3.11.9"
  }
 },
 "nbformat": 4,
 "nbformat_minor": 2
}
