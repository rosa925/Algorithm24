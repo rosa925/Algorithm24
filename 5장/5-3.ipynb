{
 "cells": [
  {
   "cell_type": "code",
   "execution_count": null,
   "metadata": {},
   "outputs": [],
   "source": [
    "def quick_sort(A, left, right) :\n",
    "    if left<right :\n",
    "        mid = partition(A, left, right)\n",
    "        quick_sort(A, left, mid -1)\n",
    "        quick_sort(A, mid=1, right)"
   ]
  }
 ],
 "metadata": {
  "language_info": {
   "name": "python"
  }
 },
 "nbformat": 4,
 "nbformat_minor": 2
}
