{
 "cells": [
  {
   "cell_type": "markdown",
   "metadata": {},
   "source": [
    "#### 1) 문제 정의 (MD)"
   ]
  },
  {
   "cell_type": "markdown",
   "metadata": {},
   "source": [
    "최근접 쌍의 거리를 구하는 알고리즘이다."
   ]
  },
  {
   "cell_type": "markdown",
   "metadata": {},
   "source": [
    "#### 2) 알고리즘 설명  (MD)"
   ]
  },
  {
   "cell_type": "markdown",
   "metadata": {},
   "source": [
    "##### P는 이미 x의 오름차순으로 정렬되어 있다고 가정한다.\n",
    "##### 만약 점이 3개 이하이면 억지 기법으로 바로 계산을 실행하고, 알고리즘 3.4의 closest_pair(p)를 사용하여 코드를 실행한다."
   ]
  },
  {
   "cell_type": "markdown",
   "metadata": {},
   "source": [
    "####  3) 손으로 푼 예제 (MD, 이미지 삽입)"
   ]
  },
  {
   "cell_type": "markdown",
   "metadata": {},
   "source": [
    "#### 4) 알고리즘 개요(입력 변수, 출력, 알고리즘 개요) (MD)"
   ]
  },
  {
   "cell_type": "markdown",
   "metadata": {},
   "source": [
    "##### 함수명: closest_pair_dist(P, n)\n",
    "##### 입력 값: p = [(2,3), (12,30), (40,50), (5,1), (12,10), (3,4)]\n",
    "##### 출력 값:print(\"가장 가까운 두 점의 거리\", closest_pair_dist(p, len(p)))"
   ]
  },
  {
   "cell_type": "markdown",
   "metadata": {},
   "source": [
    "#### 5) 알고리즘 코드 (PY,C)"
   ]
  },
  {
   "cell_type": "code",
   "execution_count": 12,
   "metadata": {},
   "outputs": [],
   "source": [
    "def closest_pair_dist(P, n):\n",
    "    if n <= 3:\n",
    "        return closest_pair(P)\n",
    "    \n",
    "    mid = n // 2\n",
    "    mid_x = P[mid][0]\n",
    "\n",
    "    dl = closest_pair_dist(P[:mid], mid)\n",
    "    dr = closest_pair_dist(P[mid:], n-mid)\n",
    "    d = min(dl, dr)\n",
    "\n",
    "    Pm = []\n",
    "    for i in range(n):\n",
    "        if abs(P[i][0] - mid_x) < d:\n",
    "            Pm.append(P[i])\n",
    "\n",
    "    ds = strip_closest(Pm, d)\n",
    "    return ds"
   ]
  },
  {
   "cell_type": "markdown",
   "metadata": {},
   "source": [
    "#### 6) 테스트 코드  (PY,C) , 입력을 바꾸어서"
   ]
  },
  {
   "cell_type": "code",
   "execution_count": 17,
   "metadata": {},
   "outputs": [],
   "source": [
    "import math\n",
    "\n",
    "def distance(p1, p2):\n",
    "    return math.sqrt((p1[0] - p2[0]) ** 2 + (p1[1] - p2[1]) ** 2)"
   ]
  },
  {
   "cell_type": "code",
   "execution_count": 18,
   "metadata": {},
   "outputs": [],
   "source": [
    "def strip_closest(P, d):\n",
    "    n = len(P)\n",
    "    d_min = d\n",
    "    P.sort(key = lambda point: point[1])\n",
    "\n",
    "    for i in range(n):\n",
    "        j = i + 1\n",
    "        while j < n and (P[j][1] - P[i][1]) < d_min:\n",
    "            dij = distance(P[i], P[j])\n",
    "            if dij < d_min :\n",
    "                d_min = dij\n",
    "            j += 1\n",
    "    return d_min"
   ]
  },
  {
   "cell_type": "code",
   "execution_count": 19,
   "metadata": {},
   "outputs": [],
   "source": [
    "def closest_pair_dist(P, n):\n",
    "    if n <= 3:\n",
    "        return closest_pair(P)\n",
    "    \n",
    "    mid = n // 2\n",
    "    mid_x = P[mid][0]\n",
    "\n",
    "    dl = closest_pair_dist(P[:mid], mid)\n",
    "    dr = closest_pair_dist(P[mid:], n-mid)\n",
    "    d = min(dl, dr)\n",
    "\n",
    "    Pm = []\n",
    "    for i in range(n):\n",
    "        if abs(P[i][0] - mid_x) < d:\n",
    "            Pm.append(P[i])\n",
    "\n",
    "    ds = strip_closest(Pm, d)\n",
    "    return ds"
   ]
  },
  {
   "cell_type": "code",
   "execution_count": 20,
   "metadata": {},
   "outputs": [
    {
     "name": "stdout",
     "output_type": "stream",
     "text": [
      "가장 가까운 두 점의 거리 1.4142135623730951\n"
     ]
    }
   ],
   "source": [
    "p = [(2, 3), (12, 30), (40, 50), (5, 1), (12, 10), (3, 4)]\n",
    "p.sort(key = lambda point: point[0])\n",
    "print(\"가장 가까운 두 점의 거리\", closest_pair_dist(p, len(p)))"
   ]
  },
  {
   "cell_type": "markdown",
   "metadata": {},
   "source": [
    "#### 7) 수행 결과 (MD, 결과 캡춰하여 이미지로 삽입)"
   ]
  },
  {
   "cell_type": "markdown",
   "metadata": {},
   "source": [
    "#### 8) 복잡도 분석"
   ]
  },
  {
   "cell_type": "markdown",
   "metadata": {},
   "source": [
    "이 알고리즘은 전처리 과정을 포함하더라고 전체 알고리즘의 복잡도가 O(n log2n)인 것으로 증명되어 있으므로, 이 알고리즘은 이 문제에 대한 최적의(optimal) 알고리즘 중 하나이다."
   ]
  },
  {
   "cell_type": "markdown",
   "metadata": {},
   "source": [
    "#### 9) 조별 협력 내용 (상호 지도)"
   ]
  },
  {
   "cell_type": "markdown",
   "metadata": {},
   "source": [
    "각자 푸는 단계에 대해 이해를 못하는 부분이 있으면 실습시간에 서로 물어보면서 문제를 풀어나갔습니다."
   ]
  }
 ],
 "metadata": {
  "kernelspec": {
   "display_name": "Python 3",
   "language": "python",
   "name": "python3"
  },
  "language_info": {
   "codemirror_mode": {
    "name": "ipython",
    "version": 3
   },
   "file_extension": ".py",
   "mimetype": "text/x-python",
   "name": "python",
   "nbconvert_exporter": "python",
   "pygments_lexer": "ipython3",
   "version": "3.12.2"
  }
 },
 "nbformat": 4,
 "nbformat_minor": 2
}
