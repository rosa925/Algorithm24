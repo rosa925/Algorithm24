{
 "cells": [
  {
   "cell_type": "code",
   "execution_count": 1,
   "metadata": {},
   "outputs": [
    {
     "name": "stdout",
     "output_type": "stream",
     "text": [
      "억지기법(2**500)= 3.273390607896142e+150\n",
      "축소정복기법(2**500)= 3.273390607896142e+150\n",
      "억지기법 시간 :  0.10302305221557617\n",
      "축소정복기법 시간 : 0.10402369499206543\n"
     ]
    }
   ],
   "source": [
    "def slow_power(x,n):\n",
    "    result = 1.0\n",
    "    for i in range(n):\n",
    "        result = result *x\n",
    "    return result\n",
    "\n",
    "def power(x,n):\n",
    "    if n==0:\n",
    "        return 1\n",
    "    elif(n%2)==0:\n",
    "        return power(x*x,n//2)\n",
    "    else:\n",
    "        return x*power(x*x,(n-1)//2)\n",
    "    \n",
    "import time\n",
    "print(\"억지기법(2**500)=\",power(2.0,500))\n",
    "print(\"축소정복기법(2**500)=\",slow_power(2.0,500))\n",
    "\n",
    "t1 = time.time()\n",
    "for i in range(100000): power(2.0,500)\n",
    "t2 = time.time()\n",
    "for i in range(100000): power(2.0,500)\n",
    "t3 = time.time()\n",
    "print(\"억지기법 시간 : \",t3-t2)\n",
    "print(\"축소정복기법 시간 :\",t2-t1)"
   ]
  }
 ],
 "metadata": {
  "kernelspec": {
   "display_name": "Python 3",
   "language": "python",
   "name": "python3"
  },
  "language_info": {
   "codemirror_mode": {
    "name": "ipython",
    "version": 3
   },
   "file_extension": ".py",
   "mimetype": "text/x-python",
   "name": "python",
   "nbconvert_exporter": "python",
   "pygments_lexer": "ipython3",
   "version": "3.11.9"
  }
 },
 "nbformat": 4,
 "nbformat_minor": 2
}
