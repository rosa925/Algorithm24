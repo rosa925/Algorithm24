{
 "cells": [
  {
   "cell_type": "markdown",
   "metadata": {},
   "source": [
    "#### 1) 문제 정의 (MD)"
   ]
  },
  {
   "cell_type": "markdown",
   "metadata": {},
   "source": [
    "##### 텍스트 문자열에서 패턴 문자열을 찾는 알고리즘이다."
   ]
  },
  {
   "cell_type": "markdown",
   "metadata": {},
   "source": [
    "#### 2) 알고리즘 설명  (MD)"
   ]
  },
  {
   "cell_type": "markdown",
   "metadata": {},
   "source": [
    "##### 패턴'p'의 길이을 'm'으로 설정하고, 'NO_OF_CHARS'인 리스트 'tbl'을 'm'으로 초기화 마지막 문자를 제외한 각 문자에 대해 테이블 값 설정\n",
    "##### 패턴이 일치하면 시작 인덱스를 일치하지 않으면 -1을 반환한다."
   ]
  },
  {
   "cell_type": "markdown",
   "metadata": {},
   "source": [
    "####  3) 손으로 푼 예제 (MD, 이미지 삽입)"
   ]
  },
  {
   "cell_type": "markdown",
   "metadata": {},
   "source": [
    "#### 4) 알고리즘 개요(입력 변수, 출력, 알고리즘 개요) (MD)"
   ]
  },
  {
   "cell_type": "markdown",
   "metadata": {},
   "source": [
    "##### 함수명: shift_table(pat) , search_horspool(T,P)\n",
    "##### 입력 변수: 텍스트T, 패턴 P\n",
    "##### 출력: 반환값 패턴이 일치하면 시작 인덱스(왼쪽) 일치하지 않으면 -1을 반환한다."
   ]
  },
  {
   "cell_type": "markdown",
   "metadata": {},
   "source": [
    "#### 5) 알고리즘 코드 (PY,C)"
   ]
  },
  {
   "cell_type": "code",
   "execution_count": 4,
   "metadata": {},
   "outputs": [],
   "source": [
    "NO_OF_CHARS = 128\n",
    "\n",
    "def shift_table(pat):\n",
    "    m = len(pat)\n",
    "    tbl = [m] * NO_OF_CHARS\n",
    "    for i in range(m - 1):\n",
    "        tbl[ord(pat[i])] = m - 1 - i\n",
    "    return tbl\n",
    "\n",
    "def search_horspool(T, P):\n",
    "    m = len(P)\n",
    "    n = len(T)\n",
    "    t = shift_table(P)\n",
    "    i = m - 1\n",
    "    \n",
    "    while i < n:\n",
    "        k = 0\n",
    "        while k < m and P[m - 1 - k] == T[i - k]:\n",
    "            k += 1\n",
    "        if k == m:\n",
    "            return i - m + 1\n",
    "        else:\n",
    "            i += t[ord(T[i])]\n",
    "    \n",
    "    return -1"
   ]
  },
  {
   "cell_type": "markdown",
   "metadata": {},
   "source": [
    "#### 6) 테스트 코드  (PY,C) , 입력을 바꾸어서"
   ]
  },
  {
   "cell_type": "code",
   "execution_count": 5,
   "metadata": {},
   "outputs": [
    {
     "name": "stdout",
     "output_type": "stream",
     "text": [
      "패턴의 위치: 10\n"
     ]
    }
   ],
   "source": [
    "print(\"패턴의 위치:\", search_horspool(\"APPLEMANGOBANANAGRAPE\", \"BANANA\"))"
   ]
  },
  {
   "cell_type": "markdown",
   "metadata": {},
   "source": [
    "#### 7) 수행 결과 (MD, 결과 캡춰하여 이미지로 삽입)"
   ]
  },
  {
   "attachments": {
    "image.png": {
     "image/png": "[encoded data removed]"
    }
   },
   "cell_type": "markdown",
   "metadata": {},
   "source": [
    "![image.png](attachment:image.png)"
   ]
  },
  {
   "cell_type": "markdown",
   "metadata": {},
   "source": [
    "#### 8) 복잡도 분석"
   ]
  },
  {
   "cell_type": "markdown",
   "metadata": {},
   "source": [
    "##### O(mn) 이다."
   ]
  },
  {
   "cell_type": "markdown",
   "metadata": {},
   "source": [
    "#### 9) 조별 협력 내용 (상호 지도)"
   ]
  },
  {
   "cell_type": "markdown",
   "metadata": {},
   "source": [
    "각자 푸는 단계에 대해 이해를 못하는 부분이 있으면 실습시간에 서로 물어보면서 문제를 풀어나갔습니다."
   ]
  }
 ],
 "metadata": {
  "kernelspec": {
   "display_name": "Python 3",
   "language": "python",
   "name": "python3"
  },
  "language_info": {
   "codemirror_mode": {
    "name": "ipython",
    "version": 3
   },
   "file_extension": ".py",
   "mimetype": "text/x-python",
   "name": "python",
   "nbconvert_exporter": "python",
   "pygments_lexer": "ipython3",
   "version": "3.11.9"
  }
 },
 "nbformat": 4,
 "nbformat_minor": 2
}
