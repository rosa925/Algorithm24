{
 "cells": [
  {
   "cell_type": "code",
   "execution_count": 1,
   "metadata": {},
   "outputs": [],
   "source": [
    "def knapSack_fractional_greedy(obj, W):\n",
    "    obj.sort(key=lambda o: o[2]/o[1], reverse=True)\n",
    "\n",
    "    totalValue = 0\n",
    "    for o in obj:\n",
    "        if W <= 0:\n",
    "            break\n",
    "        if W - o[1] >= 0:\n",
    "            W -= o[1]\n",
    "            totalValue += o[2]\n",
    "        else:\n",
    "            fraction = W / o[1]\n",
    "            totalValue += o[2] * fraction\n",
    "            W = int(W-o[1]*fraction) \n",
    "    return totalValue"
   ]
  },
  {
   "cell_type": "code",
   "execution_count": 2,
   "metadata": {},
   "outputs": [
    {
     "name": "stdout",
     "output_type": "stream",
     "text": [
      "배낭 용량: 18\n",
      "부분적인 배낭 최대 가치 (용량 18): 168.0\n",
      "\n",
      "배낭 용량: 50\n",
      "부분적인 배낭 최대 가치 (용량 50): 240.0\n"
     ]
    }
   ],
   "source": [
    "obj1 = [(\"A\", 10, 80), (\"B\", 12, 120), (\"C\", 8, 60)]\n",
    "print(\"배낭 용량: 18\")\n",
    "print(\"부분적인 배낭 최대 가치 (용량 18):\", knapSack_fractional_greedy(obj1, 18), end='\\n\\n')\n",
    "\n",
    "obj2 = [(\"A\", 10, 60), (\"B\", 40, 40), (\"C\", 20, 100), (\"D\", 30, 120)]\n",
    "print(\"배낭 용량: 50\")\n",
    "print(\"부분적인 배낭 최대 가치 (용량 50):\", knapSack_fractional_greedy(obj2, 50))"
   ]
  }
 ],
 "metadata": {
  "kernelspec": {
   "display_name": "base",
   "language": "python",
   "name": "python3"
  },
  "language_info": {
   "codemirror_mode": {
    "name": "ipython",
    "version": 3
   },
   "file_extension": ".py",
   "mimetype": "text/x-python",
   "name": "python",
   "nbconvert_exporter": "python",
   "pygments_lexer": "ipython3",
   "version": "3.11.9"
  }
 },
 "nbformat": 4,
 "nbformat_minor": 2
}
