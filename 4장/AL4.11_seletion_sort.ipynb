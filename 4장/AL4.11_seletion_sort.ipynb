{
 "cells": [
  {
   "cell_type": "markdown",
   "metadata": {},
   "source": [
    "### 01. 문제 정의\n",
    "주어진 배열에서 k번째로 작은 값을 찾는 문제"
   ]
  },
  {
   "cell_type": "markdown",
   "metadata": {},
   "source": [
    "### 02. 알고리즘 설명\n",
    "리스트 A의 left에서 right 사이의 항목 중 k번째로 작은 항목을 찾아 변환하는 알고리즘이다."
   ]
  },
  {
   "cell_type": "markdown",
   "metadata": {},
   "source": [
    "### 04. 코드 개용\n",
    "##### 함수명 : \n",
    "##### partition. (배열을 피벗을 기준으로 분할하는 역할, 왼쪽 인덱스 left 오른쪽 인덱스 right를 입력받아 분활된 배열에서 기준 값의 인덱스를 반환함)\n",
    "##### quick_select. 주어진 배열에서 k번째로 작은 값을 찾는 역할을 함\n",
    "##### 입력  : \n",
    "##### A(정렬되지 않은 숫자들이 담긴 배열) \n",
    "##### left(배열의 선택할 범위의 시작 인덱스)\n",
    "##### right(배열의 선택할 범위의 끝 인덱스)\n",
    "##### k(찾은 k번째로 작은 값)\n",
    "\n",
    "### 반환값 : 함수가 호출될 때 찾은 k번째로 작은 값\n",
    "### 함수 설명\n",
    "##### 1행. 주어진 배열 A에서 leftㅔ서 right까지의 범위에서 k번째로 작은 값을 찾는 데 사용\n",
    "##### 2행. 배열 partition함수를 사용하여 분할. pivot을 기준으로 작은 값은 왼쪽, 큰 값은 오른쪽에 위치하도록 배열을 재배치\n",
    "##### 3행. pos와 left사이의 차이가 k - 1과 같다면 피벗이 k번째로 작은 값임. \n",
    "##### 4행. pos와 left사이의 차이가 k - 1 보다 크다면, k번쨰로 작은 값이 왼쪽 부분 배열에 위차한다는 것을 의미\n",
    "##### 5행. 3,4행의 경우에 해댱하지 않는 경우, k번째로 작은 값이 오른쪽 부분 배열에 위치 한다는 것을 의미"
   ]
  },
  {
   "cell_type": "markdown",
   "metadata": {},
   "source": [
    "### 05. 코드"
   ]
  },
  {
   "cell_type": "code",
   "execution_count": 1,
   "metadata": {},
   "outputs": [],
   "source": [
    "def quick_select(A, left, right, k):\n",
    "    pos = partition(A, left, right)\n",
    "\n",
    "    if pos - left == k - 1:\n",
    "        return A[pos]\n",
    "    elif pos - left > k - 1:\n",
    "        return quick_select(A, left, pos - 1, k)\n",
    "    else:\n",
    "        return quick_select(A, pos + 1, right, k - pos + left - 1)"
   ]
  },
  {
   "cell_type": "markdown",
   "metadata": {},
   "source": [
    "### 06. 테스트 코드"
   ]
  },
  {
   "cell_type": "code",
   "execution_count": 1,
   "metadata": {},
   "outputs": [
    {
     "name": "stdout",
     "output_type": "stream",
     "text": [
      "입력 리스트 = [12, 3, 5, 7, 4, 19, 26, 23, 15]\n",
      "3번째 작은 수: 5\n",
      "6번째 작은 수: 15\n"
     ]
    }
   ],
   "source": [
    "def partition(A, left, right):\n",
    "    pivot = A[right] \n",
    "    i = left - 1\n",
    "\n",
    "    for j in range(left, right):\n",
    "        if A[j] <= pivot:\n",
    "            i += 1\n",
    "            A[i], A[j] = A[j], A[i] \n",
    "\n",
    "    A[i + 1], A[right] = A[right], A[i + 1]  \n",
    "    return i + 1 \n",
    "\n",
    "def quick_select(A, left, right, k):\n",
    "    if left == right:\n",
    "        return A[left]\n",
    "\n",
    "    pos = partition(A, left, right)\n",
    "\n",
    "    if pos - left == k - 1:\n",
    "        return A[pos]\n",
    "    elif pos - left > k - 1:\n",
    "        return quick_select(A, left, pos - 1, k)\n",
    "    else:\n",
    "        return quick_select(A, pos + 1, right, k - pos + left - 1)\n",
    "\n",
    "array = [12, 3, 5, 7, 4, 19, 26, 23, 15]\n",
    "print(\"입력 리스트 =\", array)\n",
    "n = len(array)\n",
    "print(\"3번째 작은 수:\", quick_select(array, 0, n - 1, 3))\n",
    "print(\"6번째 작은 수:\", quick_select(array, 0, n - 1, 6))\n"
   ]
  },
  {
   "cell_type": "markdown",
   "metadata": {},
   "source": [
    "### 08. 복잡도 분석\n",
    "O(n)"
   ]
  },
  {
   "cell_type": "markdown",
   "metadata": {},
   "source": [
    "### 09. 협력 내용\n",
    "각자 푸는 단계에 대해 이해를 못하는 부분이 있으면 실습시간에 서로 물어보면서 문제를 풀어나갔습니다."
   ]
  }
 ],
 "metadata": {
  "kernelspec": {
   "display_name": "Python 3",
   "language": "python",
   "name": "python3"
  },
  "language_info": {
   "codemirror_mode": {
    "name": "ipython",
    "version": 3
   },
   "file_extension": ".py",
   "mimetype": "text/x-python",
   "name": "python",
   "nbconvert_exporter": "python",
   "pygments_lexer": "ipython3",
   "version": "3.11.9"
  }
 },
 "nbformat": 4,
 "nbformat_minor": 2
}
