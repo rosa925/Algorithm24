{
 "cells": [
  {
   "cell_type": "markdown",
   "metadata": {},
   "source": [
    "### 1) 문제 정의 (MD)"
   ]
  },
  {
   "cell_type": "markdown",
   "metadata": {},
   "source": [
    "그래프 순회에 완전 탐색의 개념을 적용함녀 모든 정점을 체계적으로 방문할 수 있는 두 가지 중요한 방법을 얻을 수 있다. 이것은 깊이 우선 탐색(depth first search, DFS)과 너비 우선 탐색(breadth first search, BFS)이다."
   ]
  },
  {
   "cell_type": "markdown",
   "metadata": {},
   "source": [
    "### 2) 알고리즘 설명  (MD)"
   ]
  },
  {
   "cell_type": "markdown",
   "metadata": {},
   "source": [
    "너비 우선 탐색은 시작 정점으로부터 가까운 정점을 먼저 방문하고 멀리 떨어져 있는 정점을 나중에 방문하는 순회 방법이다. 너비 우선 탐색을 위해서는 가까운 거리에 있는 정점들을 차례로 저장하고, 들어간 순서대로 꺼낼 수 있는 자료 구조가 필요한데, 큐 구조가 적합하다."
   ]
  },
  {
   "cell_type": "markdown",
   "metadata": {},
   "source": [
    "###  3) 손으로 푼 예제 (MD, 이미지 삽입)"
   ]
  },
  {
   "cell_type": "markdown",
   "metadata": {},
   "source": []
  },
  {
   "cell_type": "markdown",
   "metadata": {},
   "source": [
    "### 4) 알고리즘 개요(입력 변수, 출력, 알고리즘 개요) (MD)"
   ]
  },
  {
   "cell_type": "markdown",
   "metadata": {},
   "source": [
    "##### 3행 : 맨 처음에는 start만 방문한 정점\n",
    "##### 4행 : 파이썬 큐 모듈의 큐 객체 생성\n",
    "##### 6행 : 큐에 항목이 있을 때 까지\n",
    "##### 7행 : 큐에서 하나의 정점 v를 빼냄\n",
    "##### 9행 : nbr = {v의 인접정점} - {방문정점}\n",
    "##### 10~12행 : 갈 수 있는 모든 인접 정점에서 u를 방문하고 마지막으로 u를 큐에 삽입"
   ]
  },
  {
   "cell_type": "markdown",
   "metadata": {},
   "source": [
    "### 5) 알고리즘 코드 (PY,C)"
   ]
  },
  {
   "cell_type": "code",
   "execution_count": 1,
   "metadata": {},
   "outputs": [],
   "source": [
    "import queue\n",
    "def bfs(graph, start):\n",
    "    visited = { start }\n",
    "    que = queue.Queue()\n",
    "    que.put(start)\n",
    "    while not que.empty():\n",
    "        v = que.get()\n",
    "        print(v, end= \" \")\n",
    "        nbr = sorted(graph[v] - visited)\n",
    "        for u in nbr:\n",
    "            visited.add(u)\n",
    "            que.put(u)"
   ]
  },
  {
   "cell_type": "markdown",
   "metadata": {},
   "source": [
    "### 6) 테스트 코드  (PY,C) , 입력을 바꾸어서"
   ]
  },
  {
   "cell_type": "code",
   "execution_count": 2,
   "metadata": {},
   "outputs": [
    {
     "name": "stdout",
     "output_type": "stream",
     "text": [
      "BFS :  A B C D E F G H \n"
     ]
    }
   ],
   "source": [
    "import queue\n",
    "def bfs(graph, start):\n",
    "    visited = { start }\n",
    "    que = queue.Queue()\n",
    "    que.put(start)\n",
    "    while not que.empty():\n",
    "        v = que.get()\n",
    "        print(v, end= \" \")\n",
    "        nbr = sorted(graph[v] - visited)\n",
    "        for u in nbr:\n",
    "            visited.add(u)\n",
    "            que.put(u)\n",
    "\n",
    "mygraph =  {\"A\":{\"B\", \"C\"}, \"B\":{\"A\", \"D\"}, \"C\":{\"A\", \"D\", \"E\"}, \"D\":{\"B\", \"C\", \"F\"}, \"E\":{\"C\", \"G\", \"H\"}, \"F\":{\"D\"}, \"G\":{\"E\", \"H\"}, \"H\":{\"E\", \"G\"}}\n",
    "\n",
    "print('BFS : ', end= \" \")\n",
    "bfs(mygraph, \"A\")\n",
    "print()"
   ]
  },
  {
   "cell_type": "markdown",
   "metadata": {},
   "source": [
    "### 7) 수행 결과 (MD, 결과 캡춰하여 이미지로 삽입)"
   ]
  },
  {
   "cell_type": "markdown",
   "metadata": {},
   "source": []
  },
  {
   "cell_type": "markdown",
   "metadata": {},
   "source": [
    "### 8) 복잡도 분석"
   ]
  },
  {
   "cell_type": "markdown",
   "metadata": {},
   "source": [
    "인접 리스트로 표현된 그래프에 대한 너비 우선 탐색 알고리즘 3.7의 복잡도는 O(n+e)이다. 인접 행렬로 표현한 그래프에서도 너비 우선 탐색을 수행할 수 있는데, 이 경우 시간 복잡도는 O(n^2)이 된다. 너비 우선 탐색도 깊이 우선 탐색과 같이 희소 그래프라면 인접리스트로 그래프를 표현하고 알고리즘을 적용하는 것이 더 효율적이다."
   ]
  },
  {
   "cell_type": "markdown",
   "metadata": {},
   "source": [
    "### 9) 조별 협력 내용 (상호 지도)"
   ]
  },
  {
   "cell_type": "markdown",
   "metadata": {},
   "source": [
    "각자 푸는 단계에 대해 이해를 못하는 부분이 있으면 실습시간에 서로 물어보면서 문제를 풀어나갔습니다."
   ]
  }
 ],
 "metadata": {
  "kernelspec": {
   "display_name": "Python 3",
   "language": "python",
   "name": "python3"
  },
  "language_info": {
   "codemirror_mode": {
    "name": "ipython",
    "version": 3
   },
   "file_extension": ".py",
   "mimetype": "text/x-python",
   "name": "python",
   "nbconvert_exporter": "python",
   "pygments_lexer": "ipython3",
   "version": "3.11.8"
  }
 },
 "nbformat": 4,
 "nbformat_minor": 2
}
