{
 "cells": [
  {
   "cell_type": "code",
   "execution_count": 3,
   "metadata": {},
   "outputs": [],
   "source": [
    "from queue import Queue\n",
    "def radix_sort(A) :\n",
    "    queues = []\n",
    "    for i in range(BUCKETS) :\n",
    "        queues.append(Queue())\n",
    "\n",
    "    n = len(A)\n",
    "    factor = 1\n",
    "    for d in range(DIGITS) :\n",
    "        for i in range(n) : \n",
    "            queues[(A[i]//factor) % BUCKETS].put(A[i])\n",
    "        j = 0\n",
    "        for b in range(BUCKETS) :\n",
    "            while not queues[b].empty() :\n",
    "                A[j] = queues[b].get()\n",
    "                j += 1\n",
    "        factor *= BUCKETS\n",
    "        print(\"step\", d+1, A)"
   ]
  },
  {
   "cell_type": "code",
   "execution_count": 5,
   "metadata": {},
   "outputs": [
    {
     "name": "stdout",
     "output_type": "stream",
     "text": [
      "step 1 [4670, 7592, 6494, 6504, 3885, 1155, 7946, 2838, 4258, 7359]\n",
      "step 2 [6504, 2838, 7946, 1155, 4258, 7359, 4670, 3885, 7592, 6494]\n",
      "step 3 [1155, 4258, 7359, 6494, 6504, 7592, 4670, 2838, 3885, 7946]\n",
      "step 4 [1155, 2838, 3885, 4258, 4670, 6494, 6504, 7359, 7592, 7946]\n",
      "Radix:  [1155, 2838, 3885, 4258, 4670, 6494, 6504, 7359, 7592, 7946]\n"
     ]
    }
   ],
   "source": [
    "import random\n",
    "BUCKETS = 10\n",
    "DIGITS = 4\n",
    "data = []\n",
    "for i in range(10) :\n",
    "    data.append(random.randint(1,9999))\n",
    "radix_sort(data)\n",
    "print(\"Radix: \", data)"
   ]
  }
 ],
 "metadata": {
  "kernelspec": {
   "display_name": "base",
   "language": "python",
   "name": "python3"
  },
  "language_info": {
   "codemirror_mode": {
    "name": "ipython",
    "version": 3
   },
   "file_extension": ".py",
   "mimetype": "text/x-python",
   "name": "python",
   "nbconvert_exporter": "python",
   "pygments_lexer": "ipython3",
   "version": "3.11.7"
  }
 },
 "nbformat": 4,
 "nbformat_minor": 2
}
