{
 "cells": [
  {
   "cell_type": "markdown",
   "metadata": {},
   "source": [
    "#### A=(60KG, 10만원), B=(100KG,20만원), C=(120KG,30만원)의 세 물건이 있을 때 탐욕적 기법의 분할 가능한 배낭 채우기 알고리즘으로 용량 50KG인 배낭을 채우는 최적의 방법을 구하라."
   ]
  },
  {
   "cell_type": "code",
   "execution_count": 1,
   "metadata": {},
   "outputs": [
    {
     "name": "stdout",
     "output_type": "stream",
     "text": [
      "최적의 가치: 125000.0원\n"
     ]
    }
   ],
   "source": [
    "def fractional_knapsack(items, capacity):\n",
    "    # 단위 무게당 가치를 계산하고, 가치가 높은 순서로 정렬\n",
    "    items = sorted(items, key=lambda x: x[1]/x[0], reverse=True)\n",
    "    \n",
    "    total_value = 0  # 배낭의 총 가치를 저장할 변수\n",
    "    for weight, value in items:\n",
    "        if capacity >= weight:\n",
    "            # 물건을 전부 배낭에 넣을 수 있을 때\n",
    "            total_value += value\n",
    "            capacity -= weight\n",
    "        else:\n",
    "            # 물건의 일부만 배낭에 넣을 수 있을 때\n",
    "            total_value += value * (capacity / weight)\n",
    "            break\n",
    "    \n",
    "    return total_value\n",
    "\n",
    "# 물건 리스트 (무게, 가치)\n",
    "items = [(60, 100000), (100, 200000), (120, 300000)]\n",
    "capacity = 50\n",
    "\n",
    "# 최적의 가치 계산\n",
    "optimal_value = fractional_knapsack(items, capacity)\n",
    "print(f\"최적의 가치: {optimal_value}원\")"
   ]
  }
 ],
 "metadata": {
  "kernelspec": {
   "display_name": "Python 3",
   "language": "python",
   "name": "python3"
  },
  "language_info": {
   "codemirror_mode": {
    "name": "ipython",
    "version": 3
   },
   "file_extension": ".py",
   "mimetype": "text/x-python",
   "name": "python",
   "nbconvert_exporter": "python",
   "pygments_lexer": "ipython3",
   "version": "3.11.9"
  }
 },
 "nbformat": 4,
 "nbformat_minor": 2
}
