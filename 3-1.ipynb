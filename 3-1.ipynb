{
 "cells": [
  {
   "cell_type": "code",
   "execution_count": 2,
   "metadata": {},
   "outputs": [
    {
     "name": "stdout",
     "output_type": "stream",
     "text": [
      "original [5, 3, 8, 4, 9, 1, 6, 2, 7]\n",
      " step  1 = [1, 3, 8, 4, 9, 5, 6, 2, 7]\n",
      " step  2 = [1, 2, 8, 4, 9, 5, 6, 3, 7]\n",
      " step  3 = [1, 2, 3, 4, 9, 5, 6, 8, 7]\n",
      " step  4 = [1, 2, 3, 4, 9, 5, 6, 8, 7]\n",
      " step  5 = [1, 2, 3, 4, 5, 9, 6, 8, 7]\n",
      " step  6 = [1, 2, 3, 4, 5, 6, 9, 8, 7]\n",
      " step  7 = [1, 2, 3, 4, 5, 6, 7, 8, 9]\n",
      " step  8 = [1, 2, 3, 4, 5, 6, 7, 8, 9]\n",
      "selection :  [1, 2, 3, 4, 5, 6, 7, 8, 9]\n"
     ]
    }
   ],
   "source": [
    "def printstep(arr, val):\n",
    "    print(\" step %2d = \" % val, end='')\n",
    "    print(arr)\n",
    "\n",
    "def selection(A):\n",
    "    n=len(A)\n",
    "    for i in range(n-1):\n",
    "        least =i\n",
    "        for j in range(i+1, n):\n",
    "            if(A[j]<A[least]):\n",
    "                least =j\n",
    "        A[i], A[least] = A[least], A[i]\n",
    "        printstep(A, i+1)\n",
    "\n",
    "data = [5,3,8,4,9,1,6,2,7]\n",
    "print(\"original\", data)\n",
    "selection(data)\n",
    "print(\"selection : \",data)"
   ]
  }
 ],
 "metadata": {
  "kernelspec": {
   "display_name": "Python 3",
   "language": "python",
   "name": "python3"
  },
  "language_info": {
   "codemirror_mode": {
    "name": "ipython",
    "version": 3
   },
   "file_extension": ".py",
   "mimetype": "text/x-python",
   "name": "python",
   "nbconvert_exporter": "python",
   "pygments_lexer": "ipython3",
   "version": "3.12.2"
  }
 },
 "nbformat": 4,
 "nbformat_minor": 2
}
