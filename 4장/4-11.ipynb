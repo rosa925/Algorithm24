{
 "cells": [
  {
   "cell_type": "code",
   "execution_count": 1,
   "metadata": {},
   "outputs": [
    {
     "name": "stdout",
     "output_type": "stream",
     "text": [
      "입력 리스트 = [12, 3, 5, 7, 4, 19, 26, 23, 15]\n",
      "3번째 작은 수: 5\n",
      "6번째 작은 수: 15\n"
     ]
    }
   ],
   "source": [
    "def partition(A, left, right):\n",
    "    pivot = A[right] \n",
    "    i = left - 1\n",
    "\n",
    "    for j in range(left, right):\n",
    "        if A[j] <= pivot:\n",
    "            i += 1\n",
    "            A[i], A[j] = A[j], A[i] \n",
    "\n",
    "    A[i + 1], A[right] = A[right], A[i + 1]  \n",
    "    return i + 1 \n",
    "\n",
    "def quick_select(A, left, right, k):\n",
    "    if left == right:\n",
    "        return A[left]\n",
    "\n",
    "    pos = partition(A, left, right)\n",
    "\n",
    "    if pos - left == k - 1:\n",
    "        return A[pos]\n",
    "    elif pos - left > k - 1:\n",
    "        return quick_select(A, left, pos - 1, k)\n",
    "    else:\n",
    "        return quick_select(A, pos + 1, right, k - pos + left - 1)\n",
    "\n",
    "array = [12, 3, 5, 7, 4, 19, 26, 23, 15]\n",
    "print(\"입력 리스트 =\", array)\n",
    "n = len(array)\n",
    "print(\"3번째 작은 수:\", quick_select(array, 0, n - 1, 3))\n",
    "print(\"6번째 작은 수:\", quick_select(array, 0, n - 1, 6))"
   ]
  }
 ],
 "metadata": {
  "kernelspec": {
   "display_name": "Python 3",
   "language": "python",
   "name": "python3"
  },
  "language_info": {
   "codemirror_mode": {
    "name": "ipython",
    "version": 3
   },
   "file_extension": ".py",
   "mimetype": "text/x-python",
   "name": "python",
   "nbconvert_exporter": "python",
   "pygments_lexer": "ipython3",
   "version": "3.11.9"
  }
 },
 "nbformat": 4,
 "nbformat_minor": 2
}
