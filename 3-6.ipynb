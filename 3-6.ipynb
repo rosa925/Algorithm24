{
 "cells": [
  {
   "cell_type": "code",
   "execution_count": 2,
   "metadata": {},
   "outputs": [
    {
     "name": "stdout",
     "output_type": "stream",
     "text": [
      "DFS:ABDFCEGH"
     ]
    }
   ],
   "source": [
    "def dfs(graph, start, visited):\n",
    "    if start not in visited:\n",
    "        visited.add(start)\n",
    "        print(start, end='')  \n",
    "        nbr = graph[start] - visited  \n",
    "        for v in nbr:\n",
    "            dfs(graph, v, visited)\n",
    "\n",
    "mygraph = {\"A\": {\"B\", \"C\"},\n",
    "           \"B\": {\"A\", \"D\"},\n",
    "           \"C\": {\"A\", \"D\", \"E\"},\n",
    "           \"D\": {\"B\", \"C\", \"F\"},\n",
    "           \"E\": {\"C\", \"G\", \"H\"},\n",
    "           \"F\": {\"D\"},\n",
    "           \"G\": {\"E\", \"H\"},\n",
    "           \"H\": {\"E\", \"G\"},\n",
    "           }\n",
    "print('DFS:', end='')\n",
    "dfs(mygraph, \"A\", set())"
   ]
  }
 ],
 "metadata": {
  "kernelspec": {
   "display_name": "Python 3",
   "language": "python",
   "name": "python3"
  },
  "language_info": {
   "codemirror_mode": {
    "name": "ipython",
    "version": 3
   },
   "file_extension": ".py",
   "mimetype": "text/x-python",
   "name": "python",
   "nbconvert_exporter": "python",
   "pygments_lexer": "ipython3",
   "version": "3.12.2"
  }
 },
 "nbformat": 4,
 "nbformat_minor": 2
}
